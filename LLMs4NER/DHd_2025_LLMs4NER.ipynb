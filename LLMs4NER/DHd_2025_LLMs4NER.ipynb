{
  "nbformat": 4,
  "nbformat_minor": 0,
  "metadata": {
    "colab": {
      "provenance": [],
      "toc_visible": true
    },
    "kernelspec": {
      "name": "python3",
      "display_name": "Python 3"
    },
    "language_info": {
      "name": "python"
    },
    "widgets": {
      "application/vnd.jupyter.widget-state+json": {
        "e234691287d64fc8a2c13e774c57fdd3": {
          "model_module": "@jupyter-widgets/controls",
          "model_name": "HBoxModel",
          "model_module_version": "1.5.0",
          "state": {
            "_dom_classes": [],
            "_model_module": "@jupyter-widgets/controls",
            "_model_module_version": "1.5.0",
            "_model_name": "HBoxModel",
            "_view_count": null,
            "_view_module": "@jupyter-widgets/controls",
            "_view_module_version": "1.5.0",
            "_view_name": "HBoxView",
            "box_style": "",
            "children": [
              "IPY_MODEL_1a7e7f24a14f4ede8b3a653393e694a5",
              "IPY_MODEL_f117fcf2ec3144038480ef6056ef3f5f",
              "IPY_MODEL_3d868d0fcdba49b8959e2b6d31d8324b"
            ],
            "layout": "IPY_MODEL_b0e6ded5d8a24e02a1d31241f18da226"
          }
        },
        "1a7e7f24a14f4ede8b3a653393e694a5": {
          "model_module": "@jupyter-widgets/controls",
          "model_name": "HTMLModel",
          "model_module_version": "1.5.0",
          "state": {
            "_dom_classes": [],
            "_model_module": "@jupyter-widgets/controls",
            "_model_module_version": "1.5.0",
            "_model_name": "HTMLModel",
            "_view_count": null,
            "_view_module": "@jupyter-widgets/controls",
            "_view_module_version": "1.5.0",
            "_view_name": "HTMLView",
            "description": "",
            "description_tooltip": null,
            "layout": "IPY_MODEL_7eaa42507c29480ca083b8cd5625ecfb",
            "placeholder": "​",
            "style": "IPY_MODEL_c1cefac5e96043d18006ac625e2382c1",
            "value": "modules.json: 100%"
          }
        },
        "f117fcf2ec3144038480ef6056ef3f5f": {
          "model_module": "@jupyter-widgets/controls",
          "model_name": "FloatProgressModel",
          "model_module_version": "1.5.0",
          "state": {
            "_dom_classes": [],
            "_model_module": "@jupyter-widgets/controls",
            "_model_module_version": "1.5.0",
            "_model_name": "FloatProgressModel",
            "_view_count": null,
            "_view_module": "@jupyter-widgets/controls",
            "_view_module_version": "1.5.0",
            "_view_name": "ProgressView",
            "bar_style": "success",
            "description": "",
            "description_tooltip": null,
            "layout": "IPY_MODEL_33a49a74c5fd4a58a68ebae2cd94c98a",
            "max": 255,
            "min": 0,
            "orientation": "horizontal",
            "style": "IPY_MODEL_8a37fd8437384d399b301801db068c3e",
            "value": 255
          }
        },
        "3d868d0fcdba49b8959e2b6d31d8324b": {
          "model_module": "@jupyter-widgets/controls",
          "model_name": "HTMLModel",
          "model_module_version": "1.5.0",
          "state": {
            "_dom_classes": [],
            "_model_module": "@jupyter-widgets/controls",
            "_model_module_version": "1.5.0",
            "_model_name": "HTMLModel",
            "_view_count": null,
            "_view_module": "@jupyter-widgets/controls",
            "_view_module_version": "1.5.0",
            "_view_name": "HTMLView",
            "description": "",
            "description_tooltip": null,
            "layout": "IPY_MODEL_ec3dc9c300574c89be22e39deedac7ee",
            "placeholder": "​",
            "style": "IPY_MODEL_6cd09a122b5943b6a0192fef13d1aed0",
            "value": " 255/255 [00:00&lt;00:00, 10.8kB/s]"
          }
        },
        "b0e6ded5d8a24e02a1d31241f18da226": {
          "model_module": "@jupyter-widgets/base",
          "model_name": "LayoutModel",
          "model_module_version": "1.2.0",
          "state": {
            "_model_module": "@jupyter-widgets/base",
            "_model_module_version": "1.2.0",
            "_model_name": "LayoutModel",
            "_view_count": null,
            "_view_module": "@jupyter-widgets/base",
            "_view_module_version": "1.2.0",
            "_view_name": "LayoutView",
            "align_content": null,
            "align_items": null,
            "align_self": null,
            "border": null,
            "bottom": null,
            "display": null,
            "flex": null,
            "flex_flow": null,
            "grid_area": null,
            "grid_auto_columns": null,
            "grid_auto_flow": null,
            "grid_auto_rows": null,
            "grid_column": null,
            "grid_gap": null,
            "grid_row": null,
            "grid_template_areas": null,
            "grid_template_columns": null,
            "grid_template_rows": null,
            "height": null,
            "justify_content": null,
            "justify_items": null,
            "left": null,
            "margin": null,
            "max_height": null,
            "max_width": null,
            "min_height": null,
            "min_width": null,
            "object_fit": null,
            "object_position": null,
            "order": null,
            "overflow": null,
            "overflow_x": null,
            "overflow_y": null,
            "padding": null,
            "right": null,
            "top": null,
            "visibility": null,
            "width": null
          }
        },
        "7eaa42507c29480ca083b8cd5625ecfb": {
          "model_module": "@jupyter-widgets/base",
          "model_name": "LayoutModel",
          "model_module_version": "1.2.0",
          "state": {
            "_model_module": "@jupyter-widgets/base",
            "_model_module_version": "1.2.0",
            "_model_name": "LayoutModel",
            "_view_count": null,
            "_view_module": "@jupyter-widgets/base",
            "_view_module_version": "1.2.0",
            "_view_name": "LayoutView",
            "align_content": null,
            "align_items": null,
            "align_self": null,
            "border": null,
            "bottom": null,
            "display": null,
            "flex": null,
            "flex_flow": null,
            "grid_area": null,
            "grid_auto_columns": null,
            "grid_auto_flow": null,
            "grid_auto_rows": null,
            "grid_column": null,
            "grid_gap": null,
            "grid_row": null,
            "grid_template_areas": null,
            "grid_template_columns": null,
            "grid_template_rows": null,
            "height": null,
            "justify_content": null,
            "justify_items": null,
            "left": null,
            "margin": null,
            "max_height": null,
            "max_width": null,
            "min_height": null,
            "min_width": null,
            "object_fit": null,
            "object_position": null,
            "order": null,
            "overflow": null,
            "overflow_x": null,
            "overflow_y": null,
            "padding": null,
            "right": null,
            "top": null,
            "visibility": null,
            "width": null
          }
        },
        "c1cefac5e96043d18006ac625e2382c1": {
          "model_module": "@jupyter-widgets/controls",
          "model_name": "DescriptionStyleModel",
          "model_module_version": "1.5.0",
          "state": {
            "_model_module": "@jupyter-widgets/controls",
            "_model_module_version": "1.5.0",
            "_model_name": "DescriptionStyleModel",
            "_view_count": null,
            "_view_module": "@jupyter-widgets/base",
            "_view_module_version": "1.2.0",
            "_view_name": "StyleView",
            "description_width": ""
          }
        },
        "33a49a74c5fd4a58a68ebae2cd94c98a": {
          "model_module": "@jupyter-widgets/base",
          "model_name": "LayoutModel",
          "model_module_version": "1.2.0",
          "state": {
            "_model_module": "@jupyter-widgets/base",
            "_model_module_version": "1.2.0",
            "_model_name": "LayoutModel",
            "_view_count": null,
            "_view_module": "@jupyter-widgets/base",
            "_view_module_version": "1.2.0",
            "_view_name": "LayoutView",
            "align_content": null,
            "align_items": null,
            "align_self": null,
            "border": null,
            "bottom": null,
            "display": null,
            "flex": null,
            "flex_flow": null,
            "grid_area": null,
            "grid_auto_columns": null,
            "grid_auto_flow": null,
            "grid_auto_rows": null,
            "grid_column": null,
            "grid_gap": null,
            "grid_row": null,
            "grid_template_areas": null,
            "grid_template_columns": null,
            "grid_template_rows": null,
            "height": null,
            "justify_content": null,
            "justify_items": null,
            "left": null,
            "margin": null,
            "max_height": null,
            "max_width": null,
            "min_height": null,
            "min_width": null,
            "object_fit": null,
            "object_position": null,
            "order": null,
            "overflow": null,
            "overflow_x": null,
            "overflow_y": null,
            "padding": null,
            "right": null,
            "top": null,
            "visibility": null,
            "width": null
          }
        },
        "8a37fd8437384d399b301801db068c3e": {
          "model_module": "@jupyter-widgets/controls",
          "model_name": "ProgressStyleModel",
          "model_module_version": "1.5.0",
          "state": {
            "_model_module": "@jupyter-widgets/controls",
            "_model_module_version": "1.5.0",
            "_model_name": "ProgressStyleModel",
            "_view_count": null,
            "_view_module": "@jupyter-widgets/base",
            "_view_module_version": "1.2.0",
            "_view_name": "StyleView",
            "bar_color": null,
            "description_width": ""
          }
        },
        "ec3dc9c300574c89be22e39deedac7ee": {
          "model_module": "@jupyter-widgets/base",
          "model_name": "LayoutModel",
          "model_module_version": "1.2.0",
          "state": {
            "_model_module": "@jupyter-widgets/base",
            "_model_module_version": "1.2.0",
            "_model_name": "LayoutModel",
            "_view_count": null,
            "_view_module": "@jupyter-widgets/base",
            "_view_module_version": "1.2.0",
            "_view_name": "LayoutView",
            "align_content": null,
            "align_items": null,
            "align_self": null,
            "border": null,
            "bottom": null,
            "display": null,
            "flex": null,
            "flex_flow": null,
            "grid_area": null,
            "grid_auto_columns": null,
            "grid_auto_flow": null,
            "grid_auto_rows": null,
            "grid_column": null,
            "grid_gap": null,
            "grid_row": null,
            "grid_template_areas": null,
            "grid_template_columns": null,
            "grid_template_rows": null,
            "height": null,
            "justify_content": null,
            "justify_items": null,
            "left": null,
            "margin": null,
            "max_height": null,
            "max_width": null,
            "min_height": null,
            "min_width": null,
            "object_fit": null,
            "object_position": null,
            "order": null,
            "overflow": null,
            "overflow_x": null,
            "overflow_y": null,
            "padding": null,
            "right": null,
            "top": null,
            "visibility": null,
            "width": null
          }
        },
        "6cd09a122b5943b6a0192fef13d1aed0": {
          "model_module": "@jupyter-widgets/controls",
          "model_name": "DescriptionStyleModel",
          "model_module_version": "1.5.0",
          "state": {
            "_model_module": "@jupyter-widgets/controls",
            "_model_module_version": "1.5.0",
            "_model_name": "DescriptionStyleModel",
            "_view_count": null,
            "_view_module": "@jupyter-widgets/base",
            "_view_module_version": "1.2.0",
            "_view_name": "StyleView",
            "description_width": ""
          }
        },
        "8ce9b75dc4154526a4936df674a58904": {
          "model_module": "@jupyter-widgets/controls",
          "model_name": "HBoxModel",
          "model_module_version": "1.5.0",
          "state": {
            "_dom_classes": [],
            "_model_module": "@jupyter-widgets/controls",
            "_model_module_version": "1.5.0",
            "_model_name": "HBoxModel",
            "_view_count": null,
            "_view_module": "@jupyter-widgets/controls",
            "_view_module_version": "1.5.0",
            "_view_name": "HBoxView",
            "box_style": "",
            "children": [
              "IPY_MODEL_5a0c2e9f02684af7ae3edd24f87c67b8",
              "IPY_MODEL_bc2fd34201a7461aaf1c0afa694312b6",
              "IPY_MODEL_cc7cabcdcc254bf1b601c7dd17fd3801"
            ],
            "layout": "IPY_MODEL_eb864fdce37a40aeb8fd38b13d74b20e"
          }
        },
        "5a0c2e9f02684af7ae3edd24f87c67b8": {
          "model_module": "@jupyter-widgets/controls",
          "model_name": "HTMLModel",
          "model_module_version": "1.5.0",
          "state": {
            "_dom_classes": [],
            "_model_module": "@jupyter-widgets/controls",
            "_model_module_version": "1.5.0",
            "_model_name": "HTMLModel",
            "_view_count": null,
            "_view_module": "@jupyter-widgets/controls",
            "_view_module_version": "1.5.0",
            "_view_name": "HTMLView",
            "description": "",
            "description_tooltip": null,
            "layout": "IPY_MODEL_29e8a1bcfc474d558d048590b346d50d",
            "placeholder": "​",
            "style": "IPY_MODEL_2dfd383aa1fa415f88220bc229d3841c",
            "value": "config_sentence_transformers.json: 100%"
          }
        },
        "bc2fd34201a7461aaf1c0afa694312b6": {
          "model_module": "@jupyter-widgets/controls",
          "model_name": "FloatProgressModel",
          "model_module_version": "1.5.0",
          "state": {
            "_dom_classes": [],
            "_model_module": "@jupyter-widgets/controls",
            "_model_module_version": "1.5.0",
            "_model_name": "FloatProgressModel",
            "_view_count": null,
            "_view_module": "@jupyter-widgets/controls",
            "_view_module_version": "1.5.0",
            "_view_name": "ProgressView",
            "bar_style": "success",
            "description": "",
            "description_tooltip": null,
            "layout": "IPY_MODEL_71c6a39579f24ce7979caf5664c8ebe6",
            "max": 140,
            "min": 0,
            "orientation": "horizontal",
            "style": "IPY_MODEL_4d7f12036aec4193b8c4ad24ab3d36d5",
            "value": 140
          }
        },
        "cc7cabcdcc254bf1b601c7dd17fd3801": {
          "model_module": "@jupyter-widgets/controls",
          "model_name": "HTMLModel",
          "model_module_version": "1.5.0",
          "state": {
            "_dom_classes": [],
            "_model_module": "@jupyter-widgets/controls",
            "_model_module_version": "1.5.0",
            "_model_name": "HTMLModel",
            "_view_count": null,
            "_view_module": "@jupyter-widgets/controls",
            "_view_module_version": "1.5.0",
            "_view_name": "HTMLView",
            "description": "",
            "description_tooltip": null,
            "layout": "IPY_MODEL_6133e22714c34c20b632201f4c152b3c",
            "placeholder": "​",
            "style": "IPY_MODEL_c14c310fd8aa419898ecc15745097581",
            "value": " 140/140 [00:00&lt;00:00, 9.63kB/s]"
          }
        },
        "eb864fdce37a40aeb8fd38b13d74b20e": {
          "model_module": "@jupyter-widgets/base",
          "model_name": "LayoutModel",
          "model_module_version": "1.2.0",
          "state": {
            "_model_module": "@jupyter-widgets/base",
            "_model_module_version": "1.2.0",
            "_model_name": "LayoutModel",
            "_view_count": null,
            "_view_module": "@jupyter-widgets/base",
            "_view_module_version": "1.2.0",
            "_view_name": "LayoutView",
            "align_content": null,
            "align_items": null,
            "align_self": null,
            "border": null,
            "bottom": null,
            "display": null,
            "flex": null,
            "flex_flow": null,
            "grid_area": null,
            "grid_auto_columns": null,
            "grid_auto_flow": null,
            "grid_auto_rows": null,
            "grid_column": null,
            "grid_gap": null,
            "grid_row": null,
            "grid_template_areas": null,
            "grid_template_columns": null,
            "grid_template_rows": null,
            "height": null,
            "justify_content": null,
            "justify_items": null,
            "left": null,
            "margin": null,
            "max_height": null,
            "max_width": null,
            "min_height": null,
            "min_width": null,
            "object_fit": null,
            "object_position": null,
            "order": null,
            "overflow": null,
            "overflow_x": null,
            "overflow_y": null,
            "padding": null,
            "right": null,
            "top": null,
            "visibility": null,
            "width": null
          }
        },
        "29e8a1bcfc474d558d048590b346d50d": {
          "model_module": "@jupyter-widgets/base",
          "model_name": "LayoutModel",
          "model_module_version": "1.2.0",
          "state": {
            "_model_module": "@jupyter-widgets/base",
            "_model_module_version": "1.2.0",
            "_model_name": "LayoutModel",
            "_view_count": null,
            "_view_module": "@jupyter-widgets/base",
            "_view_module_version": "1.2.0",
            "_view_name": "LayoutView",
            "align_content": null,
            "align_items": null,
            "align_self": null,
            "border": null,
            "bottom": null,
            "display": null,
            "flex": null,
            "flex_flow": null,
            "grid_area": null,
            "grid_auto_columns": null,
            "grid_auto_flow": null,
            "grid_auto_rows": null,
            "grid_column": null,
            "grid_gap": null,
            "grid_row": null,
            "grid_template_areas": null,
            "grid_template_columns": null,
            "grid_template_rows": null,
            "height": null,
            "justify_content": null,
            "justify_items": null,
            "left": null,
            "margin": null,
            "max_height": null,
            "max_width": null,
            "min_height": null,
            "min_width": null,
            "object_fit": null,
            "object_position": null,
            "order": null,
            "overflow": null,
            "overflow_x": null,
            "overflow_y": null,
            "padding": null,
            "right": null,
            "top": null,
            "visibility": null,
            "width": null
          }
        },
        "2dfd383aa1fa415f88220bc229d3841c": {
          "model_module": "@jupyter-widgets/controls",
          "model_name": "DescriptionStyleModel",
          "model_module_version": "1.5.0",
          "state": {
            "_model_module": "@jupyter-widgets/controls",
            "_model_module_version": "1.5.0",
            "_model_name": "DescriptionStyleModel",
            "_view_count": null,
            "_view_module": "@jupyter-widgets/base",
            "_view_module_version": "1.2.0",
            "_view_name": "StyleView",
            "description_width": ""
          }
        },
        "71c6a39579f24ce7979caf5664c8ebe6": {
          "model_module": "@jupyter-widgets/base",
          "model_name": "LayoutModel",
          "model_module_version": "1.2.0",
          "state": {
            "_model_module": "@jupyter-widgets/base",
            "_model_module_version": "1.2.0",
            "_model_name": "LayoutModel",
            "_view_count": null,
            "_view_module": "@jupyter-widgets/base",
            "_view_module_version": "1.2.0",
            "_view_name": "LayoutView",
            "align_content": null,
            "align_items": null,
            "align_self": null,
            "border": null,
            "bottom": null,
            "display": null,
            "flex": null,
            "flex_flow": null,
            "grid_area": null,
            "grid_auto_columns": null,
            "grid_auto_flow": null,
            "grid_auto_rows": null,
            "grid_column": null,
            "grid_gap": null,
            "grid_row": null,
            "grid_template_areas": null,
            "grid_template_columns": null,
            "grid_template_rows": null,
            "height": null,
            "justify_content": null,
            "justify_items": null,
            "left": null,
            "margin": null,
            "max_height": null,
            "max_width": null,
            "min_height": null,
            "min_width": null,
            "object_fit": null,
            "object_position": null,
            "order": null,
            "overflow": null,
            "overflow_x": null,
            "overflow_y": null,
            "padding": null,
            "right": null,
            "top": null,
            "visibility": null,
            "width": null
          }
        },
        "4d7f12036aec4193b8c4ad24ab3d36d5": {
          "model_module": "@jupyter-widgets/controls",
          "model_name": "ProgressStyleModel",
          "model_module_version": "1.5.0",
          "state": {
            "_model_module": "@jupyter-widgets/controls",
            "_model_module_version": "1.5.0",
            "_model_name": "ProgressStyleModel",
            "_view_count": null,
            "_view_module": "@jupyter-widgets/base",
            "_view_module_version": "1.2.0",
            "_view_name": "StyleView",
            "bar_color": null,
            "description_width": ""
          }
        },
        "6133e22714c34c20b632201f4c152b3c": {
          "model_module": "@jupyter-widgets/base",
          "model_name": "LayoutModel",
          "model_module_version": "1.2.0",
          "state": {
            "_model_module": "@jupyter-widgets/base",
            "_model_module_version": "1.2.0",
            "_model_name": "LayoutModel",
            "_view_count": null,
            "_view_module": "@jupyter-widgets/base",
            "_view_module_version": "1.2.0",
            "_view_name": "LayoutView",
            "align_content": null,
            "align_items": null,
            "align_self": null,
            "border": null,
            "bottom": null,
            "display": null,
            "flex": null,
            "flex_flow": null,
            "grid_area": null,
            "grid_auto_columns": null,
            "grid_auto_flow": null,
            "grid_auto_rows": null,
            "grid_column": null,
            "grid_gap": null,
            "grid_row": null,
            "grid_template_areas": null,
            "grid_template_columns": null,
            "grid_template_rows": null,
            "height": null,
            "justify_content": null,
            "justify_items": null,
            "left": null,
            "margin": null,
            "max_height": null,
            "max_width": null,
            "min_height": null,
            "min_width": null,
            "object_fit": null,
            "object_position": null,
            "order": null,
            "overflow": null,
            "overflow_x": null,
            "overflow_y": null,
            "padding": null,
            "right": null,
            "top": null,
            "visibility": null,
            "width": null
          }
        },
        "c14c310fd8aa419898ecc15745097581": {
          "model_module": "@jupyter-widgets/controls",
          "model_name": "DescriptionStyleModel",
          "model_module_version": "1.5.0",
          "state": {
            "_model_module": "@jupyter-widgets/controls",
            "_model_module_version": "1.5.0",
            "_model_name": "DescriptionStyleModel",
            "_view_count": null,
            "_view_module": "@jupyter-widgets/base",
            "_view_module_version": "1.2.0",
            "_view_name": "StyleView",
            "description_width": ""
          }
        },
        "4665c41a4cd8480e91687219f75d97cf": {
          "model_module": "@jupyter-widgets/controls",
          "model_name": "HBoxModel",
          "model_module_version": "1.5.0",
          "state": {
            "_dom_classes": [],
            "_model_module": "@jupyter-widgets/controls",
            "_model_module_version": "1.5.0",
            "_model_name": "HBoxModel",
            "_view_count": null,
            "_view_module": "@jupyter-widgets/controls",
            "_view_module_version": "1.5.0",
            "_view_name": "HBoxView",
            "box_style": "",
            "children": [
              "IPY_MODEL_51612670c0e74a96833e223c287e29e4",
              "IPY_MODEL_1c938b6dc2bc40139035b7ecc3c8e4dd",
              "IPY_MODEL_a1399d07c2a147a1b7b980bc4d42b622"
            ],
            "layout": "IPY_MODEL_d2738e854cfa4fdf949628a7f321c991"
          }
        },
        "51612670c0e74a96833e223c287e29e4": {
          "model_module": "@jupyter-widgets/controls",
          "model_name": "HTMLModel",
          "model_module_version": "1.5.0",
          "state": {
            "_dom_classes": [],
            "_model_module": "@jupyter-widgets/controls",
            "_model_module_version": "1.5.0",
            "_model_name": "HTMLModel",
            "_view_count": null,
            "_view_module": "@jupyter-widgets/controls",
            "_view_module_version": "1.5.0",
            "_view_name": "HTMLView",
            "description": "",
            "description_tooltip": null,
            "layout": "IPY_MODEL_5f5166be95c14aa3aa057f8b845b8506",
            "placeholder": "​",
            "style": "IPY_MODEL_7951fdc62ca44c13bab1961b99fd49bb",
            "value": "README.md: 100%"
          }
        },
        "1c938b6dc2bc40139035b7ecc3c8e4dd": {
          "model_module": "@jupyter-widgets/controls",
          "model_name": "FloatProgressModel",
          "model_module_version": "1.5.0",
          "state": {
            "_dom_classes": [],
            "_model_module": "@jupyter-widgets/controls",
            "_model_module_version": "1.5.0",
            "_model_name": "FloatProgressModel",
            "_view_count": null,
            "_view_module": "@jupyter-widgets/controls",
            "_view_module_version": "1.5.0",
            "_view_name": "ProgressView",
            "bar_style": "success",
            "description": "",
            "description_tooltip": null,
            "layout": "IPY_MODEL_3ebadd8947994006901498980e008e49",
            "max": 71591,
            "min": 0,
            "orientation": "horizontal",
            "style": "IPY_MODEL_bd1f0e9c1b3b4668a8d28a1df3d0cf9a",
            "value": 71591
          }
        },
        "a1399d07c2a147a1b7b980bc4d42b622": {
          "model_module": "@jupyter-widgets/controls",
          "model_name": "HTMLModel",
          "model_module_version": "1.5.0",
          "state": {
            "_dom_classes": [],
            "_model_module": "@jupyter-widgets/controls",
            "_model_module_version": "1.5.0",
            "_model_name": "HTMLModel",
            "_view_count": null,
            "_view_module": "@jupyter-widgets/controls",
            "_view_module_version": "1.5.0",
            "_view_name": "HTMLView",
            "description": "",
            "description_tooltip": null,
            "layout": "IPY_MODEL_48913d09030843e38f39d8fbfb483293",
            "placeholder": "​",
            "style": "IPY_MODEL_608df80170c14f82a07c23f6a90f7790",
            "value": " 71.6k/71.6k [00:00&lt;00:00, 3.65MB/s]"
          }
        },
        "d2738e854cfa4fdf949628a7f321c991": {
          "model_module": "@jupyter-widgets/base",
          "model_name": "LayoutModel",
          "model_module_version": "1.2.0",
          "state": {
            "_model_module": "@jupyter-widgets/base",
            "_model_module_version": "1.2.0",
            "_model_name": "LayoutModel",
            "_view_count": null,
            "_view_module": "@jupyter-widgets/base",
            "_view_module_version": "1.2.0",
            "_view_name": "LayoutView",
            "align_content": null,
            "align_items": null,
            "align_self": null,
            "border": null,
            "bottom": null,
            "display": null,
            "flex": null,
            "flex_flow": null,
            "grid_area": null,
            "grid_auto_columns": null,
            "grid_auto_flow": null,
            "grid_auto_rows": null,
            "grid_column": null,
            "grid_gap": null,
            "grid_row": null,
            "grid_template_areas": null,
            "grid_template_columns": null,
            "grid_template_rows": null,
            "height": null,
            "justify_content": null,
            "justify_items": null,
            "left": null,
            "margin": null,
            "max_height": null,
            "max_width": null,
            "min_height": null,
            "min_width": null,
            "object_fit": null,
            "object_position": null,
            "order": null,
            "overflow": null,
            "overflow_x": null,
            "overflow_y": null,
            "padding": null,
            "right": null,
            "top": null,
            "visibility": null,
            "width": null
          }
        },
        "5f5166be95c14aa3aa057f8b845b8506": {
          "model_module": "@jupyter-widgets/base",
          "model_name": "LayoutModel",
          "model_module_version": "1.2.0",
          "state": {
            "_model_module": "@jupyter-widgets/base",
            "_model_module_version": "1.2.0",
            "_model_name": "LayoutModel",
            "_view_count": null,
            "_view_module": "@jupyter-widgets/base",
            "_view_module_version": "1.2.0",
            "_view_name": "LayoutView",
            "align_content": null,
            "align_items": null,
            "align_self": null,
            "border": null,
            "bottom": null,
            "display": null,
            "flex": null,
            "flex_flow": null,
            "grid_area": null,
            "grid_auto_columns": null,
            "grid_auto_flow": null,
            "grid_auto_rows": null,
            "grid_column": null,
            "grid_gap": null,
            "grid_row": null,
            "grid_template_areas": null,
            "grid_template_columns": null,
            "grid_template_rows": null,
            "height": null,
            "justify_content": null,
            "justify_items": null,
            "left": null,
            "margin": null,
            "max_height": null,
            "max_width": null,
            "min_height": null,
            "min_width": null,
            "object_fit": null,
            "object_position": null,
            "order": null,
            "overflow": null,
            "overflow_x": null,
            "overflow_y": null,
            "padding": null,
            "right": null,
            "top": null,
            "visibility": null,
            "width": null
          }
        },
        "7951fdc62ca44c13bab1961b99fd49bb": {
          "model_module": "@jupyter-widgets/controls",
          "model_name": "DescriptionStyleModel",
          "model_module_version": "1.5.0",
          "state": {
            "_model_module": "@jupyter-widgets/controls",
            "_model_module_version": "1.5.0",
            "_model_name": "DescriptionStyleModel",
            "_view_count": null,
            "_view_module": "@jupyter-widgets/base",
            "_view_module_version": "1.2.0",
            "_view_name": "StyleView",
            "description_width": ""
          }
        },
        "3ebadd8947994006901498980e008e49": {
          "model_module": "@jupyter-widgets/base",
          "model_name": "LayoutModel",
          "model_module_version": "1.2.0",
          "state": {
            "_model_module": "@jupyter-widgets/base",
            "_model_module_version": "1.2.0",
            "_model_name": "LayoutModel",
            "_view_count": null,
            "_view_module": "@jupyter-widgets/base",
            "_view_module_version": "1.2.0",
            "_view_name": "LayoutView",
            "align_content": null,
            "align_items": null,
            "align_self": null,
            "border": null,
            "bottom": null,
            "display": null,
            "flex": null,
            "flex_flow": null,
            "grid_area": null,
            "grid_auto_columns": null,
            "grid_auto_flow": null,
            "grid_auto_rows": null,
            "grid_column": null,
            "grid_gap": null,
            "grid_row": null,
            "grid_template_areas": null,
            "grid_template_columns": null,
            "grid_template_rows": null,
            "height": null,
            "justify_content": null,
            "justify_items": null,
            "left": null,
            "margin": null,
            "max_height": null,
            "max_width": null,
            "min_height": null,
            "min_width": null,
            "object_fit": null,
            "object_position": null,
            "order": null,
            "overflow": null,
            "overflow_x": null,
            "overflow_y": null,
            "padding": null,
            "right": null,
            "top": null,
            "visibility": null,
            "width": null
          }
        },
        "bd1f0e9c1b3b4668a8d28a1df3d0cf9a": {
          "model_module": "@jupyter-widgets/controls",
          "model_name": "ProgressStyleModel",
          "model_module_version": "1.5.0",
          "state": {
            "_model_module": "@jupyter-widgets/controls",
            "_model_module_version": "1.5.0",
            "_model_name": "ProgressStyleModel",
            "_view_count": null,
            "_view_module": "@jupyter-widgets/base",
            "_view_module_version": "1.2.0",
            "_view_name": "StyleView",
            "bar_color": null,
            "description_width": ""
          }
        },
        "48913d09030843e38f39d8fbfb483293": {
          "model_module": "@jupyter-widgets/base",
          "model_name": "LayoutModel",
          "model_module_version": "1.2.0",
          "state": {
            "_model_module": "@jupyter-widgets/base",
            "_model_module_version": "1.2.0",
            "_model_name": "LayoutModel",
            "_view_count": null,
            "_view_module": "@jupyter-widgets/base",
            "_view_module_version": "1.2.0",
            "_view_name": "LayoutView",
            "align_content": null,
            "align_items": null,
            "align_self": null,
            "border": null,
            "bottom": null,
            "display": null,
            "flex": null,
            "flex_flow": null,
            "grid_area": null,
            "grid_auto_columns": null,
            "grid_auto_flow": null,
            "grid_auto_rows": null,
            "grid_column": null,
            "grid_gap": null,
            "grid_row": null,
            "grid_template_areas": null,
            "grid_template_columns": null,
            "grid_template_rows": null,
            "height": null,
            "justify_content": null,
            "justify_items": null,
            "left": null,
            "margin": null,
            "max_height": null,
            "max_width": null,
            "min_height": null,
            "min_width": null,
            "object_fit": null,
            "object_position": null,
            "order": null,
            "overflow": null,
            "overflow_x": null,
            "overflow_y": null,
            "padding": null,
            "right": null,
            "top": null,
            "visibility": null,
            "width": null
          }
        },
        "608df80170c14f82a07c23f6a90f7790": {
          "model_module": "@jupyter-widgets/controls",
          "model_name": "DescriptionStyleModel",
          "model_module_version": "1.5.0",
          "state": {
            "_model_module": "@jupyter-widgets/controls",
            "_model_module_version": "1.5.0",
            "_model_name": "DescriptionStyleModel",
            "_view_count": null,
            "_view_module": "@jupyter-widgets/base",
            "_view_module_version": "1.2.0",
            "_view_name": "StyleView",
            "description_width": ""
          }
        },
        "16ee75248b7d44b1ab7119d415054427": {
          "model_module": "@jupyter-widgets/controls",
          "model_name": "HBoxModel",
          "model_module_version": "1.5.0",
          "state": {
            "_dom_classes": [],
            "_model_module": "@jupyter-widgets/controls",
            "_model_module_version": "1.5.0",
            "_model_name": "HBoxModel",
            "_view_count": null,
            "_view_module": "@jupyter-widgets/controls",
            "_view_module_version": "1.5.0",
            "_view_name": "HBoxView",
            "box_style": "",
            "children": [
              "IPY_MODEL_fb21c6e633c54bc6ab8447514af26346",
              "IPY_MODEL_54c7448e231e440181dd0876154bb6cc",
              "IPY_MODEL_0f7d2cbc6f9444b8b9ddd23edcb6f553"
            ],
            "layout": "IPY_MODEL_03e8c0347b8a47809e5c5dfe4b4c349a"
          }
        },
        "fb21c6e633c54bc6ab8447514af26346": {
          "model_module": "@jupyter-widgets/controls",
          "model_name": "HTMLModel",
          "model_module_version": "1.5.0",
          "state": {
            "_dom_classes": [],
            "_model_module": "@jupyter-widgets/controls",
            "_model_module_version": "1.5.0",
            "_model_name": "HTMLModel",
            "_view_count": null,
            "_view_module": "@jupyter-widgets/controls",
            "_view_module_version": "1.5.0",
            "_view_name": "HTMLView",
            "description": "",
            "description_tooltip": null,
            "layout": "IPY_MODEL_99d7ed8ce97e4554b71ece7a9e1d67df",
            "placeholder": "​",
            "style": "IPY_MODEL_55fa4f6ae2954319b0a2cf2e61318ff4",
            "value": "sentence_bert_config.json: 100%"
          }
        },
        "54c7448e231e440181dd0876154bb6cc": {
          "model_module": "@jupyter-widgets/controls",
          "model_name": "FloatProgressModel",
          "model_module_version": "1.5.0",
          "state": {
            "_dom_classes": [],
            "_model_module": "@jupyter-widgets/controls",
            "_model_module_version": "1.5.0",
            "_model_name": "FloatProgressModel",
            "_view_count": null,
            "_view_module": "@jupyter-widgets/controls",
            "_view_module_version": "1.5.0",
            "_view_name": "ProgressView",
            "bar_style": "success",
            "description": "",
            "description_tooltip": null,
            "layout": "IPY_MODEL_f00122c4e9b74b42864b3875cffa2e42",
            "max": 120,
            "min": 0,
            "orientation": "horizontal",
            "style": "IPY_MODEL_e75f4ec48d78406bb0870d543b06cd0d",
            "value": 120
          }
        },
        "0f7d2cbc6f9444b8b9ddd23edcb6f553": {
          "model_module": "@jupyter-widgets/controls",
          "model_name": "HTMLModel",
          "model_module_version": "1.5.0",
          "state": {
            "_dom_classes": [],
            "_model_module": "@jupyter-widgets/controls",
            "_model_module_version": "1.5.0",
            "_model_name": "HTMLModel",
            "_view_count": null,
            "_view_module": "@jupyter-widgets/controls",
            "_view_module_version": "1.5.0",
            "_view_name": "HTMLView",
            "description": "",
            "description_tooltip": null,
            "layout": "IPY_MODEL_838d11c8bcc745e7ae9c921460b7df2b",
            "placeholder": "​",
            "style": "IPY_MODEL_d0db0c70416b400c84cea612a392acf3",
            "value": " 120/120 [00:00&lt;00:00, 8.39kB/s]"
          }
        },
        "03e8c0347b8a47809e5c5dfe4b4c349a": {
          "model_module": "@jupyter-widgets/base",
          "model_name": "LayoutModel",
          "model_module_version": "1.2.0",
          "state": {
            "_model_module": "@jupyter-widgets/base",
            "_model_module_version": "1.2.0",
            "_model_name": "LayoutModel",
            "_view_count": null,
            "_view_module": "@jupyter-widgets/base",
            "_view_module_version": "1.2.0",
            "_view_name": "LayoutView",
            "align_content": null,
            "align_items": null,
            "align_self": null,
            "border": null,
            "bottom": null,
            "display": null,
            "flex": null,
            "flex_flow": null,
            "grid_area": null,
            "grid_auto_columns": null,
            "grid_auto_flow": null,
            "grid_auto_rows": null,
            "grid_column": null,
            "grid_gap": null,
            "grid_row": null,
            "grid_template_areas": null,
            "grid_template_columns": null,
            "grid_template_rows": null,
            "height": null,
            "justify_content": null,
            "justify_items": null,
            "left": null,
            "margin": null,
            "max_height": null,
            "max_width": null,
            "min_height": null,
            "min_width": null,
            "object_fit": null,
            "object_position": null,
            "order": null,
            "overflow": null,
            "overflow_x": null,
            "overflow_y": null,
            "padding": null,
            "right": null,
            "top": null,
            "visibility": null,
            "width": null
          }
        },
        "99d7ed8ce97e4554b71ece7a9e1d67df": {
          "model_module": "@jupyter-widgets/base",
          "model_name": "LayoutModel",
          "model_module_version": "1.2.0",
          "state": {
            "_model_module": "@jupyter-widgets/base",
            "_model_module_version": "1.2.0",
            "_model_name": "LayoutModel",
            "_view_count": null,
            "_view_module": "@jupyter-widgets/base",
            "_view_module_version": "1.2.0",
            "_view_name": "LayoutView",
            "align_content": null,
            "align_items": null,
            "align_self": null,
            "border": null,
            "bottom": null,
            "display": null,
            "flex": null,
            "flex_flow": null,
            "grid_area": null,
            "grid_auto_columns": null,
            "grid_auto_flow": null,
            "grid_auto_rows": null,
            "grid_column": null,
            "grid_gap": null,
            "grid_row": null,
            "grid_template_areas": null,
            "grid_template_columns": null,
            "grid_template_rows": null,
            "height": null,
            "justify_content": null,
            "justify_items": null,
            "left": null,
            "margin": null,
            "max_height": null,
            "max_width": null,
            "min_height": null,
            "min_width": null,
            "object_fit": null,
            "object_position": null,
            "order": null,
            "overflow": null,
            "overflow_x": null,
            "overflow_y": null,
            "padding": null,
            "right": null,
            "top": null,
            "visibility": null,
            "width": null
          }
        },
        "55fa4f6ae2954319b0a2cf2e61318ff4": {
          "model_module": "@jupyter-widgets/controls",
          "model_name": "DescriptionStyleModel",
          "model_module_version": "1.5.0",
          "state": {
            "_model_module": "@jupyter-widgets/controls",
            "_model_module_version": "1.5.0",
            "_model_name": "DescriptionStyleModel",
            "_view_count": null,
            "_view_module": "@jupyter-widgets/base",
            "_view_module_version": "1.2.0",
            "_view_name": "StyleView",
            "description_width": ""
          }
        },
        "f00122c4e9b74b42864b3875cffa2e42": {
          "model_module": "@jupyter-widgets/base",
          "model_name": "LayoutModel",
          "model_module_version": "1.2.0",
          "state": {
            "_model_module": "@jupyter-widgets/base",
            "_model_module_version": "1.2.0",
            "_model_name": "LayoutModel",
            "_view_count": null,
            "_view_module": "@jupyter-widgets/base",
            "_view_module_version": "1.2.0",
            "_view_name": "LayoutView",
            "align_content": null,
            "align_items": null,
            "align_self": null,
            "border": null,
            "bottom": null,
            "display": null,
            "flex": null,
            "flex_flow": null,
            "grid_area": null,
            "grid_auto_columns": null,
            "grid_auto_flow": null,
            "grid_auto_rows": null,
            "grid_column": null,
            "grid_gap": null,
            "grid_row": null,
            "grid_template_areas": null,
            "grid_template_columns": null,
            "grid_template_rows": null,
            "height": null,
            "justify_content": null,
            "justify_items": null,
            "left": null,
            "margin": null,
            "max_height": null,
            "max_width": null,
            "min_height": null,
            "min_width": null,
            "object_fit": null,
            "object_position": null,
            "order": null,
            "overflow": null,
            "overflow_x": null,
            "overflow_y": null,
            "padding": null,
            "right": null,
            "top": null,
            "visibility": null,
            "width": null
          }
        },
        "e75f4ec48d78406bb0870d543b06cd0d": {
          "model_module": "@jupyter-widgets/controls",
          "model_name": "ProgressStyleModel",
          "model_module_version": "1.5.0",
          "state": {
            "_model_module": "@jupyter-widgets/controls",
            "_model_module_version": "1.5.0",
            "_model_name": "ProgressStyleModel",
            "_view_count": null,
            "_view_module": "@jupyter-widgets/base",
            "_view_module_version": "1.2.0",
            "_view_name": "StyleView",
            "bar_color": null,
            "description_width": ""
          }
        },
        "838d11c8bcc745e7ae9c921460b7df2b": {
          "model_module": "@jupyter-widgets/base",
          "model_name": "LayoutModel",
          "model_module_version": "1.2.0",
          "state": {
            "_model_module": "@jupyter-widgets/base",
            "_model_module_version": "1.2.0",
            "_model_name": "LayoutModel",
            "_view_count": null,
            "_view_module": "@jupyter-widgets/base",
            "_view_module_version": "1.2.0",
            "_view_name": "LayoutView",
            "align_content": null,
            "align_items": null,
            "align_self": null,
            "border": null,
            "bottom": null,
            "display": null,
            "flex": null,
            "flex_flow": null,
            "grid_area": null,
            "grid_auto_columns": null,
            "grid_auto_flow": null,
            "grid_auto_rows": null,
            "grid_column": null,
            "grid_gap": null,
            "grid_row": null,
            "grid_template_areas": null,
            "grid_template_columns": null,
            "grid_template_rows": null,
            "height": null,
            "justify_content": null,
            "justify_items": null,
            "left": null,
            "margin": null,
            "max_height": null,
            "max_width": null,
            "min_height": null,
            "min_width": null,
            "object_fit": null,
            "object_position": null,
            "order": null,
            "overflow": null,
            "overflow_x": null,
            "overflow_y": null,
            "padding": null,
            "right": null,
            "top": null,
            "visibility": null,
            "width": null
          }
        },
        "d0db0c70416b400c84cea612a392acf3": {
          "model_module": "@jupyter-widgets/controls",
          "model_name": "DescriptionStyleModel",
          "model_module_version": "1.5.0",
          "state": {
            "_model_module": "@jupyter-widgets/controls",
            "_model_module_version": "1.5.0",
            "_model_name": "DescriptionStyleModel",
            "_view_count": null,
            "_view_module": "@jupyter-widgets/base",
            "_view_module_version": "1.2.0",
            "_view_name": "StyleView",
            "description_width": ""
          }
        },
        "56aac666704341dfb31afc0cf64cf539": {
          "model_module": "@jupyter-widgets/controls",
          "model_name": "HBoxModel",
          "model_module_version": "1.5.0",
          "state": {
            "_dom_classes": [],
            "_model_module": "@jupyter-widgets/controls",
            "_model_module_version": "1.5.0",
            "_model_name": "HBoxModel",
            "_view_count": null,
            "_view_module": "@jupyter-widgets/controls",
            "_view_module_version": "1.5.0",
            "_view_name": "HBoxView",
            "box_style": "",
            "children": [
              "IPY_MODEL_3ac97d4fb9bd4686868bd24bb297ab55",
              "IPY_MODEL_62eb40d9946c475b9d70957e32ffca22",
              "IPY_MODEL_f155fb2eb8af47798727cc47f5734131"
            ],
            "layout": "IPY_MODEL_6a4e1668b544428b8a4f00abdd97ed45"
          }
        },
        "3ac97d4fb9bd4686868bd24bb297ab55": {
          "model_module": "@jupyter-widgets/controls",
          "model_name": "HTMLModel",
          "model_module_version": "1.5.0",
          "state": {
            "_dom_classes": [],
            "_model_module": "@jupyter-widgets/controls",
            "_model_module_version": "1.5.0",
            "_model_name": "HTMLModel",
            "_view_count": null,
            "_view_module": "@jupyter-widgets/controls",
            "_view_module_version": "1.5.0",
            "_view_name": "HTMLView",
            "description": "",
            "description_tooltip": null,
            "layout": "IPY_MODEL_178bec7c146d451a904ca46e9f47b265",
            "placeholder": "​",
            "style": "IPY_MODEL_285e03d3ae054101a046463d4537fb94",
            "value": "config.json: 100%"
          }
        },
        "62eb40d9946c475b9d70957e32ffca22": {
          "model_module": "@jupyter-widgets/controls",
          "model_name": "FloatProgressModel",
          "model_module_version": "1.5.0",
          "state": {
            "_dom_classes": [],
            "_model_module": "@jupyter-widgets/controls",
            "_model_module_version": "1.5.0",
            "_model_name": "FloatProgressModel",
            "_view_count": null,
            "_view_module": "@jupyter-widgets/controls",
            "_view_module_version": "1.5.0",
            "_view_name": "ProgressView",
            "bar_style": "success",
            "description": "",
            "description_tooltip": null,
            "layout": "IPY_MODEL_596756df776c4bfd8e50f0a9201a0e04",
            "max": 2064,
            "min": 0,
            "orientation": "horizontal",
            "style": "IPY_MODEL_2521d5eab4d44c33b03d1093447f9bf1",
            "value": 2064
          }
        },
        "f155fb2eb8af47798727cc47f5734131": {
          "model_module": "@jupyter-widgets/controls",
          "model_name": "HTMLModel",
          "model_module_version": "1.5.0",
          "state": {
            "_dom_classes": [],
            "_model_module": "@jupyter-widgets/controls",
            "_model_module_version": "1.5.0",
            "_model_name": "HTMLModel",
            "_view_count": null,
            "_view_module": "@jupyter-widgets/controls",
            "_view_module_version": "1.5.0",
            "_view_name": "HTMLView",
            "description": "",
            "description_tooltip": null,
            "layout": "IPY_MODEL_d0ed5802417d4461a659bfbed80286aa",
            "placeholder": "​",
            "style": "IPY_MODEL_a4413a28c90d46aaa48b3044499c5906",
            "value": " 2.06k/2.06k [00:00&lt;00:00, 147kB/s]"
          }
        },
        "6a4e1668b544428b8a4f00abdd97ed45": {
          "model_module": "@jupyter-widgets/base",
          "model_name": "LayoutModel",
          "model_module_version": "1.2.0",
          "state": {
            "_model_module": "@jupyter-widgets/base",
            "_model_module_version": "1.2.0",
            "_model_name": "LayoutModel",
            "_view_count": null,
            "_view_module": "@jupyter-widgets/base",
            "_view_module_version": "1.2.0",
            "_view_name": "LayoutView",
            "align_content": null,
            "align_items": null,
            "align_self": null,
            "border": null,
            "bottom": null,
            "display": null,
            "flex": null,
            "flex_flow": null,
            "grid_area": null,
            "grid_auto_columns": null,
            "grid_auto_flow": null,
            "grid_auto_rows": null,
            "grid_column": null,
            "grid_gap": null,
            "grid_row": null,
            "grid_template_areas": null,
            "grid_template_columns": null,
            "grid_template_rows": null,
            "height": null,
            "justify_content": null,
            "justify_items": null,
            "left": null,
            "margin": null,
            "max_height": null,
            "max_width": null,
            "min_height": null,
            "min_width": null,
            "object_fit": null,
            "object_position": null,
            "order": null,
            "overflow": null,
            "overflow_x": null,
            "overflow_y": null,
            "padding": null,
            "right": null,
            "top": null,
            "visibility": null,
            "width": null
          }
        },
        "178bec7c146d451a904ca46e9f47b265": {
          "model_module": "@jupyter-widgets/base",
          "model_name": "LayoutModel",
          "model_module_version": "1.2.0",
          "state": {
            "_model_module": "@jupyter-widgets/base",
            "_model_module_version": "1.2.0",
            "_model_name": "LayoutModel",
            "_view_count": null,
            "_view_module": "@jupyter-widgets/base",
            "_view_module_version": "1.2.0",
            "_view_name": "LayoutView",
            "align_content": null,
            "align_items": null,
            "align_self": null,
            "border": null,
            "bottom": null,
            "display": null,
            "flex": null,
            "flex_flow": null,
            "grid_area": null,
            "grid_auto_columns": null,
            "grid_auto_flow": null,
            "grid_auto_rows": null,
            "grid_column": null,
            "grid_gap": null,
            "grid_row": null,
            "grid_template_areas": null,
            "grid_template_columns": null,
            "grid_template_rows": null,
            "height": null,
            "justify_content": null,
            "justify_items": null,
            "left": null,
            "margin": null,
            "max_height": null,
            "max_width": null,
            "min_height": null,
            "min_width": null,
            "object_fit": null,
            "object_position": null,
            "order": null,
            "overflow": null,
            "overflow_x": null,
            "overflow_y": null,
            "padding": null,
            "right": null,
            "top": null,
            "visibility": null,
            "width": null
          }
        },
        "285e03d3ae054101a046463d4537fb94": {
          "model_module": "@jupyter-widgets/controls",
          "model_name": "DescriptionStyleModel",
          "model_module_version": "1.5.0",
          "state": {
            "_model_module": "@jupyter-widgets/controls",
            "_model_module_version": "1.5.0",
            "_model_name": "DescriptionStyleModel",
            "_view_count": null,
            "_view_module": "@jupyter-widgets/base",
            "_view_module_version": "1.2.0",
            "_view_name": "StyleView",
            "description_width": ""
          }
        },
        "596756df776c4bfd8e50f0a9201a0e04": {
          "model_module": "@jupyter-widgets/base",
          "model_name": "LayoutModel",
          "model_module_version": "1.2.0",
          "state": {
            "_model_module": "@jupyter-widgets/base",
            "_model_module_version": "1.2.0",
            "_model_name": "LayoutModel",
            "_view_count": null,
            "_view_module": "@jupyter-widgets/base",
            "_view_module_version": "1.2.0",
            "_view_name": "LayoutView",
            "align_content": null,
            "align_items": null,
            "align_self": null,
            "border": null,
            "bottom": null,
            "display": null,
            "flex": null,
            "flex_flow": null,
            "grid_area": null,
            "grid_auto_columns": null,
            "grid_auto_flow": null,
            "grid_auto_rows": null,
            "grid_column": null,
            "grid_gap": null,
            "grid_row": null,
            "grid_template_areas": null,
            "grid_template_columns": null,
            "grid_template_rows": null,
            "height": null,
            "justify_content": null,
            "justify_items": null,
            "left": null,
            "margin": null,
            "max_height": null,
            "max_width": null,
            "min_height": null,
            "min_width": null,
            "object_fit": null,
            "object_position": null,
            "order": null,
            "overflow": null,
            "overflow_x": null,
            "overflow_y": null,
            "padding": null,
            "right": null,
            "top": null,
            "visibility": null,
            "width": null
          }
        },
        "2521d5eab4d44c33b03d1093447f9bf1": {
          "model_module": "@jupyter-widgets/controls",
          "model_name": "ProgressStyleModel",
          "model_module_version": "1.5.0",
          "state": {
            "_model_module": "@jupyter-widgets/controls",
            "_model_module_version": "1.5.0",
            "_model_name": "ProgressStyleModel",
            "_view_count": null,
            "_view_module": "@jupyter-widgets/base",
            "_view_module_version": "1.2.0",
            "_view_name": "StyleView",
            "bar_color": null,
            "description_width": ""
          }
        },
        "d0ed5802417d4461a659bfbed80286aa": {
          "model_module": "@jupyter-widgets/base",
          "model_name": "LayoutModel",
          "model_module_version": "1.2.0",
          "state": {
            "_model_module": "@jupyter-widgets/base",
            "_model_module_version": "1.2.0",
            "_model_name": "LayoutModel",
            "_view_count": null,
            "_view_module": "@jupyter-widgets/base",
            "_view_module_version": "1.2.0",
            "_view_name": "LayoutView",
            "align_content": null,
            "align_items": null,
            "align_self": null,
            "border": null,
            "bottom": null,
            "display": null,
            "flex": null,
            "flex_flow": null,
            "grid_area": null,
            "grid_auto_columns": null,
            "grid_auto_flow": null,
            "grid_auto_rows": null,
            "grid_column": null,
            "grid_gap": null,
            "grid_row": null,
            "grid_template_areas": null,
            "grid_template_columns": null,
            "grid_template_rows": null,
            "height": null,
            "justify_content": null,
            "justify_items": null,
            "left": null,
            "margin": null,
            "max_height": null,
            "max_width": null,
            "min_height": null,
            "min_width": null,
            "object_fit": null,
            "object_position": null,
            "order": null,
            "overflow": null,
            "overflow_x": null,
            "overflow_y": null,
            "padding": null,
            "right": null,
            "top": null,
            "visibility": null,
            "width": null
          }
        },
        "a4413a28c90d46aaa48b3044499c5906": {
          "model_module": "@jupyter-widgets/controls",
          "model_name": "DescriptionStyleModel",
          "model_module_version": "1.5.0",
          "state": {
            "_model_module": "@jupyter-widgets/controls",
            "_model_module_version": "1.5.0",
            "_model_name": "DescriptionStyleModel",
            "_view_count": null,
            "_view_module": "@jupyter-widgets/base",
            "_view_module_version": "1.2.0",
            "_view_name": "StyleView",
            "description_width": ""
          }
        },
        "e69a4841de16471582d81495faa64ba6": {
          "model_module": "@jupyter-widgets/controls",
          "model_name": "HBoxModel",
          "model_module_version": "1.5.0",
          "state": {
            "_dom_classes": [],
            "_model_module": "@jupyter-widgets/controls",
            "_model_module_version": "1.5.0",
            "_model_name": "HBoxModel",
            "_view_count": null,
            "_view_module": "@jupyter-widgets/controls",
            "_view_module_version": "1.5.0",
            "_view_name": "HBoxView",
            "box_style": "",
            "children": [
              "IPY_MODEL_60e36a4aec734674b58e113a0992f937",
              "IPY_MODEL_932d221eb6d542d6b454f92a5ed48422",
              "IPY_MODEL_30278ed0b905413e9919f61fb58ca422"
            ],
            "layout": "IPY_MODEL_d8a23e640fd5406897c99ada4e43260a"
          }
        },
        "60e36a4aec734674b58e113a0992f937": {
          "model_module": "@jupyter-widgets/controls",
          "model_name": "HTMLModel",
          "model_module_version": "1.5.0",
          "state": {
            "_dom_classes": [],
            "_model_module": "@jupyter-widgets/controls",
            "_model_module_version": "1.5.0",
            "_model_name": "HTMLModel",
            "_view_count": null,
            "_view_module": "@jupyter-widgets/controls",
            "_view_module_version": "1.5.0",
            "_view_name": "HTMLView",
            "description": "",
            "description_tooltip": null,
            "layout": "IPY_MODEL_fb3f47c14c824dbdb2e208490b5ce0c6",
            "placeholder": "​",
            "style": "IPY_MODEL_34a594ef868b4c63a6f9a4abd3bf7fe9",
            "value": "configuration_hf_nomic_bert.py: 100%"
          }
        },
        "932d221eb6d542d6b454f92a5ed48422": {
          "model_module": "@jupyter-widgets/controls",
          "model_name": "FloatProgressModel",
          "model_module_version": "1.5.0",
          "state": {
            "_dom_classes": [],
            "_model_module": "@jupyter-widgets/controls",
            "_model_module_version": "1.5.0",
            "_model_name": "FloatProgressModel",
            "_view_count": null,
            "_view_module": "@jupyter-widgets/controls",
            "_view_module_version": "1.5.0",
            "_view_name": "ProgressView",
            "bar_style": "success",
            "description": "",
            "description_tooltip": null,
            "layout": "IPY_MODEL_209a90ff0d594175b5eef05e7719696b",
            "max": 1958,
            "min": 0,
            "orientation": "horizontal",
            "style": "IPY_MODEL_8843cf87d3164509945f6d0b43a55d2e",
            "value": 1958
          }
        },
        "30278ed0b905413e9919f61fb58ca422": {
          "model_module": "@jupyter-widgets/controls",
          "model_name": "HTMLModel",
          "model_module_version": "1.5.0",
          "state": {
            "_dom_classes": [],
            "_model_module": "@jupyter-widgets/controls",
            "_model_module_version": "1.5.0",
            "_model_name": "HTMLModel",
            "_view_count": null,
            "_view_module": "@jupyter-widgets/controls",
            "_view_module_version": "1.5.0",
            "_view_name": "HTMLView",
            "description": "",
            "description_tooltip": null,
            "layout": "IPY_MODEL_2b7e87d9b97840b3b20c6fa1bd57279c",
            "placeholder": "​",
            "style": "IPY_MODEL_5668cf71afc245afa17082584f15e8d7",
            "value": " 1.96k/1.96k [00:00&lt;00:00, 191kB/s]"
          }
        },
        "d8a23e640fd5406897c99ada4e43260a": {
          "model_module": "@jupyter-widgets/base",
          "model_name": "LayoutModel",
          "model_module_version": "1.2.0",
          "state": {
            "_model_module": "@jupyter-widgets/base",
            "_model_module_version": "1.2.0",
            "_model_name": "LayoutModel",
            "_view_count": null,
            "_view_module": "@jupyter-widgets/base",
            "_view_module_version": "1.2.0",
            "_view_name": "LayoutView",
            "align_content": null,
            "align_items": null,
            "align_self": null,
            "border": null,
            "bottom": null,
            "display": null,
            "flex": null,
            "flex_flow": null,
            "grid_area": null,
            "grid_auto_columns": null,
            "grid_auto_flow": null,
            "grid_auto_rows": null,
            "grid_column": null,
            "grid_gap": null,
            "grid_row": null,
            "grid_template_areas": null,
            "grid_template_columns": null,
            "grid_template_rows": null,
            "height": null,
            "justify_content": null,
            "justify_items": null,
            "left": null,
            "margin": null,
            "max_height": null,
            "max_width": null,
            "min_height": null,
            "min_width": null,
            "object_fit": null,
            "object_position": null,
            "order": null,
            "overflow": null,
            "overflow_x": null,
            "overflow_y": null,
            "padding": null,
            "right": null,
            "top": null,
            "visibility": null,
            "width": null
          }
        },
        "fb3f47c14c824dbdb2e208490b5ce0c6": {
          "model_module": "@jupyter-widgets/base",
          "model_name": "LayoutModel",
          "model_module_version": "1.2.0",
          "state": {
            "_model_module": "@jupyter-widgets/base",
            "_model_module_version": "1.2.0",
            "_model_name": "LayoutModel",
            "_view_count": null,
            "_view_module": "@jupyter-widgets/base",
            "_view_module_version": "1.2.0",
            "_view_name": "LayoutView",
            "align_content": null,
            "align_items": null,
            "align_self": null,
            "border": null,
            "bottom": null,
            "display": null,
            "flex": null,
            "flex_flow": null,
            "grid_area": null,
            "grid_auto_columns": null,
            "grid_auto_flow": null,
            "grid_auto_rows": null,
            "grid_column": null,
            "grid_gap": null,
            "grid_row": null,
            "grid_template_areas": null,
            "grid_template_columns": null,
            "grid_template_rows": null,
            "height": null,
            "justify_content": null,
            "justify_items": null,
            "left": null,
            "margin": null,
            "max_height": null,
            "max_width": null,
            "min_height": null,
            "min_width": null,
            "object_fit": null,
            "object_position": null,
            "order": null,
            "overflow": null,
            "overflow_x": null,
            "overflow_y": null,
            "padding": null,
            "right": null,
            "top": null,
            "visibility": null,
            "width": null
          }
        },
        "34a594ef868b4c63a6f9a4abd3bf7fe9": {
          "model_module": "@jupyter-widgets/controls",
          "model_name": "DescriptionStyleModel",
          "model_module_version": "1.5.0",
          "state": {
            "_model_module": "@jupyter-widgets/controls",
            "_model_module_version": "1.5.0",
            "_model_name": "DescriptionStyleModel",
            "_view_count": null,
            "_view_module": "@jupyter-widgets/base",
            "_view_module_version": "1.2.0",
            "_view_name": "StyleView",
            "description_width": ""
          }
        },
        "209a90ff0d594175b5eef05e7719696b": {
          "model_module": "@jupyter-widgets/base",
          "model_name": "LayoutModel",
          "model_module_version": "1.2.0",
          "state": {
            "_model_module": "@jupyter-widgets/base",
            "_model_module_version": "1.2.0",
            "_model_name": "LayoutModel",
            "_view_count": null,
            "_view_module": "@jupyter-widgets/base",
            "_view_module_version": "1.2.0",
            "_view_name": "LayoutView",
            "align_content": null,
            "align_items": null,
            "align_self": null,
            "border": null,
            "bottom": null,
            "display": null,
            "flex": null,
            "flex_flow": null,
            "grid_area": null,
            "grid_auto_columns": null,
            "grid_auto_flow": null,
            "grid_auto_rows": null,
            "grid_column": null,
            "grid_gap": null,
            "grid_row": null,
            "grid_template_areas": null,
            "grid_template_columns": null,
            "grid_template_rows": null,
            "height": null,
            "justify_content": null,
            "justify_items": null,
            "left": null,
            "margin": null,
            "max_height": null,
            "max_width": null,
            "min_height": null,
            "min_width": null,
            "object_fit": null,
            "object_position": null,
            "order": null,
            "overflow": null,
            "overflow_x": null,
            "overflow_y": null,
            "padding": null,
            "right": null,
            "top": null,
            "visibility": null,
            "width": null
          }
        },
        "8843cf87d3164509945f6d0b43a55d2e": {
          "model_module": "@jupyter-widgets/controls",
          "model_name": "ProgressStyleModel",
          "model_module_version": "1.5.0",
          "state": {
            "_model_module": "@jupyter-widgets/controls",
            "_model_module_version": "1.5.0",
            "_model_name": "ProgressStyleModel",
            "_view_count": null,
            "_view_module": "@jupyter-widgets/base",
            "_view_module_version": "1.2.0",
            "_view_name": "StyleView",
            "bar_color": null,
            "description_width": ""
          }
        },
        "2b7e87d9b97840b3b20c6fa1bd57279c": {
          "model_module": "@jupyter-widgets/base",
          "model_name": "LayoutModel",
          "model_module_version": "1.2.0",
          "state": {
            "_model_module": "@jupyter-widgets/base",
            "_model_module_version": "1.2.0",
            "_model_name": "LayoutModel",
            "_view_count": null,
            "_view_module": "@jupyter-widgets/base",
            "_view_module_version": "1.2.0",
            "_view_name": "LayoutView",
            "align_content": null,
            "align_items": null,
            "align_self": null,
            "border": null,
            "bottom": null,
            "display": null,
            "flex": null,
            "flex_flow": null,
            "grid_area": null,
            "grid_auto_columns": null,
            "grid_auto_flow": null,
            "grid_auto_rows": null,
            "grid_column": null,
            "grid_gap": null,
            "grid_row": null,
            "grid_template_areas": null,
            "grid_template_columns": null,
            "grid_template_rows": null,
            "height": null,
            "justify_content": null,
            "justify_items": null,
            "left": null,
            "margin": null,
            "max_height": null,
            "max_width": null,
            "min_height": null,
            "min_width": null,
            "object_fit": null,
            "object_position": null,
            "order": null,
            "overflow": null,
            "overflow_x": null,
            "overflow_y": null,
            "padding": null,
            "right": null,
            "top": null,
            "visibility": null,
            "width": null
          }
        },
        "5668cf71afc245afa17082584f15e8d7": {
          "model_module": "@jupyter-widgets/controls",
          "model_name": "DescriptionStyleModel",
          "model_module_version": "1.5.0",
          "state": {
            "_model_module": "@jupyter-widgets/controls",
            "_model_module_version": "1.5.0",
            "_model_name": "DescriptionStyleModel",
            "_view_count": null,
            "_view_module": "@jupyter-widgets/base",
            "_view_module_version": "1.2.0",
            "_view_name": "StyleView",
            "description_width": ""
          }
        },
        "1000b6182ffd44c2bf64faf755a21bdb": {
          "model_module": "@jupyter-widgets/controls",
          "model_name": "HBoxModel",
          "model_module_version": "1.5.0",
          "state": {
            "_dom_classes": [],
            "_model_module": "@jupyter-widgets/controls",
            "_model_module_version": "1.5.0",
            "_model_name": "HBoxModel",
            "_view_count": null,
            "_view_module": "@jupyter-widgets/controls",
            "_view_module_version": "1.5.0",
            "_view_name": "HBoxView",
            "box_style": "",
            "children": [
              "IPY_MODEL_6eed556f07434b979e90c1b13ab5bc7d",
              "IPY_MODEL_f2dfee8140464d7d8efc34d2149c00a1",
              "IPY_MODEL_52d9662d17f545939720e96f362ae74a"
            ],
            "layout": "IPY_MODEL_c2631e74098445c3a6e18aedd387e316"
          }
        },
        "6eed556f07434b979e90c1b13ab5bc7d": {
          "model_module": "@jupyter-widgets/controls",
          "model_name": "HTMLModel",
          "model_module_version": "1.5.0",
          "state": {
            "_dom_classes": [],
            "_model_module": "@jupyter-widgets/controls",
            "_model_module_version": "1.5.0",
            "_model_name": "HTMLModel",
            "_view_count": null,
            "_view_module": "@jupyter-widgets/controls",
            "_view_module_version": "1.5.0",
            "_view_name": "HTMLView",
            "description": "",
            "description_tooltip": null,
            "layout": "IPY_MODEL_360de90d280e47ef99fc24662ff44337",
            "placeholder": "​",
            "style": "IPY_MODEL_0bbeda44ce124b8b8f4db3f13449beb9",
            "value": "modeling_hf_nomic_bert.py: 100%"
          }
        },
        "f2dfee8140464d7d8efc34d2149c00a1": {
          "model_module": "@jupyter-widgets/controls",
          "model_name": "FloatProgressModel",
          "model_module_version": "1.5.0",
          "state": {
            "_dom_classes": [],
            "_model_module": "@jupyter-widgets/controls",
            "_model_module_version": "1.5.0",
            "_model_name": "FloatProgressModel",
            "_view_count": null,
            "_view_module": "@jupyter-widgets/controls",
            "_view_module_version": "1.5.0",
            "_view_name": "ProgressView",
            "bar_style": "success",
            "description": "",
            "description_tooltip": null,
            "layout": "IPY_MODEL_df8d351efe314013b170a906c84eee3a",
            "max": 103297,
            "min": 0,
            "orientation": "horizontal",
            "style": "IPY_MODEL_5a5fa6620fad420f9999cb3c5b1c8bec",
            "value": 103297
          }
        },
        "52d9662d17f545939720e96f362ae74a": {
          "model_module": "@jupyter-widgets/controls",
          "model_name": "HTMLModel",
          "model_module_version": "1.5.0",
          "state": {
            "_dom_classes": [],
            "_model_module": "@jupyter-widgets/controls",
            "_model_module_version": "1.5.0",
            "_model_name": "HTMLModel",
            "_view_count": null,
            "_view_module": "@jupyter-widgets/controls",
            "_view_module_version": "1.5.0",
            "_view_name": "HTMLView",
            "description": "",
            "description_tooltip": null,
            "layout": "IPY_MODEL_dedf8d6763604f02b43f139f1b729f34",
            "placeholder": "​",
            "style": "IPY_MODEL_e1d75faf13d44ccfb3cfd8bad4090edc",
            "value": " 103k/103k [00:00&lt;00:00, 4.98MB/s]"
          }
        },
        "c2631e74098445c3a6e18aedd387e316": {
          "model_module": "@jupyter-widgets/base",
          "model_name": "LayoutModel",
          "model_module_version": "1.2.0",
          "state": {
            "_model_module": "@jupyter-widgets/base",
            "_model_module_version": "1.2.0",
            "_model_name": "LayoutModel",
            "_view_count": null,
            "_view_module": "@jupyter-widgets/base",
            "_view_module_version": "1.2.0",
            "_view_name": "LayoutView",
            "align_content": null,
            "align_items": null,
            "align_self": null,
            "border": null,
            "bottom": null,
            "display": null,
            "flex": null,
            "flex_flow": null,
            "grid_area": null,
            "grid_auto_columns": null,
            "grid_auto_flow": null,
            "grid_auto_rows": null,
            "grid_column": null,
            "grid_gap": null,
            "grid_row": null,
            "grid_template_areas": null,
            "grid_template_columns": null,
            "grid_template_rows": null,
            "height": null,
            "justify_content": null,
            "justify_items": null,
            "left": null,
            "margin": null,
            "max_height": null,
            "max_width": null,
            "min_height": null,
            "min_width": null,
            "object_fit": null,
            "object_position": null,
            "order": null,
            "overflow": null,
            "overflow_x": null,
            "overflow_y": null,
            "padding": null,
            "right": null,
            "top": null,
            "visibility": null,
            "width": null
          }
        },
        "360de90d280e47ef99fc24662ff44337": {
          "model_module": "@jupyter-widgets/base",
          "model_name": "LayoutModel",
          "model_module_version": "1.2.0",
          "state": {
            "_model_module": "@jupyter-widgets/base",
            "_model_module_version": "1.2.0",
            "_model_name": "LayoutModel",
            "_view_count": null,
            "_view_module": "@jupyter-widgets/base",
            "_view_module_version": "1.2.0",
            "_view_name": "LayoutView",
            "align_content": null,
            "align_items": null,
            "align_self": null,
            "border": null,
            "bottom": null,
            "display": null,
            "flex": null,
            "flex_flow": null,
            "grid_area": null,
            "grid_auto_columns": null,
            "grid_auto_flow": null,
            "grid_auto_rows": null,
            "grid_column": null,
            "grid_gap": null,
            "grid_row": null,
            "grid_template_areas": null,
            "grid_template_columns": null,
            "grid_template_rows": null,
            "height": null,
            "justify_content": null,
            "justify_items": null,
            "left": null,
            "margin": null,
            "max_height": null,
            "max_width": null,
            "min_height": null,
            "min_width": null,
            "object_fit": null,
            "object_position": null,
            "order": null,
            "overflow": null,
            "overflow_x": null,
            "overflow_y": null,
            "padding": null,
            "right": null,
            "top": null,
            "visibility": null,
            "width": null
          }
        },
        "0bbeda44ce124b8b8f4db3f13449beb9": {
          "model_module": "@jupyter-widgets/controls",
          "model_name": "DescriptionStyleModel",
          "model_module_version": "1.5.0",
          "state": {
            "_model_module": "@jupyter-widgets/controls",
            "_model_module_version": "1.5.0",
            "_model_name": "DescriptionStyleModel",
            "_view_count": null,
            "_view_module": "@jupyter-widgets/base",
            "_view_module_version": "1.2.0",
            "_view_name": "StyleView",
            "description_width": ""
          }
        },
        "df8d351efe314013b170a906c84eee3a": {
          "model_module": "@jupyter-widgets/base",
          "model_name": "LayoutModel",
          "model_module_version": "1.2.0",
          "state": {
            "_model_module": "@jupyter-widgets/base",
            "_model_module_version": "1.2.0",
            "_model_name": "LayoutModel",
            "_view_count": null,
            "_view_module": "@jupyter-widgets/base",
            "_view_module_version": "1.2.0",
            "_view_name": "LayoutView",
            "align_content": null,
            "align_items": null,
            "align_self": null,
            "border": null,
            "bottom": null,
            "display": null,
            "flex": null,
            "flex_flow": null,
            "grid_area": null,
            "grid_auto_columns": null,
            "grid_auto_flow": null,
            "grid_auto_rows": null,
            "grid_column": null,
            "grid_gap": null,
            "grid_row": null,
            "grid_template_areas": null,
            "grid_template_columns": null,
            "grid_template_rows": null,
            "height": null,
            "justify_content": null,
            "justify_items": null,
            "left": null,
            "margin": null,
            "max_height": null,
            "max_width": null,
            "min_height": null,
            "min_width": null,
            "object_fit": null,
            "object_position": null,
            "order": null,
            "overflow": null,
            "overflow_x": null,
            "overflow_y": null,
            "padding": null,
            "right": null,
            "top": null,
            "visibility": null,
            "width": null
          }
        },
        "5a5fa6620fad420f9999cb3c5b1c8bec": {
          "model_module": "@jupyter-widgets/controls",
          "model_name": "ProgressStyleModel",
          "model_module_version": "1.5.0",
          "state": {
            "_model_module": "@jupyter-widgets/controls",
            "_model_module_version": "1.5.0",
            "_model_name": "ProgressStyleModel",
            "_view_count": null,
            "_view_module": "@jupyter-widgets/base",
            "_view_module_version": "1.2.0",
            "_view_name": "StyleView",
            "bar_color": null,
            "description_width": ""
          }
        },
        "dedf8d6763604f02b43f139f1b729f34": {
          "model_module": "@jupyter-widgets/base",
          "model_name": "LayoutModel",
          "model_module_version": "1.2.0",
          "state": {
            "_model_module": "@jupyter-widgets/base",
            "_model_module_version": "1.2.0",
            "_model_name": "LayoutModel",
            "_view_count": null,
            "_view_module": "@jupyter-widgets/base",
            "_view_module_version": "1.2.0",
            "_view_name": "LayoutView",
            "align_content": null,
            "align_items": null,
            "align_self": null,
            "border": null,
            "bottom": null,
            "display": null,
            "flex": null,
            "flex_flow": null,
            "grid_area": null,
            "grid_auto_columns": null,
            "grid_auto_flow": null,
            "grid_auto_rows": null,
            "grid_column": null,
            "grid_gap": null,
            "grid_row": null,
            "grid_template_areas": null,
            "grid_template_columns": null,
            "grid_template_rows": null,
            "height": null,
            "justify_content": null,
            "justify_items": null,
            "left": null,
            "margin": null,
            "max_height": null,
            "max_width": null,
            "min_height": null,
            "min_width": null,
            "object_fit": null,
            "object_position": null,
            "order": null,
            "overflow": null,
            "overflow_x": null,
            "overflow_y": null,
            "padding": null,
            "right": null,
            "top": null,
            "visibility": null,
            "width": null
          }
        },
        "e1d75faf13d44ccfb3cfd8bad4090edc": {
          "model_module": "@jupyter-widgets/controls",
          "model_name": "DescriptionStyleModel",
          "model_module_version": "1.5.0",
          "state": {
            "_model_module": "@jupyter-widgets/controls",
            "_model_module_version": "1.5.0",
            "_model_name": "DescriptionStyleModel",
            "_view_count": null,
            "_view_module": "@jupyter-widgets/base",
            "_view_module_version": "1.2.0",
            "_view_name": "StyleView",
            "description_width": ""
          }
        },
        "f539b2170da24662844811a63c324bae": {
          "model_module": "@jupyter-widgets/controls",
          "model_name": "HBoxModel",
          "model_module_version": "1.5.0",
          "state": {
            "_dom_classes": [],
            "_model_module": "@jupyter-widgets/controls",
            "_model_module_version": "1.5.0",
            "_model_name": "HBoxModel",
            "_view_count": null,
            "_view_module": "@jupyter-widgets/controls",
            "_view_module_version": "1.5.0",
            "_view_name": "HBoxView",
            "box_style": "",
            "children": [
              "IPY_MODEL_628e8554fd484b5585567704f5d4ccd3",
              "IPY_MODEL_be93e5e6e786484d87a35dc8df8ff62b",
              "IPY_MODEL_dfe4c6e60d2b401da25b01704e394366"
            ],
            "layout": "IPY_MODEL_ce93e1e26ddc495c850b96e0cddc4faa"
          }
        },
        "628e8554fd484b5585567704f5d4ccd3": {
          "model_module": "@jupyter-widgets/controls",
          "model_name": "HTMLModel",
          "model_module_version": "1.5.0",
          "state": {
            "_dom_classes": [],
            "_model_module": "@jupyter-widgets/controls",
            "_model_module_version": "1.5.0",
            "_model_name": "HTMLModel",
            "_view_count": null,
            "_view_module": "@jupyter-widgets/controls",
            "_view_module_version": "1.5.0",
            "_view_name": "HTMLView",
            "description": "",
            "description_tooltip": null,
            "layout": "IPY_MODEL_220c755a3fcc450c9daf1e92272a87c2",
            "placeholder": "​",
            "style": "IPY_MODEL_784ff1e8aed34909a43570120cc7bd37",
            "value": "model.safetensors: 100%"
          }
        },
        "be93e5e6e786484d87a35dc8df8ff62b": {
          "model_module": "@jupyter-widgets/controls",
          "model_name": "FloatProgressModel",
          "model_module_version": "1.5.0",
          "state": {
            "_dom_classes": [],
            "_model_module": "@jupyter-widgets/controls",
            "_model_module_version": "1.5.0",
            "_model_name": "FloatProgressModel",
            "_view_count": null,
            "_view_module": "@jupyter-widgets/controls",
            "_view_module_version": "1.5.0",
            "_view_name": "ProgressView",
            "bar_style": "success",
            "description": "",
            "description_tooltip": null,
            "layout": "IPY_MODEL_0d58111465ee42a29030a4a90c2fdd3a",
            "max": 546938168,
            "min": 0,
            "orientation": "horizontal",
            "style": "IPY_MODEL_63e38faba83d4b739c4749bc5ebfeca0",
            "value": 546938168
          }
        },
        "dfe4c6e60d2b401da25b01704e394366": {
          "model_module": "@jupyter-widgets/controls",
          "model_name": "HTMLModel",
          "model_module_version": "1.5.0",
          "state": {
            "_dom_classes": [],
            "_model_module": "@jupyter-widgets/controls",
            "_model_module_version": "1.5.0",
            "_model_name": "HTMLModel",
            "_view_count": null,
            "_view_module": "@jupyter-widgets/controls",
            "_view_module_version": "1.5.0",
            "_view_name": "HTMLView",
            "description": "",
            "description_tooltip": null,
            "layout": "IPY_MODEL_1fc359a82d984dea9952cd548d8bab66",
            "placeholder": "​",
            "style": "IPY_MODEL_db136c0ab9d94616b9fa6ed72dc6d75f",
            "value": " 547M/547M [00:13&lt;00:00, 41.2MB/s]"
          }
        },
        "ce93e1e26ddc495c850b96e0cddc4faa": {
          "model_module": "@jupyter-widgets/base",
          "model_name": "LayoutModel",
          "model_module_version": "1.2.0",
          "state": {
            "_model_module": "@jupyter-widgets/base",
            "_model_module_version": "1.2.0",
            "_model_name": "LayoutModel",
            "_view_count": null,
            "_view_module": "@jupyter-widgets/base",
            "_view_module_version": "1.2.0",
            "_view_name": "LayoutView",
            "align_content": null,
            "align_items": null,
            "align_self": null,
            "border": null,
            "bottom": null,
            "display": null,
            "flex": null,
            "flex_flow": null,
            "grid_area": null,
            "grid_auto_columns": null,
            "grid_auto_flow": null,
            "grid_auto_rows": null,
            "grid_column": null,
            "grid_gap": null,
            "grid_row": null,
            "grid_template_areas": null,
            "grid_template_columns": null,
            "grid_template_rows": null,
            "height": null,
            "justify_content": null,
            "justify_items": null,
            "left": null,
            "margin": null,
            "max_height": null,
            "max_width": null,
            "min_height": null,
            "min_width": null,
            "object_fit": null,
            "object_position": null,
            "order": null,
            "overflow": null,
            "overflow_x": null,
            "overflow_y": null,
            "padding": null,
            "right": null,
            "top": null,
            "visibility": null,
            "width": null
          }
        },
        "220c755a3fcc450c9daf1e92272a87c2": {
          "model_module": "@jupyter-widgets/base",
          "model_name": "LayoutModel",
          "model_module_version": "1.2.0",
          "state": {
            "_model_module": "@jupyter-widgets/base",
            "_model_module_version": "1.2.0",
            "_model_name": "LayoutModel",
            "_view_count": null,
            "_view_module": "@jupyter-widgets/base",
            "_view_module_version": "1.2.0",
            "_view_name": "LayoutView",
            "align_content": null,
            "align_items": null,
            "align_self": null,
            "border": null,
            "bottom": null,
            "display": null,
            "flex": null,
            "flex_flow": null,
            "grid_area": null,
            "grid_auto_columns": null,
            "grid_auto_flow": null,
            "grid_auto_rows": null,
            "grid_column": null,
            "grid_gap": null,
            "grid_row": null,
            "grid_template_areas": null,
            "grid_template_columns": null,
            "grid_template_rows": null,
            "height": null,
            "justify_content": null,
            "justify_items": null,
            "left": null,
            "margin": null,
            "max_height": null,
            "max_width": null,
            "min_height": null,
            "min_width": null,
            "object_fit": null,
            "object_position": null,
            "order": null,
            "overflow": null,
            "overflow_x": null,
            "overflow_y": null,
            "padding": null,
            "right": null,
            "top": null,
            "visibility": null,
            "width": null
          }
        },
        "784ff1e8aed34909a43570120cc7bd37": {
          "model_module": "@jupyter-widgets/controls",
          "model_name": "DescriptionStyleModel",
          "model_module_version": "1.5.0",
          "state": {
            "_model_module": "@jupyter-widgets/controls",
            "_model_module_version": "1.5.0",
            "_model_name": "DescriptionStyleModel",
            "_view_count": null,
            "_view_module": "@jupyter-widgets/base",
            "_view_module_version": "1.2.0",
            "_view_name": "StyleView",
            "description_width": ""
          }
        },
        "0d58111465ee42a29030a4a90c2fdd3a": {
          "model_module": "@jupyter-widgets/base",
          "model_name": "LayoutModel",
          "model_module_version": "1.2.0",
          "state": {
            "_model_module": "@jupyter-widgets/base",
            "_model_module_version": "1.2.0",
            "_model_name": "LayoutModel",
            "_view_count": null,
            "_view_module": "@jupyter-widgets/base",
            "_view_module_version": "1.2.0",
            "_view_name": "LayoutView",
            "align_content": null,
            "align_items": null,
            "align_self": null,
            "border": null,
            "bottom": null,
            "display": null,
            "flex": null,
            "flex_flow": null,
            "grid_area": null,
            "grid_auto_columns": null,
            "grid_auto_flow": null,
            "grid_auto_rows": null,
            "grid_column": null,
            "grid_gap": null,
            "grid_row": null,
            "grid_template_areas": null,
            "grid_template_columns": null,
            "grid_template_rows": null,
            "height": null,
            "justify_content": null,
            "justify_items": null,
            "left": null,
            "margin": null,
            "max_height": null,
            "max_width": null,
            "min_height": null,
            "min_width": null,
            "object_fit": null,
            "object_position": null,
            "order": null,
            "overflow": null,
            "overflow_x": null,
            "overflow_y": null,
            "padding": null,
            "right": null,
            "top": null,
            "visibility": null,
            "width": null
          }
        },
        "63e38faba83d4b739c4749bc5ebfeca0": {
          "model_module": "@jupyter-widgets/controls",
          "model_name": "ProgressStyleModel",
          "model_module_version": "1.5.0",
          "state": {
            "_model_module": "@jupyter-widgets/controls",
            "_model_module_version": "1.5.0",
            "_model_name": "ProgressStyleModel",
            "_view_count": null,
            "_view_module": "@jupyter-widgets/base",
            "_view_module_version": "1.2.0",
            "_view_name": "StyleView",
            "bar_color": null,
            "description_width": ""
          }
        },
        "1fc359a82d984dea9952cd548d8bab66": {
          "model_module": "@jupyter-widgets/base",
          "model_name": "LayoutModel",
          "model_module_version": "1.2.0",
          "state": {
            "_model_module": "@jupyter-widgets/base",
            "_model_module_version": "1.2.0",
            "_model_name": "LayoutModel",
            "_view_count": null,
            "_view_module": "@jupyter-widgets/base",
            "_view_module_version": "1.2.0",
            "_view_name": "LayoutView",
            "align_content": null,
            "align_items": null,
            "align_self": null,
            "border": null,
            "bottom": null,
            "display": null,
            "flex": null,
            "flex_flow": null,
            "grid_area": null,
            "grid_auto_columns": null,
            "grid_auto_flow": null,
            "grid_auto_rows": null,
            "grid_column": null,
            "grid_gap": null,
            "grid_row": null,
            "grid_template_areas": null,
            "grid_template_columns": null,
            "grid_template_rows": null,
            "height": null,
            "justify_content": null,
            "justify_items": null,
            "left": null,
            "margin": null,
            "max_height": null,
            "max_width": null,
            "min_height": null,
            "min_width": null,
            "object_fit": null,
            "object_position": null,
            "order": null,
            "overflow": null,
            "overflow_x": null,
            "overflow_y": null,
            "padding": null,
            "right": null,
            "top": null,
            "visibility": null,
            "width": null
          }
        },
        "db136c0ab9d94616b9fa6ed72dc6d75f": {
          "model_module": "@jupyter-widgets/controls",
          "model_name": "DescriptionStyleModel",
          "model_module_version": "1.5.0",
          "state": {
            "_model_module": "@jupyter-widgets/controls",
            "_model_module_version": "1.5.0",
            "_model_name": "DescriptionStyleModel",
            "_view_count": null,
            "_view_module": "@jupyter-widgets/base",
            "_view_module_version": "1.2.0",
            "_view_name": "StyleView",
            "description_width": ""
          }
        },
        "ff86e4cdfc2740c1a47d3b21922c7446": {
          "model_module": "@jupyter-widgets/controls",
          "model_name": "HBoxModel",
          "model_module_version": "1.5.0",
          "state": {
            "_dom_classes": [],
            "_model_module": "@jupyter-widgets/controls",
            "_model_module_version": "1.5.0",
            "_model_name": "HBoxModel",
            "_view_count": null,
            "_view_module": "@jupyter-widgets/controls",
            "_view_module_version": "1.5.0",
            "_view_name": "HBoxView",
            "box_style": "",
            "children": [
              "IPY_MODEL_e0f9c08205be410ea7f0f254fbd9a952",
              "IPY_MODEL_2d512a1b771f4b0e9ed76030f7ebbdef",
              "IPY_MODEL_6b97d7fb0daf45a29f9a5986575f2368"
            ],
            "layout": "IPY_MODEL_fd1fc81689b640f4aa4bc28b80f4fc79"
          }
        },
        "e0f9c08205be410ea7f0f254fbd9a952": {
          "model_module": "@jupyter-widgets/controls",
          "model_name": "HTMLModel",
          "model_module_version": "1.5.0",
          "state": {
            "_dom_classes": [],
            "_model_module": "@jupyter-widgets/controls",
            "_model_module_version": "1.5.0",
            "_model_name": "HTMLModel",
            "_view_count": null,
            "_view_module": "@jupyter-widgets/controls",
            "_view_module_version": "1.5.0",
            "_view_name": "HTMLView",
            "description": "",
            "description_tooltip": null,
            "layout": "IPY_MODEL_3b3ad9b4509f4e46881bb64c01fae0c7",
            "placeholder": "​",
            "style": "IPY_MODEL_f7c5da38be90428a9c53bbf1d78165d8",
            "value": "tokenizer_config.json: 100%"
          }
        },
        "2d512a1b771f4b0e9ed76030f7ebbdef": {
          "model_module": "@jupyter-widgets/controls",
          "model_name": "FloatProgressModel",
          "model_module_version": "1.5.0",
          "state": {
            "_dom_classes": [],
            "_model_module": "@jupyter-widgets/controls",
            "_model_module_version": "1.5.0",
            "_model_name": "FloatProgressModel",
            "_view_count": null,
            "_view_module": "@jupyter-widgets/controls",
            "_view_module_version": "1.5.0",
            "_view_name": "ProgressView",
            "bar_style": "success",
            "description": "",
            "description_tooltip": null,
            "layout": "IPY_MODEL_30ed1e3fea26460b83949269df4f8e43",
            "max": 1191,
            "min": 0,
            "orientation": "horizontal",
            "style": "IPY_MODEL_d76aafe32ed64cb1b5632d175ec620cb",
            "value": 1191
          }
        },
        "6b97d7fb0daf45a29f9a5986575f2368": {
          "model_module": "@jupyter-widgets/controls",
          "model_name": "HTMLModel",
          "model_module_version": "1.5.0",
          "state": {
            "_dom_classes": [],
            "_model_module": "@jupyter-widgets/controls",
            "_model_module_version": "1.5.0",
            "_model_name": "HTMLModel",
            "_view_count": null,
            "_view_module": "@jupyter-widgets/controls",
            "_view_module_version": "1.5.0",
            "_view_name": "HTMLView",
            "description": "",
            "description_tooltip": null,
            "layout": "IPY_MODEL_9f7309ac9311405ca7b85ec8084b7ba9",
            "placeholder": "​",
            "style": "IPY_MODEL_40e38d8e57fd4324981f8fcb8dc4aef3",
            "value": " 1.19k/1.19k [00:00&lt;00:00, 111kB/s]"
          }
        },
        "fd1fc81689b640f4aa4bc28b80f4fc79": {
          "model_module": "@jupyter-widgets/base",
          "model_name": "LayoutModel",
          "model_module_version": "1.2.0",
          "state": {
            "_model_module": "@jupyter-widgets/base",
            "_model_module_version": "1.2.0",
            "_model_name": "LayoutModel",
            "_view_count": null,
            "_view_module": "@jupyter-widgets/base",
            "_view_module_version": "1.2.0",
            "_view_name": "LayoutView",
            "align_content": null,
            "align_items": null,
            "align_self": null,
            "border": null,
            "bottom": null,
            "display": null,
            "flex": null,
            "flex_flow": null,
            "grid_area": null,
            "grid_auto_columns": null,
            "grid_auto_flow": null,
            "grid_auto_rows": null,
            "grid_column": null,
            "grid_gap": null,
            "grid_row": null,
            "grid_template_areas": null,
            "grid_template_columns": null,
            "grid_template_rows": null,
            "height": null,
            "justify_content": null,
            "justify_items": null,
            "left": null,
            "margin": null,
            "max_height": null,
            "max_width": null,
            "min_height": null,
            "min_width": null,
            "object_fit": null,
            "object_position": null,
            "order": null,
            "overflow": null,
            "overflow_x": null,
            "overflow_y": null,
            "padding": null,
            "right": null,
            "top": null,
            "visibility": null,
            "width": null
          }
        },
        "3b3ad9b4509f4e46881bb64c01fae0c7": {
          "model_module": "@jupyter-widgets/base",
          "model_name": "LayoutModel",
          "model_module_version": "1.2.0",
          "state": {
            "_model_module": "@jupyter-widgets/base",
            "_model_module_version": "1.2.0",
            "_model_name": "LayoutModel",
            "_view_count": null,
            "_view_module": "@jupyter-widgets/base",
            "_view_module_version": "1.2.0",
            "_view_name": "LayoutView",
            "align_content": null,
            "align_items": null,
            "align_self": null,
            "border": null,
            "bottom": null,
            "display": null,
            "flex": null,
            "flex_flow": null,
            "grid_area": null,
            "grid_auto_columns": null,
            "grid_auto_flow": null,
            "grid_auto_rows": null,
            "grid_column": null,
            "grid_gap": null,
            "grid_row": null,
            "grid_template_areas": null,
            "grid_template_columns": null,
            "grid_template_rows": null,
            "height": null,
            "justify_content": null,
            "justify_items": null,
            "left": null,
            "margin": null,
            "max_height": null,
            "max_width": null,
            "min_height": null,
            "min_width": null,
            "object_fit": null,
            "object_position": null,
            "order": null,
            "overflow": null,
            "overflow_x": null,
            "overflow_y": null,
            "padding": null,
            "right": null,
            "top": null,
            "visibility": null,
            "width": null
          }
        },
        "f7c5da38be90428a9c53bbf1d78165d8": {
          "model_module": "@jupyter-widgets/controls",
          "model_name": "DescriptionStyleModel",
          "model_module_version": "1.5.0",
          "state": {
            "_model_module": "@jupyter-widgets/controls",
            "_model_module_version": "1.5.0",
            "_model_name": "DescriptionStyleModel",
            "_view_count": null,
            "_view_module": "@jupyter-widgets/base",
            "_view_module_version": "1.2.0",
            "_view_name": "StyleView",
            "description_width": ""
          }
        },
        "30ed1e3fea26460b83949269df4f8e43": {
          "model_module": "@jupyter-widgets/base",
          "model_name": "LayoutModel",
          "model_module_version": "1.2.0",
          "state": {
            "_model_module": "@jupyter-widgets/base",
            "_model_module_version": "1.2.0",
            "_model_name": "LayoutModel",
            "_view_count": null,
            "_view_module": "@jupyter-widgets/base",
            "_view_module_version": "1.2.0",
            "_view_name": "LayoutView",
            "align_content": null,
            "align_items": null,
            "align_self": null,
            "border": null,
            "bottom": null,
            "display": null,
            "flex": null,
            "flex_flow": null,
            "grid_area": null,
            "grid_auto_columns": null,
            "grid_auto_flow": null,
            "grid_auto_rows": null,
            "grid_column": null,
            "grid_gap": null,
            "grid_row": null,
            "grid_template_areas": null,
            "grid_template_columns": null,
            "grid_template_rows": null,
            "height": null,
            "justify_content": null,
            "justify_items": null,
            "left": null,
            "margin": null,
            "max_height": null,
            "max_width": null,
            "min_height": null,
            "min_width": null,
            "object_fit": null,
            "object_position": null,
            "order": null,
            "overflow": null,
            "overflow_x": null,
            "overflow_y": null,
            "padding": null,
            "right": null,
            "top": null,
            "visibility": null,
            "width": null
          }
        },
        "d76aafe32ed64cb1b5632d175ec620cb": {
          "model_module": "@jupyter-widgets/controls",
          "model_name": "ProgressStyleModel",
          "model_module_version": "1.5.0",
          "state": {
            "_model_module": "@jupyter-widgets/controls",
            "_model_module_version": "1.5.0",
            "_model_name": "ProgressStyleModel",
            "_view_count": null,
            "_view_module": "@jupyter-widgets/base",
            "_view_module_version": "1.2.0",
            "_view_name": "StyleView",
            "bar_color": null,
            "description_width": ""
          }
        },
        "9f7309ac9311405ca7b85ec8084b7ba9": {
          "model_module": "@jupyter-widgets/base",
          "model_name": "LayoutModel",
          "model_module_version": "1.2.0",
          "state": {
            "_model_module": "@jupyter-widgets/base",
            "_model_module_version": "1.2.0",
            "_model_name": "LayoutModel",
            "_view_count": null,
            "_view_module": "@jupyter-widgets/base",
            "_view_module_version": "1.2.0",
            "_view_name": "LayoutView",
            "align_content": null,
            "align_items": null,
            "align_self": null,
            "border": null,
            "bottom": null,
            "display": null,
            "flex": null,
            "flex_flow": null,
            "grid_area": null,
            "grid_auto_columns": null,
            "grid_auto_flow": null,
            "grid_auto_rows": null,
            "grid_column": null,
            "grid_gap": null,
            "grid_row": null,
            "grid_template_areas": null,
            "grid_template_columns": null,
            "grid_template_rows": null,
            "height": null,
            "justify_content": null,
            "justify_items": null,
            "left": null,
            "margin": null,
            "max_height": null,
            "max_width": null,
            "min_height": null,
            "min_width": null,
            "object_fit": null,
            "object_position": null,
            "order": null,
            "overflow": null,
            "overflow_x": null,
            "overflow_y": null,
            "padding": null,
            "right": null,
            "top": null,
            "visibility": null,
            "width": null
          }
        },
        "40e38d8e57fd4324981f8fcb8dc4aef3": {
          "model_module": "@jupyter-widgets/controls",
          "model_name": "DescriptionStyleModel",
          "model_module_version": "1.5.0",
          "state": {
            "_model_module": "@jupyter-widgets/controls",
            "_model_module_version": "1.5.0",
            "_model_name": "DescriptionStyleModel",
            "_view_count": null,
            "_view_module": "@jupyter-widgets/base",
            "_view_module_version": "1.2.0",
            "_view_name": "StyleView",
            "description_width": ""
          }
        },
        "fa3f52fb39984b6ea4262209e73eb816": {
          "model_module": "@jupyter-widgets/controls",
          "model_name": "HBoxModel",
          "model_module_version": "1.5.0",
          "state": {
            "_dom_classes": [],
            "_model_module": "@jupyter-widgets/controls",
            "_model_module_version": "1.5.0",
            "_model_name": "HBoxModel",
            "_view_count": null,
            "_view_module": "@jupyter-widgets/controls",
            "_view_module_version": "1.5.0",
            "_view_name": "HBoxView",
            "box_style": "",
            "children": [
              "IPY_MODEL_b735c01368c94503bd94f63319ba903b",
              "IPY_MODEL_1feb392e72454f569eeaa8254adfa3c0",
              "IPY_MODEL_93552e717e744fd8bef860e1cbba7c9f"
            ],
            "layout": "IPY_MODEL_99be3bb3527a4da18e0dfc0daaf5e771"
          }
        },
        "b735c01368c94503bd94f63319ba903b": {
          "model_module": "@jupyter-widgets/controls",
          "model_name": "HTMLModel",
          "model_module_version": "1.5.0",
          "state": {
            "_dom_classes": [],
            "_model_module": "@jupyter-widgets/controls",
            "_model_module_version": "1.5.0",
            "_model_name": "HTMLModel",
            "_view_count": null,
            "_view_module": "@jupyter-widgets/controls",
            "_view_module_version": "1.5.0",
            "_view_name": "HTMLView",
            "description": "",
            "description_tooltip": null,
            "layout": "IPY_MODEL_cee81388bea041889306aa225e17c58f",
            "placeholder": "​",
            "style": "IPY_MODEL_ce27430d37bb40c89de59ec39e7cb354",
            "value": "vocab.txt: 100%"
          }
        },
        "1feb392e72454f569eeaa8254adfa3c0": {
          "model_module": "@jupyter-widgets/controls",
          "model_name": "FloatProgressModel",
          "model_module_version": "1.5.0",
          "state": {
            "_dom_classes": [],
            "_model_module": "@jupyter-widgets/controls",
            "_model_module_version": "1.5.0",
            "_model_name": "FloatProgressModel",
            "_view_count": null,
            "_view_module": "@jupyter-widgets/controls",
            "_view_module_version": "1.5.0",
            "_view_name": "ProgressView",
            "bar_style": "success",
            "description": "",
            "description_tooltip": null,
            "layout": "IPY_MODEL_0e4db8602be74082b9109a35e3f96f2b",
            "max": 231508,
            "min": 0,
            "orientation": "horizontal",
            "style": "IPY_MODEL_4315f0ba3e5541958d0d064dc2571a2d",
            "value": 231508
          }
        },
        "93552e717e744fd8bef860e1cbba7c9f": {
          "model_module": "@jupyter-widgets/controls",
          "model_name": "HTMLModel",
          "model_module_version": "1.5.0",
          "state": {
            "_dom_classes": [],
            "_model_module": "@jupyter-widgets/controls",
            "_model_module_version": "1.5.0",
            "_model_name": "HTMLModel",
            "_view_count": null,
            "_view_module": "@jupyter-widgets/controls",
            "_view_module_version": "1.5.0",
            "_view_name": "HTMLView",
            "description": "",
            "description_tooltip": null,
            "layout": "IPY_MODEL_6778b32f3753475aba62fdb66cc21a03",
            "placeholder": "​",
            "style": "IPY_MODEL_692cec62cafb4027b214e0eb6bfc3107",
            "value": " 232k/232k [00:00&lt;00:00, 17.6MB/s]"
          }
        },
        "99be3bb3527a4da18e0dfc0daaf5e771": {
          "model_module": "@jupyter-widgets/base",
          "model_name": "LayoutModel",
          "model_module_version": "1.2.0",
          "state": {
            "_model_module": "@jupyter-widgets/base",
            "_model_module_version": "1.2.0",
            "_model_name": "LayoutModel",
            "_view_count": null,
            "_view_module": "@jupyter-widgets/base",
            "_view_module_version": "1.2.0",
            "_view_name": "LayoutView",
            "align_content": null,
            "align_items": null,
            "align_self": null,
            "border": null,
            "bottom": null,
            "display": null,
            "flex": null,
            "flex_flow": null,
            "grid_area": null,
            "grid_auto_columns": null,
            "grid_auto_flow": null,
            "grid_auto_rows": null,
            "grid_column": null,
            "grid_gap": null,
            "grid_row": null,
            "grid_template_areas": null,
            "grid_template_columns": null,
            "grid_template_rows": null,
            "height": null,
            "justify_content": null,
            "justify_items": null,
            "left": null,
            "margin": null,
            "max_height": null,
            "max_width": null,
            "min_height": null,
            "min_width": null,
            "object_fit": null,
            "object_position": null,
            "order": null,
            "overflow": null,
            "overflow_x": null,
            "overflow_y": null,
            "padding": null,
            "right": null,
            "top": null,
            "visibility": null,
            "width": null
          }
        },
        "cee81388bea041889306aa225e17c58f": {
          "model_module": "@jupyter-widgets/base",
          "model_name": "LayoutModel",
          "model_module_version": "1.2.0",
          "state": {
            "_model_module": "@jupyter-widgets/base",
            "_model_module_version": "1.2.0",
            "_model_name": "LayoutModel",
            "_view_count": null,
            "_view_module": "@jupyter-widgets/base",
            "_view_module_version": "1.2.0",
            "_view_name": "LayoutView",
            "align_content": null,
            "align_items": null,
            "align_self": null,
            "border": null,
            "bottom": null,
            "display": null,
            "flex": null,
            "flex_flow": null,
            "grid_area": null,
            "grid_auto_columns": null,
            "grid_auto_flow": null,
            "grid_auto_rows": null,
            "grid_column": null,
            "grid_gap": null,
            "grid_row": null,
            "grid_template_areas": null,
            "grid_template_columns": null,
            "grid_template_rows": null,
            "height": null,
            "justify_content": null,
            "justify_items": null,
            "left": null,
            "margin": null,
            "max_height": null,
            "max_width": null,
            "min_height": null,
            "min_width": null,
            "object_fit": null,
            "object_position": null,
            "order": null,
            "overflow": null,
            "overflow_x": null,
            "overflow_y": null,
            "padding": null,
            "right": null,
            "top": null,
            "visibility": null,
            "width": null
          }
        },
        "ce27430d37bb40c89de59ec39e7cb354": {
          "model_module": "@jupyter-widgets/controls",
          "model_name": "DescriptionStyleModel",
          "model_module_version": "1.5.0",
          "state": {
            "_model_module": "@jupyter-widgets/controls",
            "_model_module_version": "1.5.0",
            "_model_name": "DescriptionStyleModel",
            "_view_count": null,
            "_view_module": "@jupyter-widgets/base",
            "_view_module_version": "1.2.0",
            "_view_name": "StyleView",
            "description_width": ""
          }
        },
        "0e4db8602be74082b9109a35e3f96f2b": {
          "model_module": "@jupyter-widgets/base",
          "model_name": "LayoutModel",
          "model_module_version": "1.2.0",
          "state": {
            "_model_module": "@jupyter-widgets/base",
            "_model_module_version": "1.2.0",
            "_model_name": "LayoutModel",
            "_view_count": null,
            "_view_module": "@jupyter-widgets/base",
            "_view_module_version": "1.2.0",
            "_view_name": "LayoutView",
            "align_content": null,
            "align_items": null,
            "align_self": null,
            "border": null,
            "bottom": null,
            "display": null,
            "flex": null,
            "flex_flow": null,
            "grid_area": null,
            "grid_auto_columns": null,
            "grid_auto_flow": null,
            "grid_auto_rows": null,
            "grid_column": null,
            "grid_gap": null,
            "grid_row": null,
            "grid_template_areas": null,
            "grid_template_columns": null,
            "grid_template_rows": null,
            "height": null,
            "justify_content": null,
            "justify_items": null,
            "left": null,
            "margin": null,
            "max_height": null,
            "max_width": null,
            "min_height": null,
            "min_width": null,
            "object_fit": null,
            "object_position": null,
            "order": null,
            "overflow": null,
            "overflow_x": null,
            "overflow_y": null,
            "padding": null,
            "right": null,
            "top": null,
            "visibility": null,
            "width": null
          }
        },
        "4315f0ba3e5541958d0d064dc2571a2d": {
          "model_module": "@jupyter-widgets/controls",
          "model_name": "ProgressStyleModel",
          "model_module_version": "1.5.0",
          "state": {
            "_model_module": "@jupyter-widgets/controls",
            "_model_module_version": "1.5.0",
            "_model_name": "ProgressStyleModel",
            "_view_count": null,
            "_view_module": "@jupyter-widgets/base",
            "_view_module_version": "1.2.0",
            "_view_name": "StyleView",
            "bar_color": null,
            "description_width": ""
          }
        },
        "6778b32f3753475aba62fdb66cc21a03": {
          "model_module": "@jupyter-widgets/base",
          "model_name": "LayoutModel",
          "model_module_version": "1.2.0",
          "state": {
            "_model_module": "@jupyter-widgets/base",
            "_model_module_version": "1.2.0",
            "_model_name": "LayoutModel",
            "_view_count": null,
            "_view_module": "@jupyter-widgets/base",
            "_view_module_version": "1.2.0",
            "_view_name": "LayoutView",
            "align_content": null,
            "align_items": null,
            "align_self": null,
            "border": null,
            "bottom": null,
            "display": null,
            "flex": null,
            "flex_flow": null,
            "grid_area": null,
            "grid_auto_columns": null,
            "grid_auto_flow": null,
            "grid_auto_rows": null,
            "grid_column": null,
            "grid_gap": null,
            "grid_row": null,
            "grid_template_areas": null,
            "grid_template_columns": null,
            "grid_template_rows": null,
            "height": null,
            "justify_content": null,
            "justify_items": null,
            "left": null,
            "margin": null,
            "max_height": null,
            "max_width": null,
            "min_height": null,
            "min_width": null,
            "object_fit": null,
            "object_position": null,
            "order": null,
            "overflow": null,
            "overflow_x": null,
            "overflow_y": null,
            "padding": null,
            "right": null,
            "top": null,
            "visibility": null,
            "width": null
          }
        },
        "692cec62cafb4027b214e0eb6bfc3107": {
          "model_module": "@jupyter-widgets/controls",
          "model_name": "DescriptionStyleModel",
          "model_module_version": "1.5.0",
          "state": {
            "_model_module": "@jupyter-widgets/controls",
            "_model_module_version": "1.5.0",
            "_model_name": "DescriptionStyleModel",
            "_view_count": null,
            "_view_module": "@jupyter-widgets/base",
            "_view_module_version": "1.2.0",
            "_view_name": "StyleView",
            "description_width": ""
          }
        },
        "8cfed014a6474a598970a9e04c82ef1b": {
          "model_module": "@jupyter-widgets/controls",
          "model_name": "HBoxModel",
          "model_module_version": "1.5.0",
          "state": {
            "_dom_classes": [],
            "_model_module": "@jupyter-widgets/controls",
            "_model_module_version": "1.5.0",
            "_model_name": "HBoxModel",
            "_view_count": null,
            "_view_module": "@jupyter-widgets/controls",
            "_view_module_version": "1.5.0",
            "_view_name": "HBoxView",
            "box_style": "",
            "children": [
              "IPY_MODEL_4e886ac9c8cf421d9763e6738942cfa8",
              "IPY_MODEL_d657a3ec16314335bc4c39fd69793aee",
              "IPY_MODEL_d6a9296bdb414482be75bc9e8300e514"
            ],
            "layout": "IPY_MODEL_efa8c1c0d83c4dd79d12e0cc2ccc1b65"
          }
        },
        "4e886ac9c8cf421d9763e6738942cfa8": {
          "model_module": "@jupyter-widgets/controls",
          "model_name": "HTMLModel",
          "model_module_version": "1.5.0",
          "state": {
            "_dom_classes": [],
            "_model_module": "@jupyter-widgets/controls",
            "_model_module_version": "1.5.0",
            "_model_name": "HTMLModel",
            "_view_count": null,
            "_view_module": "@jupyter-widgets/controls",
            "_view_module_version": "1.5.0",
            "_view_name": "HTMLView",
            "description": "",
            "description_tooltip": null,
            "layout": "IPY_MODEL_ce180f2d0375473c9e2088b2c09747d7",
            "placeholder": "​",
            "style": "IPY_MODEL_9f4c0ef32bfd4154a187fd2d958114aa",
            "value": "tokenizer.json: 100%"
          }
        },
        "d657a3ec16314335bc4c39fd69793aee": {
          "model_module": "@jupyter-widgets/controls",
          "model_name": "FloatProgressModel",
          "model_module_version": "1.5.0",
          "state": {
            "_dom_classes": [],
            "_model_module": "@jupyter-widgets/controls",
            "_model_module_version": "1.5.0",
            "_model_name": "FloatProgressModel",
            "_view_count": null,
            "_view_module": "@jupyter-widgets/controls",
            "_view_module_version": "1.5.0",
            "_view_name": "ProgressView",
            "bar_style": "success",
            "description": "",
            "description_tooltip": null,
            "layout": "IPY_MODEL_9d4acd47e78e4c41a5da76ed30d405bd",
            "max": 711396,
            "min": 0,
            "orientation": "horizontal",
            "style": "IPY_MODEL_dc0dfc4e347b42c988c4e9a8d339dab5",
            "value": 711396
          }
        },
        "d6a9296bdb414482be75bc9e8300e514": {
          "model_module": "@jupyter-widgets/controls",
          "model_name": "HTMLModel",
          "model_module_version": "1.5.0",
          "state": {
            "_dom_classes": [],
            "_model_module": "@jupyter-widgets/controls",
            "_model_module_version": "1.5.0",
            "_model_name": "HTMLModel",
            "_view_count": null,
            "_view_module": "@jupyter-widgets/controls",
            "_view_module_version": "1.5.0",
            "_view_name": "HTMLView",
            "description": "",
            "description_tooltip": null,
            "layout": "IPY_MODEL_50bcd5aaf97044a1926c85794c199af9",
            "placeholder": "​",
            "style": "IPY_MODEL_588eb84db66549a296115f5e3752ba1b",
            "value": " 711k/711k [00:00&lt;00:00, 4.25MB/s]"
          }
        },
        "efa8c1c0d83c4dd79d12e0cc2ccc1b65": {
          "model_module": "@jupyter-widgets/base",
          "model_name": "LayoutModel",
          "model_module_version": "1.2.0",
          "state": {
            "_model_module": "@jupyter-widgets/base",
            "_model_module_version": "1.2.0",
            "_model_name": "LayoutModel",
            "_view_count": null,
            "_view_module": "@jupyter-widgets/base",
            "_view_module_version": "1.2.0",
            "_view_name": "LayoutView",
            "align_content": null,
            "align_items": null,
            "align_self": null,
            "border": null,
            "bottom": null,
            "display": null,
            "flex": null,
            "flex_flow": null,
            "grid_area": null,
            "grid_auto_columns": null,
            "grid_auto_flow": null,
            "grid_auto_rows": null,
            "grid_column": null,
            "grid_gap": null,
            "grid_row": null,
            "grid_template_areas": null,
            "grid_template_columns": null,
            "grid_template_rows": null,
            "height": null,
            "justify_content": null,
            "justify_items": null,
            "left": null,
            "margin": null,
            "max_height": null,
            "max_width": null,
            "min_height": null,
            "min_width": null,
            "object_fit": null,
            "object_position": null,
            "order": null,
            "overflow": null,
            "overflow_x": null,
            "overflow_y": null,
            "padding": null,
            "right": null,
            "top": null,
            "visibility": null,
            "width": null
          }
        },
        "ce180f2d0375473c9e2088b2c09747d7": {
          "model_module": "@jupyter-widgets/base",
          "model_name": "LayoutModel",
          "model_module_version": "1.2.0",
          "state": {
            "_model_module": "@jupyter-widgets/base",
            "_model_module_version": "1.2.0",
            "_model_name": "LayoutModel",
            "_view_count": null,
            "_view_module": "@jupyter-widgets/base",
            "_view_module_version": "1.2.0",
            "_view_name": "LayoutView",
            "align_content": null,
            "align_items": null,
            "align_self": null,
            "border": null,
            "bottom": null,
            "display": null,
            "flex": null,
            "flex_flow": null,
            "grid_area": null,
            "grid_auto_columns": null,
            "grid_auto_flow": null,
            "grid_auto_rows": null,
            "grid_column": null,
            "grid_gap": null,
            "grid_row": null,
            "grid_template_areas": null,
            "grid_template_columns": null,
            "grid_template_rows": null,
            "height": null,
            "justify_content": null,
            "justify_items": null,
            "left": null,
            "margin": null,
            "max_height": null,
            "max_width": null,
            "min_height": null,
            "min_width": null,
            "object_fit": null,
            "object_position": null,
            "order": null,
            "overflow": null,
            "overflow_x": null,
            "overflow_y": null,
            "padding": null,
            "right": null,
            "top": null,
            "visibility": null,
            "width": null
          }
        },
        "9f4c0ef32bfd4154a187fd2d958114aa": {
          "model_module": "@jupyter-widgets/controls",
          "model_name": "DescriptionStyleModel",
          "model_module_version": "1.5.0",
          "state": {
            "_model_module": "@jupyter-widgets/controls",
            "_model_module_version": "1.5.0",
            "_model_name": "DescriptionStyleModel",
            "_view_count": null,
            "_view_module": "@jupyter-widgets/base",
            "_view_module_version": "1.2.0",
            "_view_name": "StyleView",
            "description_width": ""
          }
        },
        "9d4acd47e78e4c41a5da76ed30d405bd": {
          "model_module": "@jupyter-widgets/base",
          "model_name": "LayoutModel",
          "model_module_version": "1.2.0",
          "state": {
            "_model_module": "@jupyter-widgets/base",
            "_model_module_version": "1.2.0",
            "_model_name": "LayoutModel",
            "_view_count": null,
            "_view_module": "@jupyter-widgets/base",
            "_view_module_version": "1.2.0",
            "_view_name": "LayoutView",
            "align_content": null,
            "align_items": null,
            "align_self": null,
            "border": null,
            "bottom": null,
            "display": null,
            "flex": null,
            "flex_flow": null,
            "grid_area": null,
            "grid_auto_columns": null,
            "grid_auto_flow": null,
            "grid_auto_rows": null,
            "grid_column": null,
            "grid_gap": null,
            "grid_row": null,
            "grid_template_areas": null,
            "grid_template_columns": null,
            "grid_template_rows": null,
            "height": null,
            "justify_content": null,
            "justify_items": null,
            "left": null,
            "margin": null,
            "max_height": null,
            "max_width": null,
            "min_height": null,
            "min_width": null,
            "object_fit": null,
            "object_position": null,
            "order": null,
            "overflow": null,
            "overflow_x": null,
            "overflow_y": null,
            "padding": null,
            "right": null,
            "top": null,
            "visibility": null,
            "width": null
          }
        },
        "dc0dfc4e347b42c988c4e9a8d339dab5": {
          "model_module": "@jupyter-widgets/controls",
          "model_name": "ProgressStyleModel",
          "model_module_version": "1.5.0",
          "state": {
            "_model_module": "@jupyter-widgets/controls",
            "_model_module_version": "1.5.0",
            "_model_name": "ProgressStyleModel",
            "_view_count": null,
            "_view_module": "@jupyter-widgets/base",
            "_view_module_version": "1.2.0",
            "_view_name": "StyleView",
            "bar_color": null,
            "description_width": ""
          }
        },
        "50bcd5aaf97044a1926c85794c199af9": {
          "model_module": "@jupyter-widgets/base",
          "model_name": "LayoutModel",
          "model_module_version": "1.2.0",
          "state": {
            "_model_module": "@jupyter-widgets/base",
            "_model_module_version": "1.2.0",
            "_model_name": "LayoutModel",
            "_view_count": null,
            "_view_module": "@jupyter-widgets/base",
            "_view_module_version": "1.2.0",
            "_view_name": "LayoutView",
            "align_content": null,
            "align_items": null,
            "align_self": null,
            "border": null,
            "bottom": null,
            "display": null,
            "flex": null,
            "flex_flow": null,
            "grid_area": null,
            "grid_auto_columns": null,
            "grid_auto_flow": null,
            "grid_auto_rows": null,
            "grid_column": null,
            "grid_gap": null,
            "grid_row": null,
            "grid_template_areas": null,
            "grid_template_columns": null,
            "grid_template_rows": null,
            "height": null,
            "justify_content": null,
            "justify_items": null,
            "left": null,
            "margin": null,
            "max_height": null,
            "max_width": null,
            "min_height": null,
            "min_width": null,
            "object_fit": null,
            "object_position": null,
            "order": null,
            "overflow": null,
            "overflow_x": null,
            "overflow_y": null,
            "padding": null,
            "right": null,
            "top": null,
            "visibility": null,
            "width": null
          }
        },
        "588eb84db66549a296115f5e3752ba1b": {
          "model_module": "@jupyter-widgets/controls",
          "model_name": "DescriptionStyleModel",
          "model_module_version": "1.5.0",
          "state": {
            "_model_module": "@jupyter-widgets/controls",
            "_model_module_version": "1.5.0",
            "_model_name": "DescriptionStyleModel",
            "_view_count": null,
            "_view_module": "@jupyter-widgets/base",
            "_view_module_version": "1.2.0",
            "_view_name": "StyleView",
            "description_width": ""
          }
        },
        "af83919d9dfd471dab6a7f926a3c46ec": {
          "model_module": "@jupyter-widgets/controls",
          "model_name": "HBoxModel",
          "model_module_version": "1.5.0",
          "state": {
            "_dom_classes": [],
            "_model_module": "@jupyter-widgets/controls",
            "_model_module_version": "1.5.0",
            "_model_name": "HBoxModel",
            "_view_count": null,
            "_view_module": "@jupyter-widgets/controls",
            "_view_module_version": "1.5.0",
            "_view_name": "HBoxView",
            "box_style": "",
            "children": [
              "IPY_MODEL_52ca76da809b455682c0bc94a42fd8e6",
              "IPY_MODEL_1680e3de95d84c929f8c7cc3af345793",
              "IPY_MODEL_39d6be79e0a74a159f1cd1991e2b70ab"
            ],
            "layout": "IPY_MODEL_bf5e55f60f4d4dc79c45af36ac6dd57b"
          }
        },
        "52ca76da809b455682c0bc94a42fd8e6": {
          "model_module": "@jupyter-widgets/controls",
          "model_name": "HTMLModel",
          "model_module_version": "1.5.0",
          "state": {
            "_dom_classes": [],
            "_model_module": "@jupyter-widgets/controls",
            "_model_module_version": "1.5.0",
            "_model_name": "HTMLModel",
            "_view_count": null,
            "_view_module": "@jupyter-widgets/controls",
            "_view_module_version": "1.5.0",
            "_view_name": "HTMLView",
            "description": "",
            "description_tooltip": null,
            "layout": "IPY_MODEL_ab2e31e788c94fdead5ca75a4b5be9c7",
            "placeholder": "​",
            "style": "IPY_MODEL_a58c5adecf1e4aa0b70c746a89a256cc",
            "value": "special_tokens_map.json: 100%"
          }
        },
        "1680e3de95d84c929f8c7cc3af345793": {
          "model_module": "@jupyter-widgets/controls",
          "model_name": "FloatProgressModel",
          "model_module_version": "1.5.0",
          "state": {
            "_dom_classes": [],
            "_model_module": "@jupyter-widgets/controls",
            "_model_module_version": "1.5.0",
            "_model_name": "FloatProgressModel",
            "_view_count": null,
            "_view_module": "@jupyter-widgets/controls",
            "_view_module_version": "1.5.0",
            "_view_name": "ProgressView",
            "bar_style": "success",
            "description": "",
            "description_tooltip": null,
            "layout": "IPY_MODEL_f6e639029a9e4e129a772417c5a20bd8",
            "max": 695,
            "min": 0,
            "orientation": "horizontal",
            "style": "IPY_MODEL_81088de91f5b46b6a0ee2fdf7d589b97",
            "value": 695
          }
        },
        "39d6be79e0a74a159f1cd1991e2b70ab": {
          "model_module": "@jupyter-widgets/controls",
          "model_name": "HTMLModel",
          "model_module_version": "1.5.0",
          "state": {
            "_dom_classes": [],
            "_model_module": "@jupyter-widgets/controls",
            "_model_module_version": "1.5.0",
            "_model_name": "HTMLModel",
            "_view_count": null,
            "_view_module": "@jupyter-widgets/controls",
            "_view_module_version": "1.5.0",
            "_view_name": "HTMLView",
            "description": "",
            "description_tooltip": null,
            "layout": "IPY_MODEL_0509c503c9c14763ba78b6c3b2afc427",
            "placeholder": "​",
            "style": "IPY_MODEL_c1320871b62c481982813af4e3647651",
            "value": " 695/695 [00:00&lt;00:00, 42.4kB/s]"
          }
        },
        "bf5e55f60f4d4dc79c45af36ac6dd57b": {
          "model_module": "@jupyter-widgets/base",
          "model_name": "LayoutModel",
          "model_module_version": "1.2.0",
          "state": {
            "_model_module": "@jupyter-widgets/base",
            "_model_module_version": "1.2.0",
            "_model_name": "LayoutModel",
            "_view_count": null,
            "_view_module": "@jupyter-widgets/base",
            "_view_module_version": "1.2.0",
            "_view_name": "LayoutView",
            "align_content": null,
            "align_items": null,
            "align_self": null,
            "border": null,
            "bottom": null,
            "display": null,
            "flex": null,
            "flex_flow": null,
            "grid_area": null,
            "grid_auto_columns": null,
            "grid_auto_flow": null,
            "grid_auto_rows": null,
            "grid_column": null,
            "grid_gap": null,
            "grid_row": null,
            "grid_template_areas": null,
            "grid_template_columns": null,
            "grid_template_rows": null,
            "height": null,
            "justify_content": null,
            "justify_items": null,
            "left": null,
            "margin": null,
            "max_height": null,
            "max_width": null,
            "min_height": null,
            "min_width": null,
            "object_fit": null,
            "object_position": null,
            "order": null,
            "overflow": null,
            "overflow_x": null,
            "overflow_y": null,
            "padding": null,
            "right": null,
            "top": null,
            "visibility": null,
            "width": null
          }
        },
        "ab2e31e788c94fdead5ca75a4b5be9c7": {
          "model_module": "@jupyter-widgets/base",
          "model_name": "LayoutModel",
          "model_module_version": "1.2.0",
          "state": {
            "_model_module": "@jupyter-widgets/base",
            "_model_module_version": "1.2.0",
            "_model_name": "LayoutModel",
            "_view_count": null,
            "_view_module": "@jupyter-widgets/base",
            "_view_module_version": "1.2.0",
            "_view_name": "LayoutView",
            "align_content": null,
            "align_items": null,
            "align_self": null,
            "border": null,
            "bottom": null,
            "display": null,
            "flex": null,
            "flex_flow": null,
            "grid_area": null,
            "grid_auto_columns": null,
            "grid_auto_flow": null,
            "grid_auto_rows": null,
            "grid_column": null,
            "grid_gap": null,
            "grid_row": null,
            "grid_template_areas": null,
            "grid_template_columns": null,
            "grid_template_rows": null,
            "height": null,
            "justify_content": null,
            "justify_items": null,
            "left": null,
            "margin": null,
            "max_height": null,
            "max_width": null,
            "min_height": null,
            "min_width": null,
            "object_fit": null,
            "object_position": null,
            "order": null,
            "overflow": null,
            "overflow_x": null,
            "overflow_y": null,
            "padding": null,
            "right": null,
            "top": null,
            "visibility": null,
            "width": null
          }
        },
        "a58c5adecf1e4aa0b70c746a89a256cc": {
          "model_module": "@jupyter-widgets/controls",
          "model_name": "DescriptionStyleModel",
          "model_module_version": "1.5.0",
          "state": {
            "_model_module": "@jupyter-widgets/controls",
            "_model_module_version": "1.5.0",
            "_model_name": "DescriptionStyleModel",
            "_view_count": null,
            "_view_module": "@jupyter-widgets/base",
            "_view_module_version": "1.2.0",
            "_view_name": "StyleView",
            "description_width": ""
          }
        },
        "f6e639029a9e4e129a772417c5a20bd8": {
          "model_module": "@jupyter-widgets/base",
          "model_name": "LayoutModel",
          "model_module_version": "1.2.0",
          "state": {
            "_model_module": "@jupyter-widgets/base",
            "_model_module_version": "1.2.0",
            "_model_name": "LayoutModel",
            "_view_count": null,
            "_view_module": "@jupyter-widgets/base",
            "_view_module_version": "1.2.0",
            "_view_name": "LayoutView",
            "align_content": null,
            "align_items": null,
            "align_self": null,
            "border": null,
            "bottom": null,
            "display": null,
            "flex": null,
            "flex_flow": null,
            "grid_area": null,
            "grid_auto_columns": null,
            "grid_auto_flow": null,
            "grid_auto_rows": null,
            "grid_column": null,
            "grid_gap": null,
            "grid_row": null,
            "grid_template_areas": null,
            "grid_template_columns": null,
            "grid_template_rows": null,
            "height": null,
            "justify_content": null,
            "justify_items": null,
            "left": null,
            "margin": null,
            "max_height": null,
            "max_width": null,
            "min_height": null,
            "min_width": null,
            "object_fit": null,
            "object_position": null,
            "order": null,
            "overflow": null,
            "overflow_x": null,
            "overflow_y": null,
            "padding": null,
            "right": null,
            "top": null,
            "visibility": null,
            "width": null
          }
        },
        "81088de91f5b46b6a0ee2fdf7d589b97": {
          "model_module": "@jupyter-widgets/controls",
          "model_name": "ProgressStyleModel",
          "model_module_version": "1.5.0",
          "state": {
            "_model_module": "@jupyter-widgets/controls",
            "_model_module_version": "1.5.0",
            "_model_name": "ProgressStyleModel",
            "_view_count": null,
            "_view_module": "@jupyter-widgets/base",
            "_view_module_version": "1.2.0",
            "_view_name": "StyleView",
            "bar_color": null,
            "description_width": ""
          }
        },
        "0509c503c9c14763ba78b6c3b2afc427": {
          "model_module": "@jupyter-widgets/base",
          "model_name": "LayoutModel",
          "model_module_version": "1.2.0",
          "state": {
            "_model_module": "@jupyter-widgets/base",
            "_model_module_version": "1.2.0",
            "_model_name": "LayoutModel",
            "_view_count": null,
            "_view_module": "@jupyter-widgets/base",
            "_view_module_version": "1.2.0",
            "_view_name": "LayoutView",
            "align_content": null,
            "align_items": null,
            "align_self": null,
            "border": null,
            "bottom": null,
            "display": null,
            "flex": null,
            "flex_flow": null,
            "grid_area": null,
            "grid_auto_columns": null,
            "grid_auto_flow": null,
            "grid_auto_rows": null,
            "grid_column": null,
            "grid_gap": null,
            "grid_row": null,
            "grid_template_areas": null,
            "grid_template_columns": null,
            "grid_template_rows": null,
            "height": null,
            "justify_content": null,
            "justify_items": null,
            "left": null,
            "margin": null,
            "max_height": null,
            "max_width": null,
            "min_height": null,
            "min_width": null,
            "object_fit": null,
            "object_position": null,
            "order": null,
            "overflow": null,
            "overflow_x": null,
            "overflow_y": null,
            "padding": null,
            "right": null,
            "top": null,
            "visibility": null,
            "width": null
          }
        },
        "c1320871b62c481982813af4e3647651": {
          "model_module": "@jupyter-widgets/controls",
          "model_name": "DescriptionStyleModel",
          "model_module_version": "1.5.0",
          "state": {
            "_model_module": "@jupyter-widgets/controls",
            "_model_module_version": "1.5.0",
            "_model_name": "DescriptionStyleModel",
            "_view_count": null,
            "_view_module": "@jupyter-widgets/base",
            "_view_module_version": "1.2.0",
            "_view_name": "StyleView",
            "description_width": ""
          }
        },
        "fa279e0446f743749aef1bc304b074ff": {
          "model_module": "@jupyter-widgets/controls",
          "model_name": "HBoxModel",
          "model_module_version": "1.5.0",
          "state": {
            "_dom_classes": [],
            "_model_module": "@jupyter-widgets/controls",
            "_model_module_version": "1.5.0",
            "_model_name": "HBoxModel",
            "_view_count": null,
            "_view_module": "@jupyter-widgets/controls",
            "_view_module_version": "1.5.0",
            "_view_name": "HBoxView",
            "box_style": "",
            "children": [
              "IPY_MODEL_1227011943c840adb9c7adfab42dae8e",
              "IPY_MODEL_5067ebab0a554e469cb6a6e93ccb000c",
              "IPY_MODEL_0dbe4f0d7dda46c8b1ce9db5023b4849"
            ],
            "layout": "IPY_MODEL_3aa2ca3b5f2e416ba3a9b411e4ad38d3"
          }
        },
        "1227011943c840adb9c7adfab42dae8e": {
          "model_module": "@jupyter-widgets/controls",
          "model_name": "HTMLModel",
          "model_module_version": "1.5.0",
          "state": {
            "_dom_classes": [],
            "_model_module": "@jupyter-widgets/controls",
            "_model_module_version": "1.5.0",
            "_model_name": "HTMLModel",
            "_view_count": null,
            "_view_module": "@jupyter-widgets/controls",
            "_view_module_version": "1.5.0",
            "_view_name": "HTMLView",
            "description": "",
            "description_tooltip": null,
            "layout": "IPY_MODEL_879b5495d5b344abb795590a890ebd62",
            "placeholder": "​",
            "style": "IPY_MODEL_c4e7398c287249f88ddf7632662634ca",
            "value": "1_Pooling%2Fconfig.json: 100%"
          }
        },
        "5067ebab0a554e469cb6a6e93ccb000c": {
          "model_module": "@jupyter-widgets/controls",
          "model_name": "FloatProgressModel",
          "model_module_version": "1.5.0",
          "state": {
            "_dom_classes": [],
            "_model_module": "@jupyter-widgets/controls",
            "_model_module_version": "1.5.0",
            "_model_name": "FloatProgressModel",
            "_view_count": null,
            "_view_module": "@jupyter-widgets/controls",
            "_view_module_version": "1.5.0",
            "_view_name": "ProgressView",
            "bar_style": "success",
            "description": "",
            "description_tooltip": null,
            "layout": "IPY_MODEL_a9c380474f40408e8bbb012537225d74",
            "max": 286,
            "min": 0,
            "orientation": "horizontal",
            "style": "IPY_MODEL_03076ba917cc43839903f54e3412b263",
            "value": 286
          }
        },
        "0dbe4f0d7dda46c8b1ce9db5023b4849": {
          "model_module": "@jupyter-widgets/controls",
          "model_name": "HTMLModel",
          "model_module_version": "1.5.0",
          "state": {
            "_dom_classes": [],
            "_model_module": "@jupyter-widgets/controls",
            "_model_module_version": "1.5.0",
            "_model_name": "HTMLModel",
            "_view_count": null,
            "_view_module": "@jupyter-widgets/controls",
            "_view_module_version": "1.5.0",
            "_view_name": "HTMLView",
            "description": "",
            "description_tooltip": null,
            "layout": "IPY_MODEL_3a7bcae4039c45f98b226c4cb18ca7a8",
            "placeholder": "​",
            "style": "IPY_MODEL_9f6c505f9fa2434f8ff96eaa7336ab44",
            "value": " 286/286 [00:00&lt;00:00, 13.4kB/s]"
          }
        },
        "3aa2ca3b5f2e416ba3a9b411e4ad38d3": {
          "model_module": "@jupyter-widgets/base",
          "model_name": "LayoutModel",
          "model_module_version": "1.2.0",
          "state": {
            "_model_module": "@jupyter-widgets/base",
            "_model_module_version": "1.2.0",
            "_model_name": "LayoutModel",
            "_view_count": null,
            "_view_module": "@jupyter-widgets/base",
            "_view_module_version": "1.2.0",
            "_view_name": "LayoutView",
            "align_content": null,
            "align_items": null,
            "align_self": null,
            "border": null,
            "bottom": null,
            "display": null,
            "flex": null,
            "flex_flow": null,
            "grid_area": null,
            "grid_auto_columns": null,
            "grid_auto_flow": null,
            "grid_auto_rows": null,
            "grid_column": null,
            "grid_gap": null,
            "grid_row": null,
            "grid_template_areas": null,
            "grid_template_columns": null,
            "grid_template_rows": null,
            "height": null,
            "justify_content": null,
            "justify_items": null,
            "left": null,
            "margin": null,
            "max_height": null,
            "max_width": null,
            "min_height": null,
            "min_width": null,
            "object_fit": null,
            "object_position": null,
            "order": null,
            "overflow": null,
            "overflow_x": null,
            "overflow_y": null,
            "padding": null,
            "right": null,
            "top": null,
            "visibility": null,
            "width": null
          }
        },
        "879b5495d5b344abb795590a890ebd62": {
          "model_module": "@jupyter-widgets/base",
          "model_name": "LayoutModel",
          "model_module_version": "1.2.0",
          "state": {
            "_model_module": "@jupyter-widgets/base",
            "_model_module_version": "1.2.0",
            "_model_name": "LayoutModel",
            "_view_count": null,
            "_view_module": "@jupyter-widgets/base",
            "_view_module_version": "1.2.0",
            "_view_name": "LayoutView",
            "align_content": null,
            "align_items": null,
            "align_self": null,
            "border": null,
            "bottom": null,
            "display": null,
            "flex": null,
            "flex_flow": null,
            "grid_area": null,
            "grid_auto_columns": null,
            "grid_auto_flow": null,
            "grid_auto_rows": null,
            "grid_column": null,
            "grid_gap": null,
            "grid_row": null,
            "grid_template_areas": null,
            "grid_template_columns": null,
            "grid_template_rows": null,
            "height": null,
            "justify_content": null,
            "justify_items": null,
            "left": null,
            "margin": null,
            "max_height": null,
            "max_width": null,
            "min_height": null,
            "min_width": null,
            "object_fit": null,
            "object_position": null,
            "order": null,
            "overflow": null,
            "overflow_x": null,
            "overflow_y": null,
            "padding": null,
            "right": null,
            "top": null,
            "visibility": null,
            "width": null
          }
        },
        "c4e7398c287249f88ddf7632662634ca": {
          "model_module": "@jupyter-widgets/controls",
          "model_name": "DescriptionStyleModel",
          "model_module_version": "1.5.0",
          "state": {
            "_model_module": "@jupyter-widgets/controls",
            "_model_module_version": "1.5.0",
            "_model_name": "DescriptionStyleModel",
            "_view_count": null,
            "_view_module": "@jupyter-widgets/base",
            "_view_module_version": "1.2.0",
            "_view_name": "StyleView",
            "description_width": ""
          }
        },
        "a9c380474f40408e8bbb012537225d74": {
          "model_module": "@jupyter-widgets/base",
          "model_name": "LayoutModel",
          "model_module_version": "1.2.0",
          "state": {
            "_model_module": "@jupyter-widgets/base",
            "_model_module_version": "1.2.0",
            "_model_name": "LayoutModel",
            "_view_count": null,
            "_view_module": "@jupyter-widgets/base",
            "_view_module_version": "1.2.0",
            "_view_name": "LayoutView",
            "align_content": null,
            "align_items": null,
            "align_self": null,
            "border": null,
            "bottom": null,
            "display": null,
            "flex": null,
            "flex_flow": null,
            "grid_area": null,
            "grid_auto_columns": null,
            "grid_auto_flow": null,
            "grid_auto_rows": null,
            "grid_column": null,
            "grid_gap": null,
            "grid_row": null,
            "grid_template_areas": null,
            "grid_template_columns": null,
            "grid_template_rows": null,
            "height": null,
            "justify_content": null,
            "justify_items": null,
            "left": null,
            "margin": null,
            "max_height": null,
            "max_width": null,
            "min_height": null,
            "min_width": null,
            "object_fit": null,
            "object_position": null,
            "order": null,
            "overflow": null,
            "overflow_x": null,
            "overflow_y": null,
            "padding": null,
            "right": null,
            "top": null,
            "visibility": null,
            "width": null
          }
        },
        "03076ba917cc43839903f54e3412b263": {
          "model_module": "@jupyter-widgets/controls",
          "model_name": "ProgressStyleModel",
          "model_module_version": "1.5.0",
          "state": {
            "_model_module": "@jupyter-widgets/controls",
            "_model_module_version": "1.5.0",
            "_model_name": "ProgressStyleModel",
            "_view_count": null,
            "_view_module": "@jupyter-widgets/base",
            "_view_module_version": "1.2.0",
            "_view_name": "StyleView",
            "bar_color": null,
            "description_width": ""
          }
        },
        "3a7bcae4039c45f98b226c4cb18ca7a8": {
          "model_module": "@jupyter-widgets/base",
          "model_name": "LayoutModel",
          "model_module_version": "1.2.0",
          "state": {
            "_model_module": "@jupyter-widgets/base",
            "_model_module_version": "1.2.0",
            "_model_name": "LayoutModel",
            "_view_count": null,
            "_view_module": "@jupyter-widgets/base",
            "_view_module_version": "1.2.0",
            "_view_name": "LayoutView",
            "align_content": null,
            "align_items": null,
            "align_self": null,
            "border": null,
            "bottom": null,
            "display": null,
            "flex": null,
            "flex_flow": null,
            "grid_area": null,
            "grid_auto_columns": null,
            "grid_auto_flow": null,
            "grid_auto_rows": null,
            "grid_column": null,
            "grid_gap": null,
            "grid_row": null,
            "grid_template_areas": null,
            "grid_template_columns": null,
            "grid_template_rows": null,
            "height": null,
            "justify_content": null,
            "justify_items": null,
            "left": null,
            "margin": null,
            "max_height": null,
            "max_width": null,
            "min_height": null,
            "min_width": null,
            "object_fit": null,
            "object_position": null,
            "order": null,
            "overflow": null,
            "overflow_x": null,
            "overflow_y": null,
            "padding": null,
            "right": null,
            "top": null,
            "visibility": null,
            "width": null
          }
        },
        "9f6c505f9fa2434f8ff96eaa7336ab44": {
          "model_module": "@jupyter-widgets/controls",
          "model_name": "DescriptionStyleModel",
          "model_module_version": "1.5.0",
          "state": {
            "_model_module": "@jupyter-widgets/controls",
            "_model_module_version": "1.5.0",
            "_model_name": "DescriptionStyleModel",
            "_view_count": null,
            "_view_module": "@jupyter-widgets/base",
            "_view_module_version": "1.2.0",
            "_view_name": "StyleView",
            "description_width": ""
          }
        }
      }
    }
  },
  "cells": [
    {
      "cell_type": "markdown",
      "source": [
        "# 👩‍💻👨‍💻 <font color='red'>**Please do not edit this file.** </font> Go to <font color='blue'>*File > Save a copy in Drive*</font>"
      ],
      "metadata": {
        "id": "AqtwbK1deNwq"
      }
    },
    {
      "cell_type": "markdown",
      "source": [
        "# DHd 2025 | Workshop: **eScriptorium meets LLMs**\n",
        "## Hands-On 3: **LLMs for Named Entity Recognition (NER) of OCR results**\n",
        "\n",
        "This introductory (and experimental) notebook is based on:\n",
        "* Zhang, R., Li, Y., Ma, Y., Zhou, M., & Zou, L. (2023). LLMaAA: Making Large Language Models as Active Annotators. In H. Bouamor, J. Pino, & K. Bali (Hrsg.), Findings of the Association for Computational Linguistics: EMNLP 2023 (S. 13088–13103). Association for Computational Linguistics. https://doi.org/10.18653/v1/2023.findings-emnlp.872\n",
        "  * https://github.com/ridiculouz/LLMaAA/\n",
        "* Dalfsen, A. van, Karsdorp, F., Bagheri, A., Engelen, T. van, Mentink, D., & Stronks, E. (2024). Direct and Indirect Annotation with Generative AI: A Case Study into Finding Animals and Plants in Historical Text. Proceedings of the Computational Humanities Research Conference, 2024. https://ceur-ws.org/Vol-3834/paper74.pdf\n",
        "  * https://github.com/trister95/direct-and-indirect-annotation"
      ],
      "metadata": {
        "id": "CuGWk7Q1kqay"
      }
    },
    {
      "cell_type": "code",
      "execution_count": 1,
      "metadata": {
        "colab": {
          "base_uri": "https://localhost:8080/"
        },
        "id": "KQpCWecwZiED",
        "outputId": "493fcc40-85d0-40e4-df28-67892a516d81"
      },
      "outputs": [
        {
          "output_type": "stream",
          "name": "stdout",
          "text": [
            "Collecting litellm==1.61.7\n",
            "  Downloading litellm-1.61.7-py3-none-any.whl.metadata (37 kB)\n",
            "Requirement already satisfied: spacy==3.7.5 in /usr/local/lib/python3.11/dist-packages (3.7.5)\n",
            "Collecting json-repair==0.39.1\n",
            "  Downloading json_repair-0.39.1-py3-none-any.whl.metadata (11 kB)\n",
            "Requirement already satisfied: aiohttp in /usr/local/lib/python3.11/dist-packages (from litellm==1.61.7) (3.11.12)\n",
            "Requirement already satisfied: click in /usr/local/lib/python3.11/dist-packages (from litellm==1.61.7) (8.1.8)\n",
            "Requirement already satisfied: httpx>=0.23.0 in /usr/local/lib/python3.11/dist-packages (from litellm==1.61.7) (0.28.1)\n",
            "Requirement already satisfied: importlib-metadata>=6.8.0 in /usr/local/lib/python3.11/dist-packages (from litellm==1.61.7) (8.6.1)\n",
            "Requirement already satisfied: jinja2<4.0.0,>=3.1.2 in /usr/local/lib/python3.11/dist-packages (from litellm==1.61.7) (3.1.5)\n",
            "Requirement already satisfied: jsonschema<5.0.0,>=4.22.0 in /usr/local/lib/python3.11/dist-packages (from litellm==1.61.7) (4.23.0)\n",
            "Requirement already satisfied: openai>=1.61.0 in /usr/local/lib/python3.11/dist-packages (from litellm==1.61.7) (1.61.1)\n",
            "Requirement already satisfied: pydantic<3.0.0,>=2.0.0 in /usr/local/lib/python3.11/dist-packages (from litellm==1.61.7) (2.10.6)\n",
            "Collecting python-dotenv>=0.2.0 (from litellm==1.61.7)\n",
            "  Downloading python_dotenv-1.0.1-py3-none-any.whl.metadata (23 kB)\n",
            "Collecting tiktoken>=0.7.0 (from litellm==1.61.7)\n",
            "  Downloading tiktoken-0.9.0-cp311-cp311-manylinux_2_17_x86_64.manylinux2014_x86_64.whl.metadata (6.7 kB)\n",
            "Requirement already satisfied: tokenizers in /usr/local/lib/python3.11/dist-packages (from litellm==1.61.7) (0.21.0)\n",
            "Requirement already satisfied: spacy-legacy<3.1.0,>=3.0.11 in /usr/local/lib/python3.11/dist-packages (from spacy==3.7.5) (3.0.12)\n",
            "Requirement already satisfied: spacy-loggers<2.0.0,>=1.0.0 in /usr/local/lib/python3.11/dist-packages (from spacy==3.7.5) (1.0.5)\n",
            "Requirement already satisfied: murmurhash<1.1.0,>=0.28.0 in /usr/local/lib/python3.11/dist-packages (from spacy==3.7.5) (1.0.12)\n",
            "Requirement already satisfied: cymem<2.1.0,>=2.0.2 in /usr/local/lib/python3.11/dist-packages (from spacy==3.7.5) (2.0.11)\n",
            "Requirement already satisfied: preshed<3.1.0,>=3.0.2 in /usr/local/lib/python3.11/dist-packages (from spacy==3.7.5) (3.0.9)\n",
            "Requirement already satisfied: thinc<8.3.0,>=8.2.2 in /usr/local/lib/python3.11/dist-packages (from spacy==3.7.5) (8.2.5)\n",
            "Requirement already satisfied: wasabi<1.2.0,>=0.9.1 in /usr/local/lib/python3.11/dist-packages (from spacy==3.7.5) (1.1.3)\n",
            "Requirement already satisfied: srsly<3.0.0,>=2.4.3 in /usr/local/lib/python3.11/dist-packages (from spacy==3.7.5) (2.5.1)\n",
            "Requirement already satisfied: catalogue<2.1.0,>=2.0.6 in /usr/local/lib/python3.11/dist-packages (from spacy==3.7.5) (2.0.10)\n",
            "Requirement already satisfied: weasel<0.5.0,>=0.1.0 in /usr/local/lib/python3.11/dist-packages (from spacy==3.7.5) (0.4.1)\n",
            "Requirement already satisfied: typer<1.0.0,>=0.3.0 in /usr/local/lib/python3.11/dist-packages (from spacy==3.7.5) (0.15.1)\n",
            "Requirement already satisfied: tqdm<5.0.0,>=4.38.0 in /usr/local/lib/python3.11/dist-packages (from spacy==3.7.5) (4.67.1)\n",
            "Requirement already satisfied: requests<3.0.0,>=2.13.0 in /usr/local/lib/python3.11/dist-packages (from spacy==3.7.5) (2.32.3)\n",
            "Requirement already satisfied: setuptools in /usr/local/lib/python3.11/dist-packages (from spacy==3.7.5) (75.1.0)\n",
            "Requirement already satisfied: packaging>=20.0 in /usr/local/lib/python3.11/dist-packages (from spacy==3.7.5) (24.2)\n",
            "Requirement already satisfied: langcodes<4.0.0,>=3.2.0 in /usr/local/lib/python3.11/dist-packages (from spacy==3.7.5) (3.5.0)\n",
            "Requirement already satisfied: numpy>=1.19.0 in /usr/local/lib/python3.11/dist-packages (from spacy==3.7.5) (1.26.4)\n",
            "Requirement already satisfied: anyio in /usr/local/lib/python3.11/dist-packages (from httpx>=0.23.0->litellm==1.61.7) (3.7.1)\n",
            "Requirement already satisfied: certifi in /usr/local/lib/python3.11/dist-packages (from httpx>=0.23.0->litellm==1.61.7) (2025.1.31)\n",
            "Requirement already satisfied: httpcore==1.* in /usr/local/lib/python3.11/dist-packages (from httpx>=0.23.0->litellm==1.61.7) (1.0.7)\n",
            "Requirement already satisfied: idna in /usr/local/lib/python3.11/dist-packages (from httpx>=0.23.0->litellm==1.61.7) (3.10)\n",
            "Requirement already satisfied: h11<0.15,>=0.13 in /usr/local/lib/python3.11/dist-packages (from httpcore==1.*->httpx>=0.23.0->litellm==1.61.7) (0.14.0)\n",
            "Requirement already satisfied: zipp>=3.20 in /usr/local/lib/python3.11/dist-packages (from importlib-metadata>=6.8.0->litellm==1.61.7) (3.21.0)\n",
            "Requirement already satisfied: MarkupSafe>=2.0 in /usr/local/lib/python3.11/dist-packages (from jinja2<4.0.0,>=3.1.2->litellm==1.61.7) (3.0.2)\n",
            "Requirement already satisfied: attrs>=22.2.0 in /usr/local/lib/python3.11/dist-packages (from jsonschema<5.0.0,>=4.22.0->litellm==1.61.7) (25.1.0)\n",
            "Requirement already satisfied: jsonschema-specifications>=2023.03.6 in /usr/local/lib/python3.11/dist-packages (from jsonschema<5.0.0,>=4.22.0->litellm==1.61.7) (2024.10.1)\n",
            "Requirement already satisfied: referencing>=0.28.4 in /usr/local/lib/python3.11/dist-packages (from jsonschema<5.0.0,>=4.22.0->litellm==1.61.7) (0.36.2)\n",
            "Requirement already satisfied: rpds-py>=0.7.1 in /usr/local/lib/python3.11/dist-packages (from jsonschema<5.0.0,>=4.22.0->litellm==1.61.7) (0.23.0)\n",
            "Requirement already satisfied: language-data>=1.2 in /usr/local/lib/python3.11/dist-packages (from langcodes<4.0.0,>=3.2.0->spacy==3.7.5) (1.3.0)\n",
            "Requirement already satisfied: distro<2,>=1.7.0 in /usr/local/lib/python3.11/dist-packages (from openai>=1.61.0->litellm==1.61.7) (1.9.0)\n",
            "Requirement already satisfied: jiter<1,>=0.4.0 in /usr/local/lib/python3.11/dist-packages (from openai>=1.61.0->litellm==1.61.7) (0.8.2)\n",
            "Requirement already satisfied: sniffio in /usr/local/lib/python3.11/dist-packages (from openai>=1.61.0->litellm==1.61.7) (1.3.1)\n",
            "Requirement already satisfied: typing-extensions<5,>=4.11 in /usr/local/lib/python3.11/dist-packages (from openai>=1.61.0->litellm==1.61.7) (4.12.2)\n",
            "Requirement already satisfied: annotated-types>=0.6.0 in /usr/local/lib/python3.11/dist-packages (from pydantic<3.0.0,>=2.0.0->litellm==1.61.7) (0.7.0)\n",
            "Requirement already satisfied: pydantic-core==2.27.2 in /usr/local/lib/python3.11/dist-packages (from pydantic<3.0.0,>=2.0.0->litellm==1.61.7) (2.27.2)\n",
            "Requirement already satisfied: charset-normalizer<4,>=2 in /usr/local/lib/python3.11/dist-packages (from requests<3.0.0,>=2.13.0->spacy==3.7.5) (3.4.1)\n",
            "Requirement already satisfied: urllib3<3,>=1.21.1 in /usr/local/lib/python3.11/dist-packages (from requests<3.0.0,>=2.13.0->spacy==3.7.5) (2.3.0)\n",
            "Requirement already satisfied: blis<0.8.0,>=0.7.8 in /usr/local/lib/python3.11/dist-packages (from thinc<8.3.0,>=8.2.2->spacy==3.7.5) (0.7.11)\n",
            "Requirement already satisfied: confection<1.0.0,>=0.0.1 in /usr/local/lib/python3.11/dist-packages (from thinc<8.3.0,>=8.2.2->spacy==3.7.5) (0.1.5)\n",
            "Requirement already satisfied: regex>=2022.1.18 in /usr/local/lib/python3.11/dist-packages (from tiktoken>=0.7.0->litellm==1.61.7) (2024.11.6)\n",
            "Requirement already satisfied: shellingham>=1.3.0 in /usr/local/lib/python3.11/dist-packages (from typer<1.0.0,>=0.3.0->spacy==3.7.5) (1.5.4)\n",
            "Requirement already satisfied: rich>=10.11.0 in /usr/local/lib/python3.11/dist-packages (from typer<1.0.0,>=0.3.0->spacy==3.7.5) (13.9.4)\n",
            "Requirement already satisfied: cloudpathlib<1.0.0,>=0.7.0 in /usr/local/lib/python3.11/dist-packages (from weasel<0.5.0,>=0.1.0->spacy==3.7.5) (0.20.0)\n",
            "Requirement already satisfied: smart-open<8.0.0,>=5.2.1 in /usr/local/lib/python3.11/dist-packages (from weasel<0.5.0,>=0.1.0->spacy==3.7.5) (7.1.0)\n",
            "Requirement already satisfied: aiohappyeyeballs>=2.3.0 in /usr/local/lib/python3.11/dist-packages (from aiohttp->litellm==1.61.7) (2.4.6)\n",
            "Requirement already satisfied: aiosignal>=1.1.2 in /usr/local/lib/python3.11/dist-packages (from aiohttp->litellm==1.61.7) (1.3.2)\n",
            "Requirement already satisfied: frozenlist>=1.1.1 in /usr/local/lib/python3.11/dist-packages (from aiohttp->litellm==1.61.7) (1.5.0)\n",
            "Requirement already satisfied: multidict<7.0,>=4.5 in /usr/local/lib/python3.11/dist-packages (from aiohttp->litellm==1.61.7) (6.1.0)\n",
            "Requirement already satisfied: propcache>=0.2.0 in /usr/local/lib/python3.11/dist-packages (from aiohttp->litellm==1.61.7) (0.3.0)\n",
            "Requirement already satisfied: yarl<2.0,>=1.17.0 in /usr/local/lib/python3.11/dist-packages (from aiohttp->litellm==1.61.7) (1.18.3)\n",
            "Requirement already satisfied: huggingface-hub<1.0,>=0.16.4 in /usr/local/lib/python3.11/dist-packages (from tokenizers->litellm==1.61.7) (0.28.1)\n",
            "Requirement already satisfied: filelock in /usr/local/lib/python3.11/dist-packages (from huggingface-hub<1.0,>=0.16.4->tokenizers->litellm==1.61.7) (3.17.0)\n",
            "Requirement already satisfied: fsspec>=2023.5.0 in /usr/local/lib/python3.11/dist-packages (from huggingface-hub<1.0,>=0.16.4->tokenizers->litellm==1.61.7) (2024.10.0)\n",
            "Requirement already satisfied: pyyaml>=5.1 in /usr/local/lib/python3.11/dist-packages (from huggingface-hub<1.0,>=0.16.4->tokenizers->litellm==1.61.7) (6.0.2)\n",
            "Requirement already satisfied: marisa-trie>=1.1.0 in /usr/local/lib/python3.11/dist-packages (from language-data>=1.2->langcodes<4.0.0,>=3.2.0->spacy==3.7.5) (1.2.1)\n",
            "Requirement already satisfied: markdown-it-py>=2.2.0 in /usr/local/lib/python3.11/dist-packages (from rich>=10.11.0->typer<1.0.0,>=0.3.0->spacy==3.7.5) (3.0.0)\n",
            "Requirement already satisfied: pygments<3.0.0,>=2.13.0 in /usr/local/lib/python3.11/dist-packages (from rich>=10.11.0->typer<1.0.0,>=0.3.0->spacy==3.7.5) (2.18.0)\n",
            "Requirement already satisfied: wrapt in /usr/local/lib/python3.11/dist-packages (from smart-open<8.0.0,>=5.2.1->weasel<0.5.0,>=0.1.0->spacy==3.7.5) (1.17.2)\n",
            "Requirement already satisfied: mdurl~=0.1 in /usr/local/lib/python3.11/dist-packages (from markdown-it-py>=2.2.0->rich>=10.11.0->typer<1.0.0,>=0.3.0->spacy==3.7.5) (0.1.2)\n",
            "Downloading litellm-1.61.7-py3-none-any.whl (6.8 MB)\n",
            "\u001b[2K   \u001b[90m━━━━━━━━━━━━━━━━━━━━━━━━━━━━━━━━━━━━━━━━\u001b[0m \u001b[32m6.8/6.8 MB\u001b[0m \u001b[31m19.2 MB/s\u001b[0m eta \u001b[36m0:00:00\u001b[0m\n",
            "\u001b[?25hDownloading json_repair-0.39.1-py3-none-any.whl (20 kB)\n",
            "Downloading python_dotenv-1.0.1-py3-none-any.whl (19 kB)\n",
            "Downloading tiktoken-0.9.0-cp311-cp311-manylinux_2_17_x86_64.manylinux2014_x86_64.whl (1.2 MB)\n",
            "\u001b[2K   \u001b[90m━━━━━━━━━━━━━━━━━━━━━━━━━━━━━━━━━━━━━━━━\u001b[0m \u001b[32m1.2/1.2 MB\u001b[0m \u001b[31m14.3 MB/s\u001b[0m eta \u001b[36m0:00:00\u001b[0m\n",
            "\u001b[?25hInstalling collected packages: python-dotenv, json-repair, tiktoken, litellm\n",
            "Successfully installed json-repair-0.39.1 litellm-1.61.7 python-dotenv-1.0.1 tiktoken-0.9.0\n"
          ]
        }
      ],
      "source": [
        "# Install dependencies\n",
        "%pip install -U litellm==1.61.7 spacy==3.7.5 json-repair==0.39.1"
      ]
    },
    {
      "cell_type": "code",
      "source": [
        "import json\n",
        "import random\n",
        "import requests"
      ],
      "metadata": {
        "id": "uRXLQ8g42TEh"
      },
      "execution_count": 2,
      "outputs": []
    },
    {
      "cell_type": "markdown",
      "source": [
        "## Load **labeled data**\n",
        "\n",
        "We are loading manually annotated NER data as a `.json` file. The labeled data is based on OCR ground truth for the German newspaper \"Deutscher Reichsanzeiger und Preußischer Staatsanzeiger\" (*German Imperial Gazette and Prussian Official Gazette*), which was published under changing names from 1819 to 1945 (https://digi.bib.uni-mannheim.de/periodika/reichsanzeiger/ausgaben).\n",
        "\n",
        "→ The labeled data will be our source for creating example and test data for LLM usage in later steps.\n",
        "\n",
        "----\n",
        "\n",
        "### Data sources\n",
        "\n",
        "* `OCR` data (license: CC0): https://github.com/UB-Mannheim/reichsanzeiger-gt\n",
        "* `NER` data (license: CC0): https://github.com/UB-Mannheim/reichsanzeiger-nlp\n"
      ],
      "metadata": {
        "id": "fptRV7hn6jbS"
      }
    },
    {
      "cell_type": "code",
      "source": [
        "# URL with labeled data\n",
        "json_url = 'https://raw.githubusercontent.com/tsmdt/DHd-2025_eScriptorium-meets-LLMs/fca6ede5d1f7bc46bae82519f8afeeb5725d4601/03_LLMs4NER/data/labeled_data.json'"
      ],
      "metadata": {
        "id": "XqwME1FU6hW1"
      },
      "execution_count": 3,
      "outputs": []
    },
    {
      "cell_type": "code",
      "source": [
        "# Load labeled data\n",
        "labeled_data = requests.get(json_url).json()\n",
        "\n",
        "# Print the first two items of the json\n",
        "labeled_data[:2]"
      ],
      "metadata": {
        "colab": {
          "base_uri": "https://localhost:8080/"
        },
        "id": "i89P6oPrPLcu",
        "outputId": "ba3cccf3-4eee-486f-f5c5-31fdfb1da195"
      },
      "execution_count": 4,
      "outputs": [
        {
          "output_type": "execute_result",
          "data": {
            "text/plain": [
              "[{'text': 'In der großen Kapelle Quirinals, die Pauliniſche genannt, werden alle Vorrungen getroffen, um einen großen und freien Raum zu winnen.',\n",
              "  'labels': [{'text': 'Kapelle Quirinals, die Pauliniſche',\n",
              "    'start': 14,\n",
              "    'end': 48,\n",
              "    'label': 'LOC'}]},\n",
              " {'text': '(Ich rufe den Herrn Chriſtus, der mich richten zum Zeugen an, daß ich denjenigen waͤhle, welchen ich Gottes Willen waͤhlen zu muͤſſen glaube, was ich auch dem Accessus thun werde.)',\n",
              "  'labels': [{'text': 'Herrn Chriſtus',\n",
              "    'start': 14,\n",
              "    'end': 28,\n",
              "    'label': 'PER'},\n",
              "   {'text': 'Gottes', 'start': 101, 'end': 107, 'label': 'PER'}]}]"
            ]
          },
          "metadata": {},
          "execution_count": 4
        }
      ]
    },
    {
      "cell_type": "code",
      "source": [
        "print(f\"Labeled sentences in data set: {len(labeled_data)}\")"
      ],
      "metadata": {
        "colab": {
          "base_uri": "https://localhost:8080/"
        },
        "id": "9Ou-w9CB6tj_",
        "outputId": "7796b77a-6adf-40cf-feb3-fefad97988a5"
      },
      "execution_count": 5,
      "outputs": [
        {
          "output_type": "stream",
          "name": "stdout",
          "text": [
            "Labeled sentences in data set: 1161\n"
          ]
        }
      ]
    },
    {
      "cell_type": "markdown",
      "source": [
        "## Create **data pools**\n",
        "\n",
        "We now randomly select a number of sentences (e.g. 100 sentences) from our `labeled_data` and split this sample into two data pools:\n",
        "\n",
        "1. `example_data`: a data pool from we which we will choose examples for prompting our LLM later\n",
        "2. `test_data`: a data pool for testing the accuracy of both `spacy` NER models and LLMs"
      ],
      "metadata": {
        "id": "GmM3gMS862ww"
      }
    },
    {
      "cell_type": "code",
      "source": [
        "def get_random_samples(\n",
        "  data: list[dict],\n",
        "  sent_length: int,\n",
        "  n: int,\n",
        "  seed: int | None = 42\n",
        ") -> list[dict]:\n",
        "  \"\"\"\n",
        "  Samples a subset based on sentence length, and returns a random sample.\n",
        "\n",
        "  Args:\n",
        "    data: A list of dictionaries, where each dictionary is expected\n",
        "          to have a \"text\" key containing a string.\n",
        "    sent_length: The minimum sentence length (number of words) for a\n",
        "                 dictionary to be included in the sample.\n",
        "    n: The number of random samples to return.\n",
        "    seed: An optional integer to seed the random number generator for\n",
        "          reproducible results.\n",
        "\n",
        "  Returns:\n",
        "    A list of dictionaries that meet the sentence length criteria,\n",
        "    randomly sampled from the input data. The size of the returned\n",
        "    list will be the smaller of `n` and the number of dictionaries\n",
        "    meeting the sentence length criteria.\n",
        "  \"\"\"\n",
        "  # Filter sentences by number of words\n",
        "  filtered = [item for item in data if len(item.get(\"text\", \"\").split()) >= sent_length]\n",
        "  sample_size = min(n, len(filtered))\n",
        "\n",
        "  # Set the random seed\n",
        "  rng = random.Random(seed)\n",
        "\n",
        "  return rng.sample(filtered, sample_size)"
      ],
      "metadata": {
        "id": "n6Y6pDew60pA"
      },
      "execution_count": 6,
      "outputs": []
    },
    {
      "cell_type": "code",
      "source": [
        "# Create a list of 100 randomly sampled sentences with labels\n",
        "samples = get_random_samples(data=labeled_data, sent_length=5, n=100, seed=84)\n",
        "samples[26]"
      ],
      "metadata": {
        "colab": {
          "base_uri": "https://localhost:8080/"
        },
        "id": "QLZ2TKle66XX",
        "outputId": "ad0b525a-56b3-45fd-eefa-f040f10f8663"
      },
      "execution_count": 7,
      "outputs": [
        {
          "output_type": "execute_result",
          "data": {
            "text/plain": [
              "{'text': 'Wohnſitzes in Uedem, und der Notariats⸗Kandidat Ludwig Pfahl zu Bonn zum Notar für den Friedensgerichtsbezirk Waldbröl, im Landgerichtsbezirk Köln, mit Anweiſung ſeines Wohnſitzes in Waldbröl, ernannt worden.',\n",
              " 'labels': [{'text': 'Uedem', 'start': 14, 'end': 19, 'label': 'LOC'},\n",
              "  {'text': 'Notariats⸗Kandidat Ludwig Pfahl',\n",
              "   'start': 29,\n",
              "   'end': 60,\n",
              "   'label': 'PER'},\n",
              "  {'text': 'Bonn', 'start': 64, 'end': 68, 'label': 'LOC'},\n",
              "  {'text': 'Waldbröl', 'start': 110, 'end': 118, 'label': 'LOC'},\n",
              "  {'text': 'Köln', 'start': 142, 'end': 146, 'label': 'LOC'},\n",
              "  {'text': 'Waldbröl', 'start': 183, 'end': 191, 'label': 'LOC'}]}"
            ]
          },
          "metadata": {},
          "execution_count": 7
        }
      ]
    },
    {
      "cell_type": "code",
      "source": [
        "def split_sample_data(samples: list[dict], perc: float) -> tuple[list[dict], list[dict]]:\n",
        "  \"\"\"\n",
        "  Split sample data into example and test subsets based on specified proportion.\n",
        "\n",
        "  Args:\n",
        "      samples: Input data containing dictionaries to split\n",
        "      perc: Fraction (0.0-1.0) of data to allocate to examples subset\n",
        "\n",
        "  Returns:\n",
        "      Tuple containing:\n",
        "      - example_data: First `perc` portion for LLM prompting\n",
        "      - test_data: Remaining samples for model testing\n",
        "  \"\"\"\n",
        "  ratio = int(round(len(samples) * perc))\n",
        "  example_data = samples[:ratio]\n",
        "  test_data = samples[ratio:]\n",
        "  return example_data, test_data"
      ],
      "metadata": {
        "id": "u4WKupPo68Ez"
      },
      "execution_count": 8,
      "outputs": []
    },
    {
      "cell_type": "code",
      "source": [
        "# Create 50 samples each for example_data and test_data\n",
        "example_data, test_data = split_sample_data(samples=samples, perc=0.5)"
      ],
      "metadata": {
        "id": "qZG4eLEI69-e"
      },
      "execution_count": 9,
      "outputs": []
    },
    {
      "cell_type": "code",
      "source": [
        "# First sentence of example_data\n",
        "example_data[0]"
      ],
      "metadata": {
        "colab": {
          "base_uri": "https://localhost:8080/"
        },
        "id": "HxJWDnL0dUeU",
        "outputId": "9b13493c-628b-407f-cdae-633d06c95f2d"
      },
      "execution_count": 10,
      "outputs": [
        {
          "output_type": "execute_result",
          "data": {
            "text/plain": [
              "{'text': 'Am 28. April: Dr. Hoffa, Ob. St. Arzt a. D., zuletzt in der ehem. Kurheſſ. Artill.',\n",
              " 'labels': [{'text': '28. April', 'start': 3, 'end': 12, 'label': 'TIME'},\n",
              "  {'text': 'Dr. Hoffa, Ob. St. Arzt a. D.',\n",
              "   'start': 14,\n",
              "   'end': 43,\n",
              "   'label': 'PER'},\n",
              "  {'text': 'ehem. Kurheſſ. Artill.', 'start': 60, 'end': 82, 'label': 'ORG'}]}"
            ]
          },
          "metadata": {},
          "execution_count": 10
        }
      ]
    },
    {
      "cell_type": "code",
      "source": [
        "# First sentence of test_data\n",
        "test_data[0]"
      ],
      "metadata": {
        "colab": {
          "base_uri": "https://localhost:8080/"
        },
        "id": "ZgNK5TCTdYYG",
        "outputId": "432f4af2-eaa7-4a03-d75d-9aea2daf6cc8"
      },
      "execution_count": 11,
      "outputs": [
        {
          "output_type": "execute_result",
          "data": {
            "text/plain": [
              "{'text': 'Lord Palmerſton iſt von hier nach Tiverton in Devonſhire abgereiſt.',\n",
              " 'labels': [{'text': 'Lord Palmerſton', 'start': 0, 'end': 15, 'label': 'PER'},\n",
              "  {'text': 'Tiverton', 'start': 34, 'end': 42, 'label': 'LOC'},\n",
              "  {'text': 'Devonſhire', 'start': 46, 'end': 56, 'label': 'LOC'}]}"
            ]
          },
          "metadata": {},
          "execution_count": 11
        }
      ]
    },
    {
      "cell_type": "markdown",
      "source": [
        "## NER with `spacy`\n",
        "\n",
        "We now test `spacy` NER models on our `test_data` to check how well they perform on our historical domain.\n",
        "\n",
        "<font color='purple'>**NOTE:** This comparison is not entirely fair as we are testing basic `spacy` models on our domain. There might be much more powerful models available, but our rationale for the workshop is: *what if we are working with data for which NO models are available?*</font>"
      ],
      "metadata": {
        "id": "6rrZT8rI7CGB"
      }
    },
    {
      "cell_type": "code",
      "source": [
        "# Download spacy models for NER testing\n",
        "!python -m spacy download de_core_news_md\n",
        "!python -m spacy download de_core_news_lg"
      ],
      "metadata": {
        "colab": {
          "base_uri": "https://localhost:8080/"
        },
        "id": "1Oc2kwte7AAW",
        "outputId": "57c31129-7003-425a-da87-4ea1e01be774"
      },
      "execution_count": 12,
      "outputs": [
        {
          "output_type": "stream",
          "name": "stdout",
          "text": [
            "Collecting de-core-news-md==3.7.0\n",
            "  Downloading https://github.com/explosion/spacy-models/releases/download/de_core_news_md-3.7.0/de_core_news_md-3.7.0-py3-none-any.whl (44.4 MB)\n",
            "\u001b[2K     \u001b[90m━━━━━━━━━━━━━━━━━━━━━━━━━━━━━━━━━━━━━━━━\u001b[0m \u001b[32m44.4/44.4 MB\u001b[0m \u001b[31m21.3 MB/s\u001b[0m eta \u001b[36m0:00:00\u001b[0m\n",
            "\u001b[?25hRequirement already satisfied: spacy<3.8.0,>=3.7.0 in /usr/local/lib/python3.11/dist-packages (from de-core-news-md==3.7.0) (3.7.5)\n",
            "Requirement already satisfied: spacy-legacy<3.1.0,>=3.0.11 in /usr/local/lib/python3.11/dist-packages (from spacy<3.8.0,>=3.7.0->de-core-news-md==3.7.0) (3.0.12)\n",
            "Requirement already satisfied: spacy-loggers<2.0.0,>=1.0.0 in /usr/local/lib/python3.11/dist-packages (from spacy<3.8.0,>=3.7.0->de-core-news-md==3.7.0) (1.0.5)\n",
            "Requirement already satisfied: murmurhash<1.1.0,>=0.28.0 in /usr/local/lib/python3.11/dist-packages (from spacy<3.8.0,>=3.7.0->de-core-news-md==3.7.0) (1.0.12)\n",
            "Requirement already satisfied: cymem<2.1.0,>=2.0.2 in /usr/local/lib/python3.11/dist-packages (from spacy<3.8.0,>=3.7.0->de-core-news-md==3.7.0) (2.0.11)\n",
            "Requirement already satisfied: preshed<3.1.0,>=3.0.2 in /usr/local/lib/python3.11/dist-packages (from spacy<3.8.0,>=3.7.0->de-core-news-md==3.7.0) (3.0.9)\n",
            "Requirement already satisfied: thinc<8.3.0,>=8.2.2 in /usr/local/lib/python3.11/dist-packages (from spacy<3.8.0,>=3.7.0->de-core-news-md==3.7.0) (8.2.5)\n",
            "Requirement already satisfied: wasabi<1.2.0,>=0.9.1 in /usr/local/lib/python3.11/dist-packages (from spacy<3.8.0,>=3.7.0->de-core-news-md==3.7.0) (1.1.3)\n",
            "Requirement already satisfied: srsly<3.0.0,>=2.4.3 in /usr/local/lib/python3.11/dist-packages (from spacy<3.8.0,>=3.7.0->de-core-news-md==3.7.0) (2.5.1)\n",
            "Requirement already satisfied: catalogue<2.1.0,>=2.0.6 in /usr/local/lib/python3.11/dist-packages (from spacy<3.8.0,>=3.7.0->de-core-news-md==3.7.0) (2.0.10)\n",
            "Requirement already satisfied: weasel<0.5.0,>=0.1.0 in /usr/local/lib/python3.11/dist-packages (from spacy<3.8.0,>=3.7.0->de-core-news-md==3.7.0) (0.4.1)\n",
            "Requirement already satisfied: typer<1.0.0,>=0.3.0 in /usr/local/lib/python3.11/dist-packages (from spacy<3.8.0,>=3.7.0->de-core-news-md==3.7.0) (0.15.1)\n",
            "Requirement already satisfied: tqdm<5.0.0,>=4.38.0 in /usr/local/lib/python3.11/dist-packages (from spacy<3.8.0,>=3.7.0->de-core-news-md==3.7.0) (4.67.1)\n",
            "Requirement already satisfied: requests<3.0.0,>=2.13.0 in /usr/local/lib/python3.11/dist-packages (from spacy<3.8.0,>=3.7.0->de-core-news-md==3.7.0) (2.32.3)\n",
            "Requirement already satisfied: pydantic!=1.8,!=1.8.1,<3.0.0,>=1.7.4 in /usr/local/lib/python3.11/dist-packages (from spacy<3.8.0,>=3.7.0->de-core-news-md==3.7.0) (2.10.6)\n",
            "Requirement already satisfied: jinja2 in /usr/local/lib/python3.11/dist-packages (from spacy<3.8.0,>=3.7.0->de-core-news-md==3.7.0) (3.1.5)\n",
            "Requirement already satisfied: setuptools in /usr/local/lib/python3.11/dist-packages (from spacy<3.8.0,>=3.7.0->de-core-news-md==3.7.0) (75.1.0)\n",
            "Requirement already satisfied: packaging>=20.0 in /usr/local/lib/python3.11/dist-packages (from spacy<3.8.0,>=3.7.0->de-core-news-md==3.7.0) (24.2)\n",
            "Requirement already satisfied: langcodes<4.0.0,>=3.2.0 in /usr/local/lib/python3.11/dist-packages (from spacy<3.8.0,>=3.7.0->de-core-news-md==3.7.0) (3.5.0)\n",
            "Requirement already satisfied: numpy>=1.19.0 in /usr/local/lib/python3.11/dist-packages (from spacy<3.8.0,>=3.7.0->de-core-news-md==3.7.0) (1.26.4)\n",
            "Requirement already satisfied: language-data>=1.2 in /usr/local/lib/python3.11/dist-packages (from langcodes<4.0.0,>=3.2.0->spacy<3.8.0,>=3.7.0->de-core-news-md==3.7.0) (1.3.0)\n",
            "Requirement already satisfied: annotated-types>=0.6.0 in /usr/local/lib/python3.11/dist-packages (from pydantic!=1.8,!=1.8.1,<3.0.0,>=1.7.4->spacy<3.8.0,>=3.7.0->de-core-news-md==3.7.0) (0.7.0)\n",
            "Requirement already satisfied: pydantic-core==2.27.2 in /usr/local/lib/python3.11/dist-packages (from pydantic!=1.8,!=1.8.1,<3.0.0,>=1.7.4->spacy<3.8.0,>=3.7.0->de-core-news-md==3.7.0) (2.27.2)\n",
            "Requirement already satisfied: typing-extensions>=4.12.2 in /usr/local/lib/python3.11/dist-packages (from pydantic!=1.8,!=1.8.1,<3.0.0,>=1.7.4->spacy<3.8.0,>=3.7.0->de-core-news-md==3.7.0) (4.12.2)\n",
            "Requirement already satisfied: charset-normalizer<4,>=2 in /usr/local/lib/python3.11/dist-packages (from requests<3.0.0,>=2.13.0->spacy<3.8.0,>=3.7.0->de-core-news-md==3.7.0) (3.4.1)\n",
            "Requirement already satisfied: idna<4,>=2.5 in /usr/local/lib/python3.11/dist-packages (from requests<3.0.0,>=2.13.0->spacy<3.8.0,>=3.7.0->de-core-news-md==3.7.0) (3.10)\n",
            "Requirement already satisfied: urllib3<3,>=1.21.1 in /usr/local/lib/python3.11/dist-packages (from requests<3.0.0,>=2.13.0->spacy<3.8.0,>=3.7.0->de-core-news-md==3.7.0) (2.3.0)\n",
            "Requirement already satisfied: certifi>=2017.4.17 in /usr/local/lib/python3.11/dist-packages (from requests<3.0.0,>=2.13.0->spacy<3.8.0,>=3.7.0->de-core-news-md==3.7.0) (2025.1.31)\n",
            "Requirement already satisfied: blis<0.8.0,>=0.7.8 in /usr/local/lib/python3.11/dist-packages (from thinc<8.3.0,>=8.2.2->spacy<3.8.0,>=3.7.0->de-core-news-md==3.7.0) (0.7.11)\n",
            "Requirement already satisfied: confection<1.0.0,>=0.0.1 in /usr/local/lib/python3.11/dist-packages (from thinc<8.3.0,>=8.2.2->spacy<3.8.0,>=3.7.0->de-core-news-md==3.7.0) (0.1.5)\n",
            "Requirement already satisfied: click>=8.0.0 in /usr/local/lib/python3.11/dist-packages (from typer<1.0.0,>=0.3.0->spacy<3.8.0,>=3.7.0->de-core-news-md==3.7.0) (8.1.8)\n",
            "Requirement already satisfied: shellingham>=1.3.0 in /usr/local/lib/python3.11/dist-packages (from typer<1.0.0,>=0.3.0->spacy<3.8.0,>=3.7.0->de-core-news-md==3.7.0) (1.5.4)\n",
            "Requirement already satisfied: rich>=10.11.0 in /usr/local/lib/python3.11/dist-packages (from typer<1.0.0,>=0.3.0->spacy<3.8.0,>=3.7.0->de-core-news-md==3.7.0) (13.9.4)\n",
            "Requirement already satisfied: cloudpathlib<1.0.0,>=0.7.0 in /usr/local/lib/python3.11/dist-packages (from weasel<0.5.0,>=0.1.0->spacy<3.8.0,>=3.7.0->de-core-news-md==3.7.0) (0.20.0)\n",
            "Requirement already satisfied: smart-open<8.0.0,>=5.2.1 in /usr/local/lib/python3.11/dist-packages (from weasel<0.5.0,>=0.1.0->spacy<3.8.0,>=3.7.0->de-core-news-md==3.7.0) (7.1.0)\n",
            "Requirement already satisfied: MarkupSafe>=2.0 in /usr/local/lib/python3.11/dist-packages (from jinja2->spacy<3.8.0,>=3.7.0->de-core-news-md==3.7.0) (3.0.2)\n",
            "Requirement already satisfied: marisa-trie>=1.1.0 in /usr/local/lib/python3.11/dist-packages (from language-data>=1.2->langcodes<4.0.0,>=3.2.0->spacy<3.8.0,>=3.7.0->de-core-news-md==3.7.0) (1.2.1)\n",
            "Requirement already satisfied: markdown-it-py>=2.2.0 in /usr/local/lib/python3.11/dist-packages (from rich>=10.11.0->typer<1.0.0,>=0.3.0->spacy<3.8.0,>=3.7.0->de-core-news-md==3.7.0) (3.0.0)\n",
            "Requirement already satisfied: pygments<3.0.0,>=2.13.0 in /usr/local/lib/python3.11/dist-packages (from rich>=10.11.0->typer<1.0.0,>=0.3.0->spacy<3.8.0,>=3.7.0->de-core-news-md==3.7.0) (2.18.0)\n",
            "Requirement already satisfied: wrapt in /usr/local/lib/python3.11/dist-packages (from smart-open<8.0.0,>=5.2.1->weasel<0.5.0,>=0.1.0->spacy<3.8.0,>=3.7.0->de-core-news-md==3.7.0) (1.17.2)\n",
            "Requirement already satisfied: mdurl~=0.1 in /usr/local/lib/python3.11/dist-packages (from markdown-it-py>=2.2.0->rich>=10.11.0->typer<1.0.0,>=0.3.0->spacy<3.8.0,>=3.7.0->de-core-news-md==3.7.0) (0.1.2)\n",
            "Installing collected packages: de-core-news-md\n",
            "Successfully installed de-core-news-md-3.7.0\n",
            "\u001b[38;5;2m✔ Download and installation successful\u001b[0m\n",
            "You can now load the package via spacy.load('de_core_news_md')\n",
            "\u001b[38;5;3m⚠ Restart to reload dependencies\u001b[0m\n",
            "If you are in a Jupyter or Colab notebook, you may need to restart Python in\n",
            "order to load all the package's dependencies. You can do this by selecting the\n",
            "'Restart kernel' or 'Restart runtime' option.\n",
            "Collecting de-core-news-lg==3.7.0\n",
            "  Downloading https://github.com/explosion/spacy-models/releases/download/de_core_news_lg-3.7.0/de_core_news_lg-3.7.0-py3-none-any.whl (567.8 MB)\n",
            "\u001b[2K     \u001b[90m━━━━━━━━━━━━━━━━━━━━━━━━━━━━━━━━━━━━━━━━\u001b[0m \u001b[32m567.8/567.8 MB\u001b[0m \u001b[31m3.1 MB/s\u001b[0m eta \u001b[36m0:00:00\u001b[0m\n",
            "\u001b[?25hRequirement already satisfied: spacy<3.8.0,>=3.7.0 in /usr/local/lib/python3.11/dist-packages (from de-core-news-lg==3.7.0) (3.7.5)\n",
            "Requirement already satisfied: spacy-legacy<3.1.0,>=3.0.11 in /usr/local/lib/python3.11/dist-packages (from spacy<3.8.0,>=3.7.0->de-core-news-lg==3.7.0) (3.0.12)\n",
            "Requirement already satisfied: spacy-loggers<2.0.0,>=1.0.0 in /usr/local/lib/python3.11/dist-packages (from spacy<3.8.0,>=3.7.0->de-core-news-lg==3.7.0) (1.0.5)\n",
            "Requirement already satisfied: murmurhash<1.1.0,>=0.28.0 in /usr/local/lib/python3.11/dist-packages (from spacy<3.8.0,>=3.7.0->de-core-news-lg==3.7.0) (1.0.12)\n",
            "Requirement already satisfied: cymem<2.1.0,>=2.0.2 in /usr/local/lib/python3.11/dist-packages (from spacy<3.8.0,>=3.7.0->de-core-news-lg==3.7.0) (2.0.11)\n",
            "Requirement already satisfied: preshed<3.1.0,>=3.0.2 in /usr/local/lib/python3.11/dist-packages (from spacy<3.8.0,>=3.7.0->de-core-news-lg==3.7.0) (3.0.9)\n",
            "Requirement already satisfied: thinc<8.3.0,>=8.2.2 in /usr/local/lib/python3.11/dist-packages (from spacy<3.8.0,>=3.7.0->de-core-news-lg==3.7.0) (8.2.5)\n",
            "Requirement already satisfied: wasabi<1.2.0,>=0.9.1 in /usr/local/lib/python3.11/dist-packages (from spacy<3.8.0,>=3.7.0->de-core-news-lg==3.7.0) (1.1.3)\n",
            "Requirement already satisfied: srsly<3.0.0,>=2.4.3 in /usr/local/lib/python3.11/dist-packages (from spacy<3.8.0,>=3.7.0->de-core-news-lg==3.7.0) (2.5.1)\n",
            "Requirement already satisfied: catalogue<2.1.0,>=2.0.6 in /usr/local/lib/python3.11/dist-packages (from spacy<3.8.0,>=3.7.0->de-core-news-lg==3.7.0) (2.0.10)\n",
            "Requirement already satisfied: weasel<0.5.0,>=0.1.0 in /usr/local/lib/python3.11/dist-packages (from spacy<3.8.0,>=3.7.0->de-core-news-lg==3.7.0) (0.4.1)\n",
            "Requirement already satisfied: typer<1.0.0,>=0.3.0 in /usr/local/lib/python3.11/dist-packages (from spacy<3.8.0,>=3.7.0->de-core-news-lg==3.7.0) (0.15.1)\n",
            "Requirement already satisfied: tqdm<5.0.0,>=4.38.0 in /usr/local/lib/python3.11/dist-packages (from spacy<3.8.0,>=3.7.0->de-core-news-lg==3.7.0) (4.67.1)\n",
            "Requirement already satisfied: requests<3.0.0,>=2.13.0 in /usr/local/lib/python3.11/dist-packages (from spacy<3.8.0,>=3.7.0->de-core-news-lg==3.7.0) (2.32.3)\n",
            "Requirement already satisfied: pydantic!=1.8,!=1.8.1,<3.0.0,>=1.7.4 in /usr/local/lib/python3.11/dist-packages (from spacy<3.8.0,>=3.7.0->de-core-news-lg==3.7.0) (2.10.6)\n",
            "Requirement already satisfied: jinja2 in /usr/local/lib/python3.11/dist-packages (from spacy<3.8.0,>=3.7.0->de-core-news-lg==3.7.0) (3.1.5)\n",
            "Requirement already satisfied: setuptools in /usr/local/lib/python3.11/dist-packages (from spacy<3.8.0,>=3.7.0->de-core-news-lg==3.7.0) (75.1.0)\n",
            "Requirement already satisfied: packaging>=20.0 in /usr/local/lib/python3.11/dist-packages (from spacy<3.8.0,>=3.7.0->de-core-news-lg==3.7.0) (24.2)\n",
            "Requirement already satisfied: langcodes<4.0.0,>=3.2.0 in /usr/local/lib/python3.11/dist-packages (from spacy<3.8.0,>=3.7.0->de-core-news-lg==3.7.0) (3.5.0)\n",
            "Requirement already satisfied: numpy>=1.19.0 in /usr/local/lib/python3.11/dist-packages (from spacy<3.8.0,>=3.7.0->de-core-news-lg==3.7.0) (1.26.4)\n",
            "Requirement already satisfied: language-data>=1.2 in /usr/local/lib/python3.11/dist-packages (from langcodes<4.0.0,>=3.2.0->spacy<3.8.0,>=3.7.0->de-core-news-lg==3.7.0) (1.3.0)\n",
            "Requirement already satisfied: annotated-types>=0.6.0 in /usr/local/lib/python3.11/dist-packages (from pydantic!=1.8,!=1.8.1,<3.0.0,>=1.7.4->spacy<3.8.0,>=3.7.0->de-core-news-lg==3.7.0) (0.7.0)\n",
            "Requirement already satisfied: pydantic-core==2.27.2 in /usr/local/lib/python3.11/dist-packages (from pydantic!=1.8,!=1.8.1,<3.0.0,>=1.7.4->spacy<3.8.0,>=3.7.0->de-core-news-lg==3.7.0) (2.27.2)\n",
            "Requirement already satisfied: typing-extensions>=4.12.2 in /usr/local/lib/python3.11/dist-packages (from pydantic!=1.8,!=1.8.1,<3.0.0,>=1.7.4->spacy<3.8.0,>=3.7.0->de-core-news-lg==3.7.0) (4.12.2)\n",
            "Requirement already satisfied: charset-normalizer<4,>=2 in /usr/local/lib/python3.11/dist-packages (from requests<3.0.0,>=2.13.0->spacy<3.8.0,>=3.7.0->de-core-news-lg==3.7.0) (3.4.1)\n",
            "Requirement already satisfied: idna<4,>=2.5 in /usr/local/lib/python3.11/dist-packages (from requests<3.0.0,>=2.13.0->spacy<3.8.0,>=3.7.0->de-core-news-lg==3.7.0) (3.10)\n",
            "Requirement already satisfied: urllib3<3,>=1.21.1 in /usr/local/lib/python3.11/dist-packages (from requests<3.0.0,>=2.13.0->spacy<3.8.0,>=3.7.0->de-core-news-lg==3.7.0) (2.3.0)\n",
            "Requirement already satisfied: certifi>=2017.4.17 in /usr/local/lib/python3.11/dist-packages (from requests<3.0.0,>=2.13.0->spacy<3.8.0,>=3.7.0->de-core-news-lg==3.7.0) (2025.1.31)\n",
            "Requirement already satisfied: blis<0.8.0,>=0.7.8 in /usr/local/lib/python3.11/dist-packages (from thinc<8.3.0,>=8.2.2->spacy<3.8.0,>=3.7.0->de-core-news-lg==3.7.0) (0.7.11)\n",
            "Requirement already satisfied: confection<1.0.0,>=0.0.1 in /usr/local/lib/python3.11/dist-packages (from thinc<8.3.0,>=8.2.2->spacy<3.8.0,>=3.7.0->de-core-news-lg==3.7.0) (0.1.5)\n",
            "Requirement already satisfied: click>=8.0.0 in /usr/local/lib/python3.11/dist-packages (from typer<1.0.0,>=0.3.0->spacy<3.8.0,>=3.7.0->de-core-news-lg==3.7.0) (8.1.8)\n",
            "Requirement already satisfied: shellingham>=1.3.0 in /usr/local/lib/python3.11/dist-packages (from typer<1.0.0,>=0.3.0->spacy<3.8.0,>=3.7.0->de-core-news-lg==3.7.0) (1.5.4)\n",
            "Requirement already satisfied: rich>=10.11.0 in /usr/local/lib/python3.11/dist-packages (from typer<1.0.0,>=0.3.0->spacy<3.8.0,>=3.7.0->de-core-news-lg==3.7.0) (13.9.4)\n",
            "Requirement already satisfied: cloudpathlib<1.0.0,>=0.7.0 in /usr/local/lib/python3.11/dist-packages (from weasel<0.5.0,>=0.1.0->spacy<3.8.0,>=3.7.0->de-core-news-lg==3.7.0) (0.20.0)\n",
            "Requirement already satisfied: smart-open<8.0.0,>=5.2.1 in /usr/local/lib/python3.11/dist-packages (from weasel<0.5.0,>=0.1.0->spacy<3.8.0,>=3.7.0->de-core-news-lg==3.7.0) (7.1.0)\n",
            "Requirement already satisfied: MarkupSafe>=2.0 in /usr/local/lib/python3.11/dist-packages (from jinja2->spacy<3.8.0,>=3.7.0->de-core-news-lg==3.7.0) (3.0.2)\n",
            "Requirement already satisfied: marisa-trie>=1.1.0 in /usr/local/lib/python3.11/dist-packages (from language-data>=1.2->langcodes<4.0.0,>=3.2.0->spacy<3.8.0,>=3.7.0->de-core-news-lg==3.7.0) (1.2.1)\n",
            "Requirement already satisfied: markdown-it-py>=2.2.0 in /usr/local/lib/python3.11/dist-packages (from rich>=10.11.0->typer<1.0.0,>=0.3.0->spacy<3.8.0,>=3.7.0->de-core-news-lg==3.7.0) (3.0.0)\n",
            "Requirement already satisfied: pygments<3.0.0,>=2.13.0 in /usr/local/lib/python3.11/dist-packages (from rich>=10.11.0->typer<1.0.0,>=0.3.0->spacy<3.8.0,>=3.7.0->de-core-news-lg==3.7.0) (2.18.0)\n",
            "Requirement already satisfied: wrapt in /usr/local/lib/python3.11/dist-packages (from smart-open<8.0.0,>=5.2.1->weasel<0.5.0,>=0.1.0->spacy<3.8.0,>=3.7.0->de-core-news-lg==3.7.0) (1.17.2)\n",
            "Requirement already satisfied: mdurl~=0.1 in /usr/local/lib/python3.11/dist-packages (from markdown-it-py>=2.2.0->rich>=10.11.0->typer<1.0.0,>=0.3.0->spacy<3.8.0,>=3.7.0->de-core-news-lg==3.7.0) (0.1.2)\n",
            "Installing collected packages: de-core-news-lg\n",
            "Successfully installed de-core-news-lg-3.7.0\n",
            "\u001b[38;5;2m✔ Download and installation successful\u001b[0m\n",
            "You can now load the package via spacy.load('de_core_news_lg')\n",
            "\u001b[38;5;3m⚠ Restart to reload dependencies\u001b[0m\n",
            "If you are in a Jupyter or Colab notebook, you may need to restart Python in\n",
            "order to load all the package's dependencies. You can do this by selecting the\n",
            "'Restart kernel' or 'Restart runtime' option.\n"
          ]
        }
      ]
    },
    {
      "cell_type": "code",
      "source": [
        "import spacy\n",
        "import de_core_news_lg, de_core_news_md"
      ],
      "metadata": {
        "id": "cTaTPkuC7IMK"
      },
      "execution_count": 13,
      "outputs": []
    },
    {
      "cell_type": "markdown",
      "source": [
        "We define a sentence from our `test_data` pool for testing first."
      ],
      "metadata": {
        "id": "d3MXu9H07XEn"
      }
    },
    {
      "cell_type": "code",
      "source": [
        "# Test sentence\n",
        "test_sentence = test_data[17]\n",
        "test_sentence"
      ],
      "metadata": {
        "colab": {
          "base_uri": "https://localhost:8080/"
        },
        "id": "zEkNSvEG7Wnm",
        "outputId": "dec6f43a-6e5c-4e8b-a193-58b4f56442ca"
      },
      "execution_count": 14,
      "outputs": [
        {
          "output_type": "execute_result",
          "data": {
            "text/plain": [
              "{'text': 'Am 24. April: Kayſer, Ob. Lt. a. D., zuletzt in der 8. Art. Brig.',\n",
              " 'labels': [{'text': '24. April', 'start': 3, 'end': 12, 'label': 'TIME'},\n",
              "  {'text': 'Kayſer, Ob. Lt. a. D.', 'start': 14, 'end': 35, 'label': 'PER'},\n",
              "  {'text': '8. Art. Brig', 'start': 52, 'end': 64, 'label': 'ORG'}]}"
            ]
          },
          "metadata": {},
          "execution_count": 14
        }
      ]
    },
    {
      "cell_type": "markdown",
      "source": [
        "To get a **direct comparison** between the `spacy` labels and the already existing labels, we print the manually annotated labels first:"
      ],
      "metadata": {
        "id": "VYmf6w7eg6kT"
      }
    },
    {
      "cell_type": "code",
      "source": [
        "def print_entities(sentence: dict) -> None:\n",
        "  \"\"\"\n",
        "  Helper function to print existing labels.\n",
        "  \"\"\"\n",
        "  for label in sentence['labels']:\n",
        "      if label.get('text') != None:\n",
        "        print(f\"Entity: {label['text']} (Label: {label['label']})\")\n",
        "      elif label.get('span') != None:\n",
        "        print(f\"Entity: {label['span']} (Label: {label['label']})\")\n",
        "      else:\n",
        "        print(\"No entity found\")\n",
        "\n",
        "print_entities(test_sentence)"
      ],
      "metadata": {
        "colab": {
          "base_uri": "https://localhost:8080/"
        },
        "id": "0WqeQwlz7blJ",
        "outputId": "9feb2649-29ce-47a5-9d97-57dac918501e"
      },
      "execution_count": 15,
      "outputs": [
        {
          "output_type": "stream",
          "name": "stdout",
          "text": [
            "Entity: 24. April (Label: TIME)\n",
            "Entity: Kayſer, Ob. Lt. a. D. (Label: PER)\n",
            "Entity: 8. Art. Brig (Label: ORG)\n"
          ]
        }
      ]
    },
    {
      "cell_type": "markdown",
      "source": [
        "Now we test `de_core_news_md`, a *medium* sized NER model.\n",
        "\n",
        "* Documentation: https://spacy.io/models/de#de_core_news_md"
      ],
      "metadata": {
        "id": "cj6iimmmfb9x"
      }
    },
    {
      "cell_type": "code",
      "source": [
        "# Load medium sized spacy model\n",
        "spacy.require_cpu()\n",
        "nlp = spacy.load(\"de_core_news_md\")\n",
        "\n",
        "# Run NER on our test sentence\n",
        "doc = nlp(test_sentence['text'])\n",
        "\n",
        "for ent in doc.ents:\n",
        "  print(f\"Entity: {ent.text} (Label: {ent.label_})\")"
      ],
      "metadata": {
        "colab": {
          "base_uri": "https://localhost:8080/"
        },
        "id": "3vonEt_q7TE6",
        "outputId": "1c7ab712-ebb3-4fad-a609-a6e65ea432c8"
      },
      "execution_count": 16,
      "outputs": [
        {
          "output_type": "stream",
          "name": "stdout",
          "text": [
            "Entity: Kayſer (Label: MISC)\n",
            "Entity: Lt (Label: PER)\n",
            "Entity: Brig (Label: LOC)\n"
          ]
        }
      ]
    },
    {
      "cell_type": "markdown",
      "source": [
        "As we can see, there is quite a difference between the labels annotated by humans and by `spacy`.\n",
        "\n",
        "Let's check if the *larger* `spacy` model `de_core_news_lg` performs better on our test sentence.\n",
        "\n",
        "* Documentation: https://spacy.io/models/de#de_core_news_lg"
      ],
      "metadata": {
        "id": "_PQLifxJhdc0"
      }
    },
    {
      "cell_type": "code",
      "source": [
        "# Load larger spacy model\n",
        "spacy.require_cpu()\n",
        "nlp = spacy.load(\"de_core_news_lg\")\n",
        "\n",
        "# Run NER on our test sentence\n",
        "doc = nlp(test_sentence['text'])\n",
        "\n",
        "for ent in doc.ents:\n",
        "  print(f\"Entity: {ent.text} (Label: {ent.label_})\")"
      ],
      "metadata": {
        "colab": {
          "base_uri": "https://localhost:8080/"
        },
        "id": "6my3qb_i7fUM",
        "outputId": "85e717e5-e750-4f89-8eee-b859fa26edae"
      },
      "execution_count": 17,
      "outputs": [
        {
          "output_type": "stream",
          "name": "stdout",
          "text": [
            "Entity: Kayſer (Label: PER)\n",
            "Entity: Lt (Label: MISC)\n",
            "Entity: Brig (Label: LOC)\n"
          ]
        }
      ]
    },
    {
      "cell_type": "markdown",
      "source": [
        "## NER with LLMs\n",
        "\n",
        "After using `spacy` for NER we now test the capabilities of LLMs as annotaters via the LLM service `Groq`.\n",
        "\n",
        "* `Groq`: https://console.groq.com/"
      ],
      "metadata": {
        "id": "x7tdW8D17oj1"
      }
    },
    {
      "cell_type": "code",
      "source": [
        "import os\n",
        "import re\n",
        "import requests\n",
        "import json_repair\n",
        "import litellm\n",
        "from google.colab import userdata"
      ],
      "metadata": {
        "id": "jtg4Hhac7hJb"
      },
      "execution_count": 18,
      "outputs": []
    },
    {
      "cell_type": "markdown",
      "source": [
        "We need to provide an API key to use Groq.\n",
        "\n",
        "<font color='red'>**IMPORTANT**: Make sure to never share your API keys!</font>"
      ],
      "metadata": {
        "id": "iO9DHzSC3uD5"
      }
    },
    {
      "cell_type": "code",
      "source": [
        "# Set API key for Groq\n",
        "groq_api_key = \"\" # gsk_12345..."
      ],
      "metadata": {
        "id": "DWF-YILy7uJL"
      },
      "execution_count": 28,
      "outputs": []
    },
    {
      "cell_type": "code",
      "source": [
        "# Check for available Groq models\n",
        "url = \"https://api.groq.com/openai/v1/models\"\n",
        "\n",
        "headers = {\n",
        "  \"Authorization\": f\"Bearer {groq_api_key}\",\n",
        "  \"Content-Type\": \"application/json\"\n",
        "}\n",
        "\n",
        "response = requests.get(url, headers=headers)\n",
        "\n",
        "response.json()"
      ],
      "metadata": {
        "colab": {
          "base_uri": "https://localhost:8080/"
        },
        "id": "hP--EiTB8tbq",
        "outputId": "786b31c4-4db6-41db-9e13-add9f60e1044"
      },
      "execution_count": 29,
      "outputs": [
        {
          "output_type": "execute_result",
          "data": {
            "text/plain": [
              "{'object': 'list',\n",
              " 'data': [{'id': 'llama3-70b-8192',\n",
              "   'object': 'model',\n",
              "   'created': 1693721698,\n",
              "   'owned_by': 'Meta',\n",
              "   'active': True,\n",
              "   'context_window': 8192,\n",
              "   'public_apps': None},\n",
              "  {'id': 'gemma2-9b-it',\n",
              "   'object': 'model',\n",
              "   'created': 1693721698,\n",
              "   'owned_by': 'Google',\n",
              "   'active': True,\n",
              "   'context_window': 8192,\n",
              "   'public_apps': None},\n",
              "  {'id': 'llama-3.2-1b-preview',\n",
              "   'object': 'model',\n",
              "   'created': 1727224268,\n",
              "   'owned_by': 'Meta',\n",
              "   'active': True,\n",
              "   'context_window': 8192,\n",
              "   'public_apps': None},\n",
              "  {'id': 'deepseek-r1-distill-llama-70b',\n",
              "   'object': 'model',\n",
              "   'created': 1737924940,\n",
              "   'owned_by': 'DeepSeek / Meta',\n",
              "   'active': True,\n",
              "   'context_window': 131072,\n",
              "   'public_apps': None},\n",
              "  {'id': 'whisper-large-v3',\n",
              "   'object': 'model',\n",
              "   'created': 1693721698,\n",
              "   'owned_by': 'OpenAI',\n",
              "   'active': True,\n",
              "   'context_window': 448,\n",
              "   'public_apps': None},\n",
              "  {'id': 'llama-3.3-70b-versatile',\n",
              "   'object': 'model',\n",
              "   'created': 1733447754,\n",
              "   'owned_by': 'Meta',\n",
              "   'active': True,\n",
              "   'context_window': 32768,\n",
              "   'public_apps': None},\n",
              "  {'id': 'qwen-2.5-coder-32b',\n",
              "   'object': 'model',\n",
              "   'created': 1739494572,\n",
              "   'owned_by': 'Alibaba Cloud',\n",
              "   'active': True,\n",
              "   'context_window': 131072,\n",
              "   'public_apps': None},\n",
              "  {'id': 'deepseek-r1-distill-qwen-32b',\n",
              "   'object': 'model',\n",
              "   'created': 1738891590,\n",
              "   'owned_by': 'DeepSeek / Alibaba Cloud',\n",
              "   'active': True,\n",
              "   'context_window': 131072,\n",
              "   'public_apps': None},\n",
              "  {'id': 'distil-whisper-large-v3-en',\n",
              "   'object': 'model',\n",
              "   'created': 1693721698,\n",
              "   'owned_by': 'Hugging Face',\n",
              "   'active': True,\n",
              "   'context_window': 448,\n",
              "   'public_apps': None},\n",
              "  {'id': 'llama-guard-3-8b',\n",
              "   'object': 'model',\n",
              "   'created': 1693721698,\n",
              "   'owned_by': 'Meta',\n",
              "   'active': True,\n",
              "   'context_window': 8192,\n",
              "   'public_apps': None},\n",
              "  {'id': 'llama-3.3-70b-specdec',\n",
              "   'object': 'model',\n",
              "   'created': 1733505017,\n",
              "   'owned_by': 'Meta',\n",
              "   'active': True,\n",
              "   'context_window': 8192,\n",
              "   'public_apps': None},\n",
              "  {'id': 'llama-3.2-3b-preview',\n",
              "   'object': 'model',\n",
              "   'created': 1727224290,\n",
              "   'owned_by': 'Meta',\n",
              "   'active': True,\n",
              "   'context_window': 8192,\n",
              "   'public_apps': None},\n",
              "  {'id': 'whisper-large-v3-turbo',\n",
              "   'object': 'model',\n",
              "   'created': 1728413088,\n",
              "   'owned_by': 'OpenAI',\n",
              "   'active': True,\n",
              "   'context_window': 448,\n",
              "   'public_apps': None},\n",
              "  {'id': 'llama-3.2-90b-vision-preview',\n",
              "   'object': 'model',\n",
              "   'created': 1727226914,\n",
              "   'owned_by': 'Meta',\n",
              "   'active': True,\n",
              "   'context_window': 8192,\n",
              "   'public_apps': None},\n",
              "  {'id': 'llama3-8b-8192',\n",
              "   'object': 'model',\n",
              "   'created': 1693721698,\n",
              "   'owned_by': 'Meta',\n",
              "   'active': True,\n",
              "   'context_window': 8192,\n",
              "   'public_apps': None},\n",
              "  {'id': 'mistral-saba-24b',\n",
              "   'object': 'model',\n",
              "   'created': 1739996492,\n",
              "   'owned_by': 'Mistral AI',\n",
              "   'active': True,\n",
              "   'context_window': 32768,\n",
              "   'public_apps': None},\n",
              "  {'id': 'qwen-2.5-32b',\n",
              "   'object': 'model',\n",
              "   'created': 1738789898,\n",
              "   'owned_by': 'Alibaba Cloud',\n",
              "   'active': True,\n",
              "   'context_window': 131072,\n",
              "   'public_apps': None},\n",
              "  {'id': 'llama-3.2-11b-vision-preview',\n",
              "   'object': 'model',\n",
              "   'created': 1727226869,\n",
              "   'owned_by': 'Meta',\n",
              "   'active': True,\n",
              "   'context_window': 8192,\n",
              "   'public_apps': None},\n",
              "  {'id': 'mixtral-8x7b-32768',\n",
              "   'object': 'model',\n",
              "   'created': 1693721698,\n",
              "   'owned_by': 'Mistral AI',\n",
              "   'active': True,\n",
              "   'context_window': 32768,\n",
              "   'public_apps': None},\n",
              "  {'id': 'llama-3.1-8b-instant',\n",
              "   'object': 'model',\n",
              "   'created': 1693721698,\n",
              "   'owned_by': 'Meta',\n",
              "   'active': True,\n",
              "   'context_window': 131072,\n",
              "   'public_apps': None}]}"
            ]
          },
          "metadata": {},
          "execution_count": 29
        }
      ]
    },
    {
      "cell_type": "markdown",
      "source": [
        "### **0-shot prompting** (no example data)"
      ],
      "metadata": {
        "id": "YFNkUFXt8xeh"
      }
    },
    {
      "cell_type": "code",
      "source": [
        "ZERO_SHOT_TEMPLATE = \"\"\"You are a highly intelligent and accurate information extraction system for Named Entity Recognition (NER).\n",
        "I'll provide an <input sentence>, written in German Fraktur. Perform the following task on the <input sentence>:\n",
        "\n",
        "1. Carefully **recognize** and **annotate** entities of the following types:\n",
        "- PER: Names of individuals (e.g. \"Maria\", \"Herzogs Boleslaus des Frommen\", \"Alexander Duval\")\n",
        "- LOC: Names of locations (e.g. \"Polen\", \"Swinemuender Rhede\", \"Aegypten\")\n",
        "- ORG: Names of organizations (e.g. \"Kommiſſion des Pairshofes\", \"Nicolaiſche Buchhandlung\")\n",
        "- TIME: Dates (e.g. \"Auguſt 1834\", \"1002\", \"4. Nov. 1038\")\n",
        "- PROD: Names of products (e.g. \"Voſſiſche Zeitung\", \"Journal de Paris\")\n",
        "\n",
        "2. **Output Format**:\n",
        "- Always preserve all non‐ASCII characters (like 'ſ') exactly as they appear: **do not** convert or escape them.\n",
        "- Return ONLY a **JSON** in the following structure and **nothing** else:\n",
        "\n",
        "```JSON\n",
        "{'text': <input_sentence>,\n",
        " 'labels': [{'text': 'Hamburger Correſpondent',\n",
        "   'label': 'PROD'},\n",
        "   ...\n",
        "   ]\n",
        "}\n",
        "```\n",
        "\n",
        "<input sentence>\n",
        "{input_sentence}\n",
        "\"\"\""
      ],
      "metadata": {
        "id": "NcOECX7a8vhO"
      },
      "execution_count": 21,
      "outputs": []
    },
    {
      "cell_type": "markdown",
      "source": [
        "We construct the final prompt for querying the LLM out of **1)** a prompt template and **2)** an input sentence using the helper function `build_prompt()`"
      ],
      "metadata": {
        "id": "OUavX9Km81VX"
      }
    },
    {
      "cell_type": "code",
      "source": [
        "def build_prompt(template, **kwargs):\n",
        "  \"\"\"\n",
        "  Helper function to inject kwargs into prompt templates.\n",
        "  \"\"\"\n",
        "  prompt = template\n",
        "  for key, value in kwargs.items():\n",
        "    placeholder = f'{{{key}}}'\n",
        "    prompt = prompt.replace(placeholder, str(value))\n",
        "  return prompt\n",
        "\n",
        "# Construct the final prompt with our test sentence as <input_sentence>\n",
        "prompt_zero_shot = build_prompt(\n",
        "  template=ZERO_SHOT_TEMPLATE,\n",
        "  input_sentence=test_sentence['text'].strip()\n",
        ")\n",
        "\n",
        "# Print the prompt\n",
        "print(prompt_zero_shot)"
      ],
      "metadata": {
        "colab": {
          "base_uri": "https://localhost:8080/"
        },
        "id": "o0NBYQ8N8zws",
        "outputId": "6775bea9-7707-467a-bc42-d7063efd9996"
      },
      "execution_count": 22,
      "outputs": [
        {
          "output_type": "stream",
          "name": "stdout",
          "text": [
            "You are a highly intelligent and accurate information extraction system for Named Entity Recognition (NER).\n",
            "I'll provide an <input sentence>, written in German Fraktur. Perform the following task on the <input sentence>:\n",
            "\n",
            "1. Carefully **recognize** and **annotate** entities of the following types:\n",
            "- PER: Names of individuals (e.g. \"Maria\", \"Herzogs Boleslaus des Frommen\", \"Alexander Duval\")\n",
            "- LOC: Names of locations (e.g. \"Polen\", \"Swinemuender Rhede\", \"Aegypten\")\n",
            "- ORG: Names of organizations (e.g. \"Kommiſſion des Pairshofes\", \"Nicolaiſche Buchhandlung\")\n",
            "- TIME: Dates (e.g. \"Auguſt 1834\", \"1002\", \"4. Nov. 1038\")\n",
            "- PROD: Names of products (e.g. \"Voſſiſche Zeitung\", \"Journal de Paris\")\n",
            "\n",
            "2. **Output Format**:\n",
            "- Always preserve all non‐ASCII characters (like 'ſ') exactly as they appear: **do not** convert or escape them.\n",
            "- Return ONLY a **JSON** in the following structure and **nothing** else:\n",
            "\n",
            "```JSON\n",
            "{'text': <input_sentence>,\n",
            " 'labels': [{'text': 'Hamburger Correſpondent',\n",
            "   'label': 'PROD'},\n",
            "   ...\n",
            "   ]\n",
            "}\n",
            "```\n",
            "\n",
            "<input sentence>\n",
            "Am 24. April: Kayſer, Ob. Lt. a. D., zuletzt in der 8. Art. Brig.\n",
            "\n"
          ]
        }
      ]
    },
    {
      "cell_type": "markdown",
      "source": [
        "#### Calling the **LLM Service**\n",
        "\n",
        "We now call the LLM with our newly constructed prompt using the `Groq` API. Notice that we call a relatively small model with 8 billion parameters: `llama-3.1-8b-instant` instead of using a larger model like `llama-3.3-70b-versatile` with 70 billion parameters or OpenAI's `gpt-4o` with 1.8 trillion estimated parameters (OpenAI does not disclose the exact parameter size of their models).\n",
        "\n",
        "The idea is to run a model that we could also run **locally** (by using, e.g., Ollama: https://ollama.com/). Inference would be slower, but the advantages of running a small LLM locally could outweigh the disadvantages for us: think about data privacy, API costs and rate limits etc.\n",
        "\n",
        "---\n",
        "\n",
        "#### Why do we use **`litellm`**?\n",
        "\n",
        "We call the `Groq` API using the Python package `litellm`: https://docs.litellm.ai/\n",
        "\n",
        "`Litellm` is a library to call multiple LLM providers in a **uniform** way: with the following `litellm.completion()` function (wrapped inside the `call_llm()` function) we could call `OpenAI`, `Anthropic`, `Google`, `HuggingFace`, `Ollama` and many others. We would just have to switch the `model` name and the `api_key` according to the service we want to use.\n",
        "\n",
        "<font color='purple'>**NOTE**: To get `Ollama` running with local LLMs you have to install it first. To get `litellm` to use your `Ollama` instance you need to pass an additional argument to the `litellm.completion()` function: `api_base` which refers to the address of your local Ollama instance (default: `http://localhost:11434/`).\n",
        "\n",
        "* `Ollama` (with installation instructions): https://github.com/ollama/ollama\n",
        "* `litellm` Docs: https://docs.litellm.ai/docs/</font>"
      ],
      "metadata": {
        "id": "fmMJ_BKVywK1"
      }
    },
    {
      "cell_type": "code",
      "source": [
        "def call_llm(\n",
        "    model: str,\n",
        "    prompt: str,\n",
        "    system_prompt: str = \"You are a helpful assistant.\",\n",
        "    temperature: float = 0,\n",
        "    api_key: str = groq_api_key\n",
        "    ):\n",
        "  \"\"\"\n",
        "  Function for calling an LLM using litellm.\n",
        "  \"\"\"\n",
        "  response = litellm.completion(\n",
        "    messages=[\n",
        "        {\n",
        "            \"role\": \"system\",\n",
        "            \"content\": system_prompt\n",
        "        },\n",
        "        {\n",
        "            \"role\": \"user\",\n",
        "            \"content\": prompt\n",
        "        }\n",
        "    ],\n",
        "    model=model,\n",
        "    temperature=temperature,\n",
        "    api_key=api_key,\n",
        "    # api_base='http://localhost:11434/' # Only needed if you want to use Ollama with local LLMs\n",
        "  )\n",
        "  return response.choices[0].message.content"
      ],
      "metadata": {
        "id": "aftWoZ0N9Cep"
      },
      "execution_count": 23,
      "outputs": []
    },
    {
      "cell_type": "code",
      "source": [
        "response_zero_shot = call_llm(\n",
        "    model='groq/llama-3.1-8b-instant',\n",
        "    prompt=prompt_zero_shot,\n",
        "    )"
      ],
      "metadata": {
        "id": "1T0DUFJKZurJ"
      },
      "execution_count": 24,
      "outputs": []
    },
    {
      "cell_type": "code",
      "source": [
        "print(response_zero_shot)"
      ],
      "metadata": {
        "colab": {
          "base_uri": "https://localhost:8080/"
        },
        "id": "GKQ7Z4mVvhXj",
        "outputId": "cb6b413d-4ba4-4eb0-be12-6f88cc2839ac"
      },
      "execution_count": 25,
      "outputs": [
        {
          "output_type": "stream",
          "name": "stdout",
          "text": [
            "{'text': 'Am 24. April: Kayſer, Ob. Lt. a. D., zuletzt in der 8. Art. Brig.',\n",
            " 'labels': [{'text': 'Kayſer', 'label': 'PER'},\n",
            "            {'text': 'April', 'label': 'TIME'},\n",
            "            {'text': '8. Art. Brig.', 'label': 'ORG'}]}\n"
          ]
        }
      ]
    },
    {
      "cell_type": "markdown",
      "source": [
        "Our `result` may look like a valid `dict` but is just a plain string:"
      ],
      "metadata": {
        "id": "JhcvR0la2bA_"
      }
    },
    {
      "cell_type": "code",
      "source": [
        "print(type(response_zero_shot))"
      ],
      "metadata": {
        "colab": {
          "base_uri": "https://localhost:8080/"
        },
        "id": "pDQnVvnU2gR9",
        "outputId": "cb9ba227-c0e0-44e9-e0b1-4d7afa59a2b1"
      },
      "execution_count": null,
      "outputs": [
        {
          "output_type": "stream",
          "name": "stdout",
          "text": [
            "<class 'str'>\n"
          ]
        }
      ]
    },
    {
      "cell_type": "markdown",
      "source": [
        "For further processing we transform the `json` string into a valid `dict` using the `json_repair` library.\n",
        "\n",
        "* `json_repair`: https://github.com/mangiucugna/json_repair"
      ],
      "metadata": {
        "id": "YQwhJB8K2j8W"
      }
    },
    {
      "cell_type": "code",
      "source": [
        "def clean_llm_result(result: str) -> dict:\n",
        "  \"\"\"\n",
        "  Helper function to repair LLM results and return a valid dict.\n",
        "  \"\"\"\n",
        "  temp_string = json_repair.repair_json(result)\n",
        "  clean_dict = json.loads(temp_string)\n",
        "  return clean_dict\n",
        "\n",
        "# Call the function\n",
        "result_zero_shot = clean_llm_result(response_zero_shot)\n",
        "\n",
        "# Print the result\n",
        "result_zero_shot"
      ],
      "metadata": {
        "colab": {
          "base_uri": "https://localhost:8080/"
        },
        "id": "O3xWU3cc9bQP",
        "outputId": "26fbe917-e159-41f9-92dd-25c1b21eaa20"
      },
      "execution_count": null,
      "outputs": [
        {
          "output_type": "execute_result",
          "data": {
            "text/plain": [
              "{'text': 'Am 24. April: Kayſer, Ob. Lt. a. D., zuletzt in der 8. Art. Brig.',\n",
              " 'labels': [{'text': 'Kayſer', 'label': 'PER'},\n",
              "  {'text': 'April', 'label': 'TIME'},\n",
              "  {'text': '8. Art. Brig.', 'label': 'ORG'}]}"
            ]
          },
          "metadata": {},
          "execution_count": 45
        }
      ]
    },
    {
      "cell_type": "code",
      "source": [
        "# Now we have a dict\n",
        "print(type(result_zero_shot))"
      ],
      "metadata": {
        "colab": {
          "base_uri": "https://localhost:8080/"
        },
        "id": "ei1TNl3W2rsl",
        "outputId": "f15cfed0-e003-4300-b991-b9d7638f50e7"
      },
      "execution_count": null,
      "outputs": [
        {
          "output_type": "stream",
          "name": "stdout",
          "text": [
            "<class 'dict'>\n"
          ]
        }
      ]
    },
    {
      "cell_type": "markdown",
      "source": [
        "At the moment we are missing `start` and `end` positions for our NER labels. A small helper functions can resolve this issue:"
      ],
      "metadata": {
        "id": "yXUnlJl45djg"
      }
    },
    {
      "cell_type": "code",
      "source": [
        "# Get the position of the labeled spans and append them to the dict\n",
        "def annotate_span_positions(data):\n",
        "  \"\"\"\n",
        "  Calculate correct span positions for labeled entities.\n",
        "  \"\"\"\n",
        "  if isinstance(data, list):\n",
        "   data = data[0]\n",
        "\n",
        "  text = data[\"text\"]\n",
        "  new_labels = []\n",
        "\n",
        "  for label in data[\"labels\"]:\n",
        "    span = label.get(\"span\") or label.get(\"text\")\n",
        "\n",
        "    # Find all occurrences of the span in text\n",
        "    matches = list(re.finditer(re.escape(span), text))\n",
        "    for m in matches:\n",
        "        start, end = m.start(), m.end()\n",
        "\n",
        "        # Check that the occurrence is not part of a larger alphanumeric token\n",
        "        if start > 0 and text[start-1].isalnum():\n",
        "          continue\n",
        "        if end < len(text) and text[end].isalnum():\n",
        "          continue\n",
        "        new_labels.append({\n",
        "            \"text\": span,\n",
        "            \"start\": start,\n",
        "            \"end\": end,\n",
        "            \"label\": label[\"label\"]\n",
        "        })\n",
        "  data[\"labels\"] = new_labels\n",
        "  return data"
      ],
      "metadata": {
        "id": "SMK-PHhpT9lq"
      },
      "execution_count": null,
      "outputs": []
    },
    {
      "cell_type": "code",
      "source": [
        "result_zero_shot_spans = annotate_span_positions(result_zero_shot)\n",
        "result_zero_shot_spans"
      ],
      "metadata": {
        "colab": {
          "base_uri": "https://localhost:8080/"
        },
        "id": "i-J3RfInku0u",
        "outputId": "12223bec-f571-412c-f39b-b3f744472050"
      },
      "execution_count": null,
      "outputs": [
        {
          "output_type": "execute_result",
          "data": {
            "text/plain": [
              "{'text': 'Am 24. April: Kayſer, Ob. Lt. a. D., zuletzt in der 8. Art. Brig.',\n",
              " 'labels': [{'text': 'Kayſer', 'start': 14, 'end': 20, 'label': 'PER'},\n",
              "  {'text': 'April', 'start': 7, 'end': 12, 'label': 'TIME'},\n",
              "  {'text': '8. Art. Brig.', 'start': 52, 'end': 65, 'label': 'ORG'}]}"
            ]
          },
          "metadata": {},
          "execution_count": 48
        }
      ]
    },
    {
      "cell_type": "markdown",
      "source": [
        "#### **Comparison**"
      ],
      "metadata": {
        "id": "v5XO_hUE8DdM"
      }
    },
    {
      "cell_type": "code",
      "source": [
        "def print_comparisons(test_sentence: str, llm_result: dict) -> None:\n",
        "  \"\"\"\n",
        "  Helper function to print a comparison of manual, spacy and LLM\n",
        "  entity labels.\n",
        "  \"\"\"\n",
        "  if test_sentence:\n",
        "    print(f\"Test Sentence:\\n{test_sentence['text']}\\n\")\n",
        "\n",
        "    print('=== Entities (Human) ===')\n",
        "    print_entities(test_sentence)\n",
        "\n",
        "    print(\"\\n=== Entities (Spacy: de_core_news_md) ===\")\n",
        "    spacy.require_cpu()\n",
        "    nlp = spacy.load(\"de_core_news_md\")\n",
        "    doc = nlp(test_sentence['text'])\n",
        "\n",
        "    for ent in doc.ents:\n",
        "      print(f\"Entity: {ent.text} (Label: {ent.label_})\")\n",
        "\n",
        "  if llm_result:\n",
        "    print('\\n=== Entities (LLM) ===')\n",
        "    print_entities(llm_result)"
      ],
      "metadata": {
        "id": "n_Bkf9kAol9z"
      },
      "execution_count": null,
      "outputs": []
    },
    {
      "cell_type": "code",
      "source": [
        "print_comparisons(test_sentence=test_sentence, llm_result=result_zero_shot_spans)"
      ],
      "metadata": {
        "colab": {
          "base_uri": "https://localhost:8080/"
        },
        "id": "aW9eRv7yplk8",
        "outputId": "12270835-19d1-485c-a915-672343669597"
      },
      "execution_count": null,
      "outputs": [
        {
          "output_type": "stream",
          "name": "stdout",
          "text": [
            "Test Sentence:\n",
            "Am 24. April: Kayſer, Ob. Lt. a. D., zuletzt in der 8. Art. Brig.\n",
            "\n",
            "=== Entities (Human) ===\n",
            "Entity: 24. April (Label: TIME)\n",
            "Entity: Kayſer, Ob. Lt. a. D. (Label: PER)\n",
            "Entity: 8. Art. Brig (Label: ORG)\n",
            "\n",
            "=== Entities (Spacy: de_core_news_md) ===\n",
            "Entity: Kayſer (Label: MISC)\n",
            "Entity: Lt (Label: PER)\n",
            "Entity: Brig (Label: LOC)\n",
            "\n",
            "=== Entities (LLM) ===\n",
            "Entity: Kayſer (Label: PER)\n",
            "Entity: April (Label: TIME)\n",
            "Entity: 8. Art. Brig. (Label: ORG)\n"
          ]
        }
      ]
    },
    {
      "cell_type": "markdown",
      "source": [
        "### **Exercise**\n",
        "\n",
        "Test other models on the test sentence."
      ],
      "metadata": {
        "id": "3FrBINB21Jsk"
      }
    },
    {
      "cell_type": "code",
      "source": [
        "# Check for available Groq models\n",
        "url = \"https://api.groq.com/openai/v1/models\"\n",
        "\n",
        "headers = {\n",
        "  \"Authorization\": f\"Bearer {groq_api_key}\",\n",
        "  \"Content-Type\": \"application/json\"\n",
        "}\n",
        "# response = requests.get(url, headers=headers)\n",
        "# response.json()"
      ],
      "metadata": {
        "id": "rtlZ5mKi1ozI"
      },
      "execution_count": null,
      "outputs": []
    },
    {
      "cell_type": "code",
      "source": [
        "# Calling the Groq API using litellm\n",
        "response = litellm.completion(\n",
        "  messages=[{\n",
        "    \"role\": \"user\",\n",
        "    \"content\": prompt_zero_shot\n",
        "  }],\n",
        "  model='groq/llama-3.2-3b-preview',\n",
        "  temperature=0,\n",
        "  api_key=groq_api_key\n",
        ")\n",
        "# result = clean_llm_result(response.choices[0].message.content)\n",
        "# result = annotate_span_positions(result)\n",
        "# print_comparisons(test_sentence=test_sentence, llm_result=result)"
      ],
      "metadata": {
        "id": "ekj-2B6f1VMg"
      },
      "execution_count": null,
      "outputs": []
    },
    {
      "cell_type": "markdown",
      "source": [
        "### **Few-shot prompting** (with example data)"
      ],
      "metadata": {
        "id": "ULMXFKkk4gMo"
      }
    },
    {
      "cell_type": "code",
      "source": [
        "FEW_SHOT_TEMPLATE = \"\"\"You are a highly intelligent and accurate information extraction system for Named Entity Recognition (NER).\n",
        "I'll provide an <input sentence>, written in German Fraktur. Perform the following task on the <input sentence>:\n",
        "\n",
        "1. Carefully **recognize** and **annotate** entities of the following types:\n",
        "- PER: Names of individuals (e.g. \"Maria\", \"Herzogs Boleslaus des Frommen\", \"Alexander Duval\")\n",
        "- LOC: Names of locations (e.g. \"Polen\", \"Swinemuender Rhede\", \"Aegypten\")\n",
        "- ORG: Names of organizations (e.g. \"Kommiſſion des Pairshofes\", \"Nicolaiſche Buchhandlung\")\n",
        "- TIME: Dates (e.g. \"Auguſt 1834\", \"1002\", \"4. Nov. 1038\")\n",
        "- PROD: Names of products (e.g. \"Voſſiſche Zeitung\", \"Journal de Paris\")\n",
        "\n",
        "2. **Output Format**:\n",
        "- Use the provided <example> for reference.\n",
        "- Always preserve all non‐ASCII characters (like 'ſ') exactly as they appear: **do not** convert or escape them.\n",
        "- Return ONLY a **JSON** in the following structure and **nothing** else:\n",
        "\n",
        "```JSON\n",
        "{'text': <input sentence>,\n",
        " 'labels': [{'text': 'Hamburger Correſpondent',\n",
        "   'label': 'PROD'},\n",
        "   ...\n",
        "   ]\n",
        "}\n",
        "```\n",
        "\n",
        "<example>\n",
        "{example}\n",
        "</example>\n",
        "\n",
        "<input sentence>\n",
        "{input_sentence}\n",
        "\"\"\""
      ],
      "metadata": {
        "id": "h0DCBE0k4mMr"
      },
      "execution_count": null,
      "outputs": []
    },
    {
      "cell_type": "code",
      "source": [
        "# Example sentence for our few shot prompt\n",
        "example_data[0]"
      ],
      "metadata": {
        "colab": {
          "base_uri": "https://localhost:8080/"
        },
        "id": "IKU_0eIliixl",
        "outputId": "44641200-4061-4622-f314-7d5f9e5ba01e"
      },
      "execution_count": null,
      "outputs": [
        {
          "output_type": "execute_result",
          "data": {
            "text/plain": [
              "{'text': 'Am 28. April: Dr. Hoffa, Ob. St. Arzt a. D., zuletzt in der ehem. Kurheſſ. Artill.',\n",
              " 'labels': [{'text': '28. April', 'start': 3, 'end': 12, 'label': 'TIME'},\n",
              "  {'text': 'Dr. Hoffa, Ob. St. Arzt a. D.',\n",
              "   'start': 14,\n",
              "   'end': 43,\n",
              "   'label': 'PER'},\n",
              "  {'text': 'ehem. Kurheſſ. Artill.', 'start': 60, 'end': 82, 'label': 'ORG'}]}"
            ]
          },
          "metadata": {},
          "execution_count": 54
        }
      ]
    },
    {
      "cell_type": "code",
      "source": [
        "# Construct the few shot prompt with example and test sentence\n",
        "prompt_few_shot = build_prompt(\n",
        "    template=FEW_SHOT_TEMPLATE,\n",
        "    example=example_data[0],\n",
        "    input_sentence=test_sentence['text']\n",
        "    )\n",
        "\n",
        "print(prompt_few_shot)"
      ],
      "metadata": {
        "colab": {
          "base_uri": "https://localhost:8080/"
        },
        "id": "-4A26EONh7UD",
        "outputId": "1514490a-26b4-44f7-c49e-cbb7083fa2f2"
      },
      "execution_count": null,
      "outputs": [
        {
          "output_type": "stream",
          "name": "stdout",
          "text": [
            "You are a highly intelligent and accurate information extraction system for Named Entity Recognition (NER).\n",
            "I'll provide an <input sentence>, written in German Fraktur. Perform the following task on the <input sentence>:\n",
            "\n",
            "1. Carefully **recognize** and **annotate** entities of the following types:\n",
            "- PER: Names of individuals (e.g. \"Maria\", \"Herzogs Boleslaus des Frommen\", \"Alexander Duval\")\n",
            "- LOC: Names of locations (e.g. \"Polen\", \"Swinemuender Rhede\", \"Aegypten\")\n",
            "- ORG: Names of organizations (e.g. \"Kommiſſion des Pairshofes\", \"Nicolaiſche Buchhandlung\")\n",
            "- TIME: Dates (e.g. \"Auguſt 1834\", \"1002\", \"4. Nov. 1038\")\n",
            "- PROD: Names of products (e.g. \"Voſſiſche Zeitung\", \"Journal de Paris\")\n",
            "\n",
            "2. **Output Format**:\n",
            "- Use the provided <example> for reference.\n",
            "- Always preserve all non‐ASCII characters (like 'ſ') exactly as they appear: **do not** convert or escape them.\n",
            "- Return ONLY a **JSON** in the following structure and **nothing** else:\n",
            "\n",
            "```JSON\n",
            "{'text': <input sentence>,\n",
            " 'labels': [{'text': 'Hamburger Correſpondent',\n",
            "   'label': 'PROD'},\n",
            "   ...\n",
            "   ]\n",
            "}\n",
            "```\n",
            "\n",
            "<example>\n",
            "{'text': 'Am 28. April: Dr. Hoffa, Ob. St. Arzt a. D., zuletzt in der ehem. Kurheſſ. Artill.', 'labels': [{'text': '28. April', 'start': 3, 'end': 12, 'label': 'TIME'}, {'text': 'Dr. Hoffa, Ob. St. Arzt a. D.', 'start': 14, 'end': 43, 'label': 'PER'}, {'text': 'ehem. Kurheſſ. Artill.', 'start': 60, 'end': 82, 'label': 'ORG'}]}\n",
            "</example>\n",
            "\n",
            "<input sentence>\n",
            "Am 24. April: Kayſer, Ob. Lt. a. D., zuletzt in der 8. Art. Brig.\n",
            "\n"
          ]
        }
      ]
    },
    {
      "cell_type": "code",
      "source": [
        "# Call the LLM with the few shot prompt\n",
        "response_few_shot = call_llm(\n",
        "    model='groq/qwen-2.5-32b',\n",
        "    prompt=prompt_few_shot,\n",
        "    )\n",
        "print(response_few_shot)"
      ],
      "metadata": {
        "colab": {
          "base_uri": "https://localhost:8080/"
        },
        "id": "y2oKUMHga8i1",
        "outputId": "94039316-e7c1-4884-b42d-a18c64f603f6"
      },
      "execution_count": null,
      "outputs": [
        {
          "output_type": "stream",
          "name": "stdout",
          "text": [
            "```json\n",
            "{\n",
            "  \"text\": \"Am 24. April: Kayſer, Ob. Lt. a. D., zuletzt in der 8. Art. Brig.\",\n",
            "  \"labels\": [\n",
            "    {\n",
            "      \"text\": \"24. April\",\n",
            "      \"start\": 3,\n",
            "      \"end\": 12,\n",
            "      \"label\": \"TIME\"\n",
            "    },\n",
            "    {\n",
            "      \"text\": \"Kayſer, Ob. Lt. a. D.\",\n",
            "      \"start\": 14,\n",
            "      \"end\": 33,\n",
            "      \"label\": \"PER\"\n",
            "    },\n",
            "    {\n",
            "      \"text\": \"8. Art. Brig.\",\n",
            "      \"start\": 53,\n",
            "      \"end\": 64,\n",
            "      \"label\": \"ORG\"\n",
            "    }\n",
            "  ]\n",
            "}\n",
            "```\n"
          ]
        }
      ]
    },
    {
      "cell_type": "code",
      "source": [
        "# Repair the LLM result (type = str) to get a valid dict\n",
        "result_few_shot = clean_llm_result(response_few_shot)\n",
        "\n",
        "# Add correct span lengths to the annotated data\n",
        "result_few_shot_spans = annotate_span_positions(result_few_shot)\n",
        "result_few_shot_spans"
      ],
      "metadata": {
        "colab": {
          "base_uri": "https://localhost:8080/"
        },
        "id": "WmxF4839jaex",
        "outputId": "28c02f00-ab75-46b5-d05e-35bfa95da0ac"
      },
      "execution_count": null,
      "outputs": [
        {
          "output_type": "execute_result",
          "data": {
            "text/plain": [
              "{'text': 'Am 24. April: Kayſer, Ob. Lt. a. D., zuletzt in der 8. Art. Brig.',\n",
              " 'labels': [{'text': '24. April', 'start': 3, 'end': 12, 'label': 'TIME'},\n",
              "  {'text': 'Kayſer, Ob. Lt. a. D.', 'start': 14, 'end': 35, 'label': 'PER'},\n",
              "  {'text': '8. Art. Brig.', 'start': 52, 'end': 65, 'label': 'ORG'}]}"
            ]
          },
          "metadata": {},
          "execution_count": 57
        }
      ]
    },
    {
      "cell_type": "markdown",
      "source": [
        "#### **Comparison**"
      ],
      "metadata": {
        "id": "f697UJL-r0Th"
      }
    },
    {
      "cell_type": "code",
      "source": [
        "print_comparisons(test_sentence, llm_result=result_few_shot_spans)"
      ],
      "metadata": {
        "colab": {
          "base_uri": "https://localhost:8080/"
        },
        "id": "MTa_0qDJk2gS",
        "outputId": "4de67c22-5fa4-4cfa-f71f-183b36f5279f"
      },
      "execution_count": null,
      "outputs": [
        {
          "output_type": "stream",
          "name": "stdout",
          "text": [
            "Test Sentence:\n",
            "Am 24. April: Kayſer, Ob. Lt. a. D., zuletzt in der 8. Art. Brig.\n",
            "\n",
            "=== Entities (Human) ===\n",
            "Entity: 24. April (Label: TIME)\n",
            "Entity: Kayſer, Ob. Lt. a. D. (Label: PER)\n",
            "Entity: 8. Art. Brig (Label: ORG)\n",
            "\n",
            "=== Entities (Spacy: de_core_news_md) ===\n",
            "Entity: Kayſer (Label: MISC)\n",
            "Entity: Lt (Label: PER)\n",
            "Entity: Brig (Label: LOC)\n",
            "\n",
            "=== Entities (LLM) ===\n",
            "Entity: 24. April (Label: TIME)\n",
            "Entity: Kayſer, Ob. Lt. a. D. (Label: PER)\n",
            "Entity: 8. Art. Brig. (Label: ORG)\n"
          ]
        }
      ]
    },
    {
      "cell_type": "markdown",
      "source": [
        "#### **System Prompts**\n",
        "\n",
        "To align the LLM better to our NER task we test a system prompt next."
      ],
      "metadata": {
        "id": "mHP53SivsO2v"
      }
    },
    {
      "cell_type": "code",
      "source": [
        "SYSTEM_PROMPT_TEMPLATE = \"\"\"You are a **precision-driven Named Entity Recognition (NER) engine**. Follow these steps rigorously:\n",
        "1. Comprehensively analyze the <input_sentence>, **prioritizing contextual understanding** over isolated terms.\n",
        "\n",
        "2. **Identify** and **classify entities** into these categories (with strict validation):\n",
        "- PER: Names of individuals, including titles (e.g. \"Maria\", \"Herzogs Boleslaus des Frommen\", \"Alexander Duval\")\n",
        "- LOC: Physical locations; cities, countries, landmarks (e.g. \"Polen\", \"Swinemuender Rhede\", \"Aegypten\")\n",
        "- ORG: Companies, organizations, institutions, brands (e.g. \"Kommiſſion des Pairshofes\", \"Nicolaiſche Buchhandlung\")\n",
        "- TIME: Absolute Dates (e.g. \"Auguſt 1834\", \"1002\", \"4. Nov. 1038\")\n",
        "- PROD: Products, outlets, commodities (e.g. \"Voſſiſche Zeitung\", \"Journal de Paris\", \"Aspirin\")\n",
        "\n",
        "3. **Resolve ambiguity** by:\n",
        "- Cross-referencing entities within the <input_sentence> (e.g., pronouns with antecedents).\n",
        "\n",
        "4. **Output Format**:\n",
        "- Use the provided <example> for reference.\n",
        "- Always preserve all non‐ASCII characters (like 'ſ') exactly as they appear: **do not** convert or escape them.\n",
        "- Return ONLY a **JSON** in the following structure and **nothing** else:\n",
        "\n",
        "```JSON\n",
        "{'text': <input sentence>,\n",
        " 'labels': [{'text': 'Hamburger Correſpondent',\n",
        "   'label': 'PROD'},\n",
        "   ...\n",
        "   ]\n",
        "}\n",
        "```\n",
        "\n",
        "**Prioritize accuracy over speed**. If entity boundaries or types are unclear, return nothing rather than guessing.\"\"\"\n"
      ],
      "metadata": {
        "id": "UbNlIR1eroW6"
      },
      "execution_count": null,
      "outputs": []
    },
    {
      "cell_type": "code",
      "source": [
        "EXAMPLES_PROMPT_TEMPLATE = \"\"\"<example>\n",
        "{example}\n",
        "</example>\n",
        "\n",
        "<input_sentence>\n",
        "{input_sentence}\n",
        "\"\"\""
      ],
      "metadata": {
        "id": "TAK9RN4XK56-"
      },
      "execution_count": null,
      "outputs": []
    },
    {
      "cell_type": "code",
      "source": [
        "prompt_example_input_only = build_prompt(\n",
        "    template=EXAMPLES_PROMPT_TEMPLATE,\n",
        "    example=example_data[0],\n",
        "    input_sentence=test_sentence['text']\n",
        "    )\n",
        "\n",
        "print(prompt_example_input_only)"
      ],
      "metadata": {
        "colab": {
          "base_uri": "https://localhost:8080/"
        },
        "id": "97kU8qJDLfKo",
        "outputId": "9179d326-5691-42c4-88fa-de9ae91577ba"
      },
      "execution_count": null,
      "outputs": [
        {
          "output_type": "stream",
          "name": "stdout",
          "text": [
            "<example>\n",
            "{'text': 'Am 28. April: Dr. Hoffa, Ob. St. Arzt a. D., zuletzt in der ehem. Kurheſſ. Artill.', 'labels': [{'text': '28. April', 'start': 3, 'end': 12, 'label': 'TIME'}, {'text': 'Dr. Hoffa, Ob. St. Arzt a. D.', 'start': 14, 'end': 43, 'label': 'PER'}, {'text': 'ehem. Kurheſſ. Artill.', 'start': 60, 'end': 82, 'label': 'ORG'}]}\n",
            "</example>\n",
            "\n",
            "<input_sentence>\n",
            "Am 24. April: Kayſer, Ob. Lt. a. D., zuletzt in der 8. Art. Brig.\n",
            "\n"
          ]
        }
      ]
    },
    {
      "cell_type": "code",
      "source": [
        "# Call the LLM with our system_prompt and example_only_prompt\n",
        "response = call_llm(\n",
        "    model='groq/qwen-2.5-32b',\n",
        "    system_prompt=SYSTEM_PROMPT_TEMPLATE,\n",
        "    prompt=prompt_example_input_only\n",
        "    )\n",
        "\n",
        "print(response_few_shot)"
      ],
      "metadata": {
        "colab": {
          "base_uri": "https://localhost:8080/"
        },
        "id": "tby96y6kdUfl",
        "outputId": "2b420083-cdb7-4655-add1-1764d6e4b47f"
      },
      "execution_count": null,
      "outputs": [
        {
          "output_type": "stream",
          "name": "stdout",
          "text": [
            "```json\n",
            "{\n",
            "  \"text\": \"Am 24. April: Kayſer, Ob. Lt. a. D., zuletzt in der 8. Art. Brig.\",\n",
            "  \"labels\": [\n",
            "    {\n",
            "      \"text\": \"24. April\",\n",
            "      \"start\": 3,\n",
            "      \"end\": 12,\n",
            "      \"label\": \"TIME\"\n",
            "    },\n",
            "    {\n",
            "      \"text\": \"Kayſer, Ob. Lt. a. D.\",\n",
            "      \"start\": 14,\n",
            "      \"end\": 33,\n",
            "      \"label\": \"PER\"\n",
            "    },\n",
            "    {\n",
            "      \"text\": \"8. Art. Brig.\",\n",
            "      \"start\": 53,\n",
            "      \"end\": 64,\n",
            "      \"label\": \"ORG\"\n",
            "    }\n",
            "  ]\n",
            "}\n",
            "```\n"
          ]
        }
      ]
    },
    {
      "cell_type": "code",
      "source": [
        "def process_LLM_response(response) -> dict:\n",
        "  \"\"\"\n",
        "  Helper function to clean the LLM response.\n",
        "\n",
        "  This function combines the individual steps for processing\n",
        "  the LLM result (cleaning the str; transforming it into a\n",
        "  dict etc.)\n",
        "  \"\"\"\n",
        "  result = clean_llm_result(response)\n",
        "  result = annotate_span_positions(result)\n",
        "  return result\n",
        "\n",
        "llm_result = process_LLM_response(response)\n",
        "print_comparisons(test_sentence, llm_result)"
      ],
      "metadata": {
        "colab": {
          "base_uri": "https://localhost:8080/"
        },
        "id": "Tbd4g2nELDOB",
        "outputId": "58c6a3cf-d1ba-4eb4-8b80-88e224aab926"
      },
      "execution_count": null,
      "outputs": [
        {
          "output_type": "stream",
          "name": "stdout",
          "text": [
            "Test Sentence:\n",
            "Am 24. April: Kayſer, Ob. Lt. a. D., zuletzt in der 8. Art. Brig.\n",
            "\n",
            "=== Entities (Human) ===\n",
            "Entity: 24. April (Label: TIME)\n",
            "Entity: Kayſer, Ob. Lt. a. D. (Label: PER)\n",
            "Entity: 8. Art. Brig (Label: ORG)\n",
            "\n",
            "=== Entities (Spacy: de_core_news_md) ===\n",
            "Entity: Kayſer (Label: MISC)\n",
            "Entity: Lt (Label: PER)\n",
            "Entity: Brig (Label: LOC)\n",
            "\n",
            "=== Entities (LLM) ===\n",
            "Entity: 24. April (Label: TIME)\n",
            "Entity: Kayſer, Ob. Lt. a. D. (Label: PER)\n",
            "Entity: 8. Art. Brig. (Label: ORG)\n"
          ]
        }
      ]
    },
    {
      "cell_type": "markdown",
      "source": [
        "#### Running LLM annotation on a **list** of sentences\n",
        "\n",
        "In a production setting we would likely want to annotate a **list of sentences** instead of one sentence at a time. We test this workflow next."
      ],
      "metadata": {
        "id": "dup-3fjfeLt4"
      }
    },
    {
      "cell_type": "code",
      "source": [
        "# We define a sample list with 5 sentences\n",
        "sample_set = test_data[:5]\n",
        "sample_set"
      ],
      "metadata": {
        "colab": {
          "base_uri": "https://localhost:8080/"
        },
        "id": "NJmEaYnqj7_m",
        "outputId": "36163e9e-96a9-41f6-d1d5-98b53d025e17"
      },
      "execution_count": null,
      "outputs": [
        {
          "output_type": "execute_result",
          "data": {
            "text/plain": [
              "[{'text': 'Lord Palmerſton iſt von hier nach Tiverton in Devonſhire abgereiſt.',\n",
              "  'labels': [{'text': 'Lord Palmerſton',\n",
              "    'start': 0,\n",
              "    'end': 15,\n",
              "    'label': 'PER'},\n",
              "   {'text': 'Tiverton', 'start': 34, 'end': 42, 'label': 'LOC'},\n",
              "   {'text': 'Devonſhire', 'start': 46, 'end': 56, 'label': 'LOC'}]},\n",
              " {'text': 'Dümmler, Linden Nr. 19, zu haben: Ueber die Bildung der Steinkohle, [1949] nach Lindley und Hutten mit Rückſicht auf andere darüber aufgeſtellte Anſichten.',\n",
              "  'labels': [{'text': 'Dümmler', 'start': 0, 'end': 7, 'label': 'PER'},\n",
              "   {'text': 'Linden Nr. 19', 'start': 9, 'end': 22, 'label': 'LOC'},\n",
              "   {'text': 'Lindley', 'start': 80, 'end': 87, 'label': 'PER'},\n",
              "   {'text': 'Hutten', 'start': 92, 'end': 98, 'label': 'PER'}]},\n",
              " {'text': 'Am 14. Februar: v. Reiche, Major a. D, zuletzt in ehem. Hannov. Dienſten.',\n",
              "  'labels': [{'text': '14. Februar', 'start': 3, 'end': 14, 'label': 'TIME'},\n",
              "   {'text': 'v. Reiche, Major a. D', 'start': 16, 'end': 37, 'label': 'PER'}]},\n",
              " {'text': 'Abgereiſt: Der Großherzoglich Mecklenburg⸗Schwerinſche General⸗Major von Bothe, nach Schwerin.',\n",
              "  'labels': [{'text': 'Großherzoglich Mecklenburg⸗Schwerinſche General⸗Major von Bothe',\n",
              "    'start': 15,\n",
              "    'end': 78,\n",
              "    'label': 'PER'},\n",
              "   {'text': 'Schwerin', 'start': 85, 'end': 93, 'label': 'LOC'}]},\n",
              " {'text': '⸗ Daetweiler, Prenzlauerſtr. Nr. 22. ',\n",
              "  'labels': [{'text': 'Daetweiler', 'start': 2, 'end': 12, 'label': 'PER'},\n",
              "   {'text': 'Prenzlauerſtr. Nr. 22', 'start': 14, 'end': 35, 'label': 'LOC'}]}]"
            ]
          },
          "metadata": {},
          "execution_count": 64
        }
      ]
    },
    {
      "cell_type": "code",
      "source": [
        "import numpy as np\n",
        "import random\n",
        "import time\n",
        "\n",
        "def cosine_sim(a, b):\n",
        "  \"\"\"\n",
        "  Compute the cosine similarity between two vectors.\n",
        "  \"\"\"\n",
        "  return np.dot(a, b) / (np.linalg.norm(a) * np.linalg.norm(b))\n",
        "\n",
        "def get_kNN_examples(\n",
        "    embedding_model,\n",
        "    embedded_sentence: str = None,\n",
        "    embedded_data: list[dict] = None,\n",
        "    k: int = 3\n",
        "    ) -> list:\n",
        "  \"\"\"\n",
        "  Retrieve kNN examples from a sentence and a data_pool of this type:\n",
        "\n",
        "    {\n",
        "      'text': 'Berliner Anzeiger am 28. April.',\n",
        "      'labels': [\n",
        "        {'text': '28. April', 'start': 3, 'end': 12, 'label': 'TIME'},\n",
        "        {'text': 'Berliner Anzeiger', 'start': 21, 'end': 30,'label': 'PROD'}\n",
        "        ]\n",
        "    }\n",
        "  \"\"\"\n",
        "  if len(embedded_sentence) > 0 and embedded_data:\n",
        "    # Run cosine similarity between embedded_sentence and embedded_data vectors\n",
        "    similarities = [cosine_sim(embedded_sentence, data['embeddings']) for data in embedded_data]\n",
        "\n",
        "    # Retrieve kNN example sentences\n",
        "    top_k_indices = np.argsort(similarities)[-k:][::-1]\n",
        "    knn_examples = [embedded_data[i] for i in top_k_indices]\n",
        "\n",
        "    return knn_examples\n",
        "\n",
        "  else:\n",
        "    print('Please provide a valid sentence and data_pool.')\n",
        "    return None\n",
        "\n",
        "def run_LLM_annotation(\n",
        "    sentences: list[dict],\n",
        "    example_data: list[dict],\n",
        "    model: str,\n",
        "    embedding_model: str = None,\n",
        "    temperature: float = 0,\n",
        "    api_key: str = groq_api_key\n",
        "  ) -> list[dict]:\n",
        "  \"\"\"\n",
        "  Annotate sentences using an LLM with optional embedding-based\n",
        "  example selection.\n",
        "\n",
        "  For each sentence (extracted from the 'text' key), the function\n",
        "  either retrieves a similar example via kNN (if an embedding_model\n",
        "  is provided) or selects one randomly from example_data. It then\n",
        "  builds a prompt using a template, calls the LLM to annotate the\n",
        "  sentence, processes the response, and returns a list of annotation\n",
        "  results.\n",
        "  \"\"\"\n",
        "  if not sentences:\n",
        "    print('Please provide at least one sentence for annotation.')\n",
        "    return\n",
        "  elif len(sentences) == 1:\n",
        "    # If only one sentence is passed, make it a list\n",
        "    sentences = [sentences]\n",
        "\n",
        "  sentences = [sent['text'] for sent in sentences]\n",
        "\n",
        "  # If embedding_model provided embed example_data\n",
        "  if embedding_model:\n",
        "    for i, sent in enumerate(example_data):\n",
        "      example_data[i]['embeddings'] = embedding_model.encode(f\"{sent['text']}\")\n",
        "\n",
        "  # Run the annotation\n",
        "  labeled_sentences = []\n",
        "  for i, sent in enumerate(sentences):\n",
        "    # Choose an example sentence using kNN retrieval\n",
        "    if embedding_model:\n",
        "      sent_embedding = embedding_model.encode(f\"{sent}\")\n",
        "      example_sents = get_kNN_examples(\n",
        "          embedding_model=embedding_model,\n",
        "          embedded_sentence=sent_embedding,\n",
        "          embedded_data=example_data,\n",
        "          k=3\n",
        "          )\n",
        "      example_sent = example_sents[0]\n",
        "    # Choose an example sentence randomly\n",
        "    else:\n",
        "      example_sent = random.choice(example_data)\n",
        "\n",
        "    # Combine prompt using a template, example and input sentence\n",
        "    prompt = build_prompt(\n",
        "        template=EXAMPLES_PROMPT_TEMPLATE,\n",
        "        input_sentence=sent,\n",
        "        example=example_sent\n",
        "        )\n",
        "\n",
        "    # Call the LLM\n",
        "    response = call_llm(\n",
        "        model=model,\n",
        "        system_prompt=SYSTEM_PROMPT_TEMPLATE,\n",
        "        prompt=prompt,\n",
        "        temperature=temperature,\n",
        "        api_key=api_key\n",
        "    )\n",
        "\n",
        "    # Process and clean the response\n",
        "    result = process_LLM_response(response)\n",
        "\n",
        "    # Append the resulting dict to our list\n",
        "    labeled_sentences.append(result)\n",
        "\n",
        "    # Sleep for 5 seconds to avoid rate limit error\n",
        "    print(f\"→ Sentence [{i}] finished: Waiting to avoid hitting rate limit ...\")\n",
        "    time.sleep(5)\n",
        "\n",
        "  return labeled_sentences"
      ],
      "metadata": {
        "id": "ay0xjZ7sN8NY"
      },
      "execution_count": null,
      "outputs": []
    },
    {
      "cell_type": "markdown",
      "source": [
        "Run annotation on the sample set while **randomly** choosing an example sentence."
      ],
      "metadata": {
        "id": "nCVukI9-AcBg"
      }
    },
    {
      "cell_type": "code",
      "source": [
        "# Run annotation on sample set\n",
        "labeled_sentences = run_LLM_annotation(\n",
        "    sentences=sample_set,\n",
        "    example_data=example_data, # retrieve examples from example_data\n",
        "  \tmodel='groq/qwen-2.5-32b'\n",
        "  )"
      ],
      "metadata": {
        "id": "a1aFr1R1seta",
        "colab": {
          "base_uri": "https://localhost:8080/"
        },
        "outputId": "cc744f09-9dde-4b8f-bdd0-a6e1f68ad03c"
      },
      "execution_count": null,
      "outputs": [
        {
          "output_type": "stream",
          "name": "stdout",
          "text": [
            "→ Sentence [0] finished: Waiting to avoid hitting rate limit ...\n",
            "→ Sentence [1] finished: Waiting to avoid hitting rate limit ...\n",
            "→ Sentence [2] finished: Waiting to avoid hitting rate limit ...\n",
            "→ Sentence [3] finished: Waiting to avoid hitting rate limit ...\n",
            "→ Sentence [4] finished: Waiting to avoid hitting rate limit ...\n"
          ]
        }
      ]
    },
    {
      "cell_type": "code",
      "source": [
        "for sample_sent, labeled_sent in zip(sample_set, labeled_sentences):\n",
        "  print_comparisons(test_sentence=sample_sent, llm_result=labeled_sent)\n",
        "  print('\\n---\\n')"
      ],
      "metadata": {
        "colab": {
          "base_uri": "https://localhost:8080/"
        },
        "id": "BZkiE1JSez6K",
        "outputId": "712339c5-e3a6-4c00-dd4a-87d7db846f34"
      },
      "execution_count": null,
      "outputs": [
        {
          "output_type": "stream",
          "name": "stdout",
          "text": [
            "Test Sentence:\n",
            "Lord Palmerſton iſt von hier nach Tiverton in Devonſhire abgereiſt.\n",
            "\n",
            "=== Entities (Human) ===\n",
            "Entity: Lord Palmerſton (Label: PER)\n",
            "Entity: Tiverton (Label: LOC)\n",
            "Entity: Devonſhire (Label: LOC)\n",
            "\n",
            "=== Entities (Spacy: de_core_news_md) ===\n",
            "Entity: Lord Palmerſton iſt (Label: PER)\n",
            "Entity: Tiverton (Label: LOC)\n",
            "Entity: Devonſhire abgereiſt (Label: LOC)\n",
            "\n",
            "=== Entities (LLM) ===\n",
            "Entity: Lord Palmerſton (Label: PER)\n",
            "Entity: Tiverton (Label: LOC)\n",
            "Entity: Devonſhire (Label: LOC)\n",
            "\n",
            "---\n",
            "\n",
            "Test Sentence:\n",
            "Dümmler, Linden Nr. 19, zu haben: Ueber die Bildung der Steinkohle, [1949] nach Lindley und Hutten mit Rückſicht auf andere darüber aufgeſtellte Anſichten.\n",
            "\n",
            "=== Entities (Human) ===\n",
            "Entity: Dümmler (Label: PER)\n",
            "Entity: Linden Nr. 19 (Label: LOC)\n",
            "Entity: Lindley (Label: PER)\n",
            "Entity: Hutten (Label: PER)\n",
            "\n",
            "=== Entities (Spacy: de_core_news_md) ===\n",
            "Entity: Dümmler (Label: LOC)\n",
            "Entity: Linden Nr. 19 (Label: MISC)\n",
            "Entity: Lindley (Label: LOC)\n",
            "Entity: Hutten (Label: LOC)\n",
            "Entity: Rückſicht (Label: LOC)\n",
            "Entity: Anſichten (Label: PER)\n",
            "\n",
            "=== Entities (LLM) ===\n",
            "Entity: Dümmler (Label: PER)\n",
            "Entity: Linden (Label: LOC)\n",
            "Entity: 1949 (Label: TIME)\n",
            "Entity: Lindley (Label: PER)\n",
            "Entity: Hutten (Label: PER)\n",
            "\n",
            "---\n",
            "\n",
            "Test Sentence:\n",
            "Am 14. Februar: v. Reiche, Major a. D, zuletzt in ehem. Hannov. Dienſten.\n",
            "\n",
            "=== Entities (Human) ===\n",
            "Entity: 14. Februar (Label: TIME)\n",
            "Entity: v. Reiche, Major a. D (Label: PER)\n",
            "\n",
            "=== Entities (Spacy: de_core_news_md) ===\n",
            "Entity: Hannov (Label: LOC)\n",
            "Entity: Dienſten (Label: LOC)\n",
            "\n",
            "=== Entities (LLM) ===\n",
            "Entity: 14. Februar (Label: TIME)\n",
            "Entity: v. Reiche (Label: PER)\n",
            "\n",
            "---\n",
            "\n",
            "Test Sentence:\n",
            "Abgereiſt: Der Großherzoglich Mecklenburg⸗Schwerinſche General⸗Major von Bothe, nach Schwerin.\n",
            "\n",
            "=== Entities (Human) ===\n",
            "Entity: Großherzoglich Mecklenburg⸗Schwerinſche General⸗Major von Bothe (Label: PER)\n",
            "Entity: Schwerin (Label: LOC)\n",
            "\n",
            "=== Entities (Spacy: de_core_news_md) ===\n",
            "Entity: Abgereiſt (Label: PER)\n",
            "Entity: Bothe (Label: PER)\n",
            "Entity: Schwerin (Label: LOC)\n",
            "\n",
            "=== Entities (LLM) ===\n",
            "Entity: Großherzoglich Mecklenburg⸗Schwerinſche General⸗Major von Bothe (Label: PER)\n",
            "Entity: Schwerin (Label: LOC)\n",
            "\n",
            "---\n",
            "\n",
            "Test Sentence:\n",
            "⸗ Daetweiler, Prenzlauerſtr. Nr. 22. \n",
            "\n",
            "=== Entities (Human) ===\n",
            "Entity: Daetweiler (Label: PER)\n",
            "Entity: Prenzlauerſtr. Nr. 22 (Label: LOC)\n",
            "\n",
            "=== Entities (Spacy: de_core_news_md) ===\n",
            "Entity: Daetweiler (Label: LOC)\n",
            "Entity: Prenzlauerſtr (Label: LOC)\n",
            "\n",
            "=== Entities (LLM) ===\n",
            "Entity: Daetweiler (Label: PER)\n",
            "\n",
            "---\n",
            "\n"
          ]
        }
      ]
    },
    {
      "cell_type": "markdown",
      "source": [
        "#### **Few-shot prompting** with **kNN retrieval** on example data\n",
        "\n",
        "In the previous section we **randomly** chose an example sentence from `example_data` to call our LLM. As we chose the example sentence blindly, it might not have been helpful at all in guiding the LLM response.\n",
        "\n",
        "To improve this we go a step further und implement a **[k-Nearest-Neighbor](https://en.wikipedia.org/wiki/K-nearest_neighbors_algorithm) retrieval** to select our sample sentence.\n",
        "\n",
        "Outline of our workflow:\n",
        "1. We **embed the input sentence** that we want to label using an embedding model from HuggingFace\n",
        "  * https://huggingface.co/nomic-ai/nomic-embed-text-v1.5\n",
        "2. We **embed the pool of example sentences** we previously created (our `example_data` dictionary)\n",
        "3. We return the **top 3 most similar sentences** to our input sentence using `cosine similarity`\n",
        "4. We choose the **most similar example sentence** to our input sentences and use it to query the LLM"
      ],
      "metadata": {
        "id": "z8brHKHcOKkl"
      }
    },
    {
      "cell_type": "code",
      "source": [
        "from sentence_transformers import SentenceTransformer"
      ],
      "metadata": {
        "id": "FzOePucw1LaK"
      },
      "execution_count": null,
      "outputs": []
    },
    {
      "cell_type": "code",
      "source": [
        "# Load embedding model\n",
        "embedding_model = SentenceTransformer(\"nomic-ai/nomic-embed-text-v1.5\", trust_remote_code=True)"
      ],
      "metadata": {
        "id": "vKVtrRS5P4Cb",
        "colab": {
          "base_uri": "https://localhost:8080/",
          "height": 703,
          "referenced_widgets": [
            "e234691287d64fc8a2c13e774c57fdd3",
            "1a7e7f24a14f4ede8b3a653393e694a5",
            "f117fcf2ec3144038480ef6056ef3f5f",
            "3d868d0fcdba49b8959e2b6d31d8324b",
            "b0e6ded5d8a24e02a1d31241f18da226",
            "7eaa42507c29480ca083b8cd5625ecfb",
            "c1cefac5e96043d18006ac625e2382c1",
            "33a49a74c5fd4a58a68ebae2cd94c98a",
            "8a37fd8437384d399b301801db068c3e",
            "ec3dc9c300574c89be22e39deedac7ee",
            "6cd09a122b5943b6a0192fef13d1aed0",
            "8ce9b75dc4154526a4936df674a58904",
            "5a0c2e9f02684af7ae3edd24f87c67b8",
            "bc2fd34201a7461aaf1c0afa694312b6",
            "cc7cabcdcc254bf1b601c7dd17fd3801",
            "eb864fdce37a40aeb8fd38b13d74b20e",
            "29e8a1bcfc474d558d048590b346d50d",
            "2dfd383aa1fa415f88220bc229d3841c",
            "71c6a39579f24ce7979caf5664c8ebe6",
            "4d7f12036aec4193b8c4ad24ab3d36d5",
            "6133e22714c34c20b632201f4c152b3c",
            "c14c310fd8aa419898ecc15745097581",
            "4665c41a4cd8480e91687219f75d97cf",
            "51612670c0e74a96833e223c287e29e4",
            "1c938b6dc2bc40139035b7ecc3c8e4dd",
            "a1399d07c2a147a1b7b980bc4d42b622",
            "d2738e854cfa4fdf949628a7f321c991",
            "5f5166be95c14aa3aa057f8b845b8506",
            "7951fdc62ca44c13bab1961b99fd49bb",
            "3ebadd8947994006901498980e008e49",
            "bd1f0e9c1b3b4668a8d28a1df3d0cf9a",
            "48913d09030843e38f39d8fbfb483293",
            "608df80170c14f82a07c23f6a90f7790",
            "16ee75248b7d44b1ab7119d415054427",
            "fb21c6e633c54bc6ab8447514af26346",
            "54c7448e231e440181dd0876154bb6cc",
            "0f7d2cbc6f9444b8b9ddd23edcb6f553",
            "03e8c0347b8a47809e5c5dfe4b4c349a",
            "99d7ed8ce97e4554b71ece7a9e1d67df",
            "55fa4f6ae2954319b0a2cf2e61318ff4",
            "f00122c4e9b74b42864b3875cffa2e42",
            "e75f4ec48d78406bb0870d543b06cd0d",
            "838d11c8bcc745e7ae9c921460b7df2b",
            "d0db0c70416b400c84cea612a392acf3",
            "56aac666704341dfb31afc0cf64cf539",
            "3ac97d4fb9bd4686868bd24bb297ab55",
            "62eb40d9946c475b9d70957e32ffca22",
            "f155fb2eb8af47798727cc47f5734131",
            "6a4e1668b544428b8a4f00abdd97ed45",
            "178bec7c146d451a904ca46e9f47b265",
            "285e03d3ae054101a046463d4537fb94",
            "596756df776c4bfd8e50f0a9201a0e04",
            "2521d5eab4d44c33b03d1093447f9bf1",
            "d0ed5802417d4461a659bfbed80286aa",
            "a4413a28c90d46aaa48b3044499c5906",
            "e69a4841de16471582d81495faa64ba6",
            "60e36a4aec734674b58e113a0992f937",
            "932d221eb6d542d6b454f92a5ed48422",
            "30278ed0b905413e9919f61fb58ca422",
            "d8a23e640fd5406897c99ada4e43260a",
            "fb3f47c14c824dbdb2e208490b5ce0c6",
            "34a594ef868b4c63a6f9a4abd3bf7fe9",
            "209a90ff0d594175b5eef05e7719696b",
            "8843cf87d3164509945f6d0b43a55d2e",
            "2b7e87d9b97840b3b20c6fa1bd57279c",
            "5668cf71afc245afa17082584f15e8d7",
            "1000b6182ffd44c2bf64faf755a21bdb",
            "6eed556f07434b979e90c1b13ab5bc7d",
            "f2dfee8140464d7d8efc34d2149c00a1",
            "52d9662d17f545939720e96f362ae74a",
            "c2631e74098445c3a6e18aedd387e316",
            "360de90d280e47ef99fc24662ff44337",
            "0bbeda44ce124b8b8f4db3f13449beb9",
            "df8d351efe314013b170a906c84eee3a",
            "5a5fa6620fad420f9999cb3c5b1c8bec",
            "dedf8d6763604f02b43f139f1b729f34",
            "e1d75faf13d44ccfb3cfd8bad4090edc",
            "f539b2170da24662844811a63c324bae",
            "628e8554fd484b5585567704f5d4ccd3",
            "be93e5e6e786484d87a35dc8df8ff62b",
            "dfe4c6e60d2b401da25b01704e394366",
            "ce93e1e26ddc495c850b96e0cddc4faa",
            "220c755a3fcc450c9daf1e92272a87c2",
            "784ff1e8aed34909a43570120cc7bd37",
            "0d58111465ee42a29030a4a90c2fdd3a",
            "63e38faba83d4b739c4749bc5ebfeca0",
            "1fc359a82d984dea9952cd548d8bab66",
            "db136c0ab9d94616b9fa6ed72dc6d75f",
            "ff86e4cdfc2740c1a47d3b21922c7446",
            "e0f9c08205be410ea7f0f254fbd9a952",
            "2d512a1b771f4b0e9ed76030f7ebbdef",
            "6b97d7fb0daf45a29f9a5986575f2368",
            "fd1fc81689b640f4aa4bc28b80f4fc79",
            "3b3ad9b4509f4e46881bb64c01fae0c7",
            "f7c5da38be90428a9c53bbf1d78165d8",
            "30ed1e3fea26460b83949269df4f8e43",
            "d76aafe32ed64cb1b5632d175ec620cb",
            "9f7309ac9311405ca7b85ec8084b7ba9",
            "40e38d8e57fd4324981f8fcb8dc4aef3",
            "fa3f52fb39984b6ea4262209e73eb816",
            "b735c01368c94503bd94f63319ba903b",
            "1feb392e72454f569eeaa8254adfa3c0",
            "93552e717e744fd8bef860e1cbba7c9f",
            "99be3bb3527a4da18e0dfc0daaf5e771",
            "cee81388bea041889306aa225e17c58f",
            "ce27430d37bb40c89de59ec39e7cb354",
            "0e4db8602be74082b9109a35e3f96f2b",
            "4315f0ba3e5541958d0d064dc2571a2d",
            "6778b32f3753475aba62fdb66cc21a03",
            "692cec62cafb4027b214e0eb6bfc3107",
            "8cfed014a6474a598970a9e04c82ef1b",
            "4e886ac9c8cf421d9763e6738942cfa8",
            "d657a3ec16314335bc4c39fd69793aee",
            "d6a9296bdb414482be75bc9e8300e514",
            "efa8c1c0d83c4dd79d12e0cc2ccc1b65",
            "ce180f2d0375473c9e2088b2c09747d7",
            "9f4c0ef32bfd4154a187fd2d958114aa",
            "9d4acd47e78e4c41a5da76ed30d405bd",
            "dc0dfc4e347b42c988c4e9a8d339dab5",
            "50bcd5aaf97044a1926c85794c199af9",
            "588eb84db66549a296115f5e3752ba1b",
            "af83919d9dfd471dab6a7f926a3c46ec",
            "52ca76da809b455682c0bc94a42fd8e6",
            "1680e3de95d84c929f8c7cc3af345793",
            "39d6be79e0a74a159f1cd1991e2b70ab",
            "bf5e55f60f4d4dc79c45af36ac6dd57b",
            "ab2e31e788c94fdead5ca75a4b5be9c7",
            "a58c5adecf1e4aa0b70c746a89a256cc",
            "f6e639029a9e4e129a772417c5a20bd8",
            "81088de91f5b46b6a0ee2fdf7d589b97",
            "0509c503c9c14763ba78b6c3b2afc427",
            "c1320871b62c481982813af4e3647651",
            "fa279e0446f743749aef1bc304b074ff",
            "1227011943c840adb9c7adfab42dae8e",
            "5067ebab0a554e469cb6a6e93ccb000c",
            "0dbe4f0d7dda46c8b1ce9db5023b4849",
            "3aa2ca3b5f2e416ba3a9b411e4ad38d3",
            "879b5495d5b344abb795590a890ebd62",
            "c4e7398c287249f88ddf7632662634ca",
            "a9c380474f40408e8bbb012537225d74",
            "03076ba917cc43839903f54e3412b263",
            "3a7bcae4039c45f98b226c4cb18ca7a8",
            "9f6c505f9fa2434f8ff96eaa7336ab44"
          ]
        },
        "outputId": "f69efffb-a79c-4d78-ec43-c17b78100108"
      },
      "execution_count": null,
      "outputs": [
        {
          "output_type": "stream",
          "name": "stderr",
          "text": [
            "/usr/local/lib/python3.11/dist-packages/huggingface_hub/utils/_auth.py:94: UserWarning: \n",
            "The secret `HF_TOKEN` does not exist in your Colab secrets.\n",
            "To authenticate with the Hugging Face Hub, create a token in your settings tab (https://huggingface.co/settings/tokens), set it as secret in your Google Colab and restart your session.\n",
            "You will be able to reuse this secret in all of your notebooks.\n",
            "Please note that authentication is recommended but still optional to access public models or datasets.\n",
            "  warnings.warn(\n"
          ]
        },
        {
          "output_type": "display_data",
          "data": {
            "text/plain": [
              "modules.json:   0%|          | 0.00/255 [00:00<?, ?B/s]"
            ],
            "application/vnd.jupyter.widget-view+json": {
              "version_major": 2,
              "version_minor": 0,
              "model_id": "e234691287d64fc8a2c13e774c57fdd3"
            }
          },
          "metadata": {}
        },
        {
          "output_type": "display_data",
          "data": {
            "text/plain": [
              "config_sentence_transformers.json:   0%|          | 0.00/140 [00:00<?, ?B/s]"
            ],
            "application/vnd.jupyter.widget-view+json": {
              "version_major": 2,
              "version_minor": 0,
              "model_id": "8ce9b75dc4154526a4936df674a58904"
            }
          },
          "metadata": {}
        },
        {
          "output_type": "display_data",
          "data": {
            "text/plain": [
              "README.md:   0%|          | 0.00/71.6k [00:00<?, ?B/s]"
            ],
            "application/vnd.jupyter.widget-view+json": {
              "version_major": 2,
              "version_minor": 0,
              "model_id": "4665c41a4cd8480e91687219f75d97cf"
            }
          },
          "metadata": {}
        },
        {
          "output_type": "display_data",
          "data": {
            "text/plain": [
              "sentence_bert_config.json:   0%|          | 0.00/120 [00:00<?, ?B/s]"
            ],
            "application/vnd.jupyter.widget-view+json": {
              "version_major": 2,
              "version_minor": 0,
              "model_id": "16ee75248b7d44b1ab7119d415054427"
            }
          },
          "metadata": {}
        },
        {
          "output_type": "display_data",
          "data": {
            "text/plain": [
              "config.json:   0%|          | 0.00/2.06k [00:00<?, ?B/s]"
            ],
            "application/vnd.jupyter.widget-view+json": {
              "version_major": 2,
              "version_minor": 0,
              "model_id": "56aac666704341dfb31afc0cf64cf539"
            }
          },
          "metadata": {}
        },
        {
          "output_type": "display_data",
          "data": {
            "text/plain": [
              "configuration_hf_nomic_bert.py:   0%|          | 0.00/1.96k [00:00<?, ?B/s]"
            ],
            "application/vnd.jupyter.widget-view+json": {
              "version_major": 2,
              "version_minor": 0,
              "model_id": "e69a4841de16471582d81495faa64ba6"
            }
          },
          "metadata": {}
        },
        {
          "output_type": "stream",
          "name": "stderr",
          "text": [
            "A new version of the following files was downloaded from https://huggingface.co/nomic-ai/nomic-bert-2048:\n",
            "- configuration_hf_nomic_bert.py\n",
            ". Make sure to double-check they do not contain any added malicious code. To avoid downloading new versions of the code file, you can pin a revision.\n"
          ]
        },
        {
          "output_type": "display_data",
          "data": {
            "text/plain": [
              "modeling_hf_nomic_bert.py:   0%|          | 0.00/103k [00:00<?, ?B/s]"
            ],
            "application/vnd.jupyter.widget-view+json": {
              "version_major": 2,
              "version_minor": 0,
              "model_id": "1000b6182ffd44c2bf64faf755a21bdb"
            }
          },
          "metadata": {}
        },
        {
          "output_type": "stream",
          "name": "stderr",
          "text": [
            "A new version of the following files was downloaded from https://huggingface.co/nomic-ai/nomic-bert-2048:\n",
            "- modeling_hf_nomic_bert.py\n",
            ". Make sure to double-check they do not contain any added malicious code. To avoid downloading new versions of the code file, you can pin a revision.\n",
            "WARNING:transformers_modules.nomic-ai.nomic-bert-2048.359596ab182dcf943b7ca9e3f8809b6c2eaf652f.modeling_hf_nomic_bert:!!!!!!!!!!!!megablocks not available, using torch.matmul instead\n"
          ]
        },
        {
          "output_type": "display_data",
          "data": {
            "text/plain": [
              "model.safetensors:   0%|          | 0.00/547M [00:00<?, ?B/s]"
            ],
            "application/vnd.jupyter.widget-view+json": {
              "version_major": 2,
              "version_minor": 0,
              "model_id": "f539b2170da24662844811a63c324bae"
            }
          },
          "metadata": {}
        },
        {
          "output_type": "stream",
          "name": "stderr",
          "text": [
            "WARNING:transformers_modules.nomic-ai.nomic-bert-2048.359596ab182dcf943b7ca9e3f8809b6c2eaf652f.modeling_hf_nomic_bert:<All keys matched successfully>\n"
          ]
        },
        {
          "output_type": "display_data",
          "data": {
            "text/plain": [
              "tokenizer_config.json:   0%|          | 0.00/1.19k [00:00<?, ?B/s]"
            ],
            "application/vnd.jupyter.widget-view+json": {
              "version_major": 2,
              "version_minor": 0,
              "model_id": "ff86e4cdfc2740c1a47d3b21922c7446"
            }
          },
          "metadata": {}
        },
        {
          "output_type": "display_data",
          "data": {
            "text/plain": [
              "vocab.txt:   0%|          | 0.00/232k [00:00<?, ?B/s]"
            ],
            "application/vnd.jupyter.widget-view+json": {
              "version_major": 2,
              "version_minor": 0,
              "model_id": "fa3f52fb39984b6ea4262209e73eb816"
            }
          },
          "metadata": {}
        },
        {
          "output_type": "display_data",
          "data": {
            "text/plain": [
              "tokenizer.json:   0%|          | 0.00/711k [00:00<?, ?B/s]"
            ],
            "application/vnd.jupyter.widget-view+json": {
              "version_major": 2,
              "version_minor": 0,
              "model_id": "8cfed014a6474a598970a9e04c82ef1b"
            }
          },
          "metadata": {}
        },
        {
          "output_type": "display_data",
          "data": {
            "text/plain": [
              "special_tokens_map.json:   0%|          | 0.00/695 [00:00<?, ?B/s]"
            ],
            "application/vnd.jupyter.widget-view+json": {
              "version_major": 2,
              "version_minor": 0,
              "model_id": "af83919d9dfd471dab6a7f926a3c46ec"
            }
          },
          "metadata": {}
        },
        {
          "output_type": "display_data",
          "data": {
            "text/plain": [
              "1_Pooling%2Fconfig.json:   0%|          | 0.00/286 [00:00<?, ?B/s]"
            ],
            "application/vnd.jupyter.widget-view+json": {
              "version_major": 2,
              "version_minor": 0,
              "model_id": "fa279e0446f743749aef1bc304b074ff"
            }
          },
          "metadata": {}
        }
      ]
    },
    {
      "cell_type": "code",
      "source": [
        "# Run annotation on sample set with kNN retrieval\n",
        "labeled_sentences = run_LLM_annotation(\n",
        "    sentences=sample_set,\n",
        "    example_data=example_data, # retrieve examples from example_data\n",
        "  \tmodel='groq/qwen-2.5-32b',\n",
        "    embedding_model=embedding_model, # pass embedding model\n",
        "    temperature=0.1\n",
        "  )"
      ],
      "metadata": {
        "colab": {
          "base_uri": "https://localhost:8080/"
        },
        "id": "RsSFZeRfu7OC",
        "outputId": "60fe512f-8242-44f4-ed74-3f3ed5172b54"
      },
      "execution_count": null,
      "outputs": [
        {
          "output_type": "stream",
          "name": "stdout",
          "text": [
            "→ Sentence [0] finished: Waiting to avoid hitting rate limit ...\n",
            "→ Sentence [1] finished: Waiting to avoid hitting rate limit ...\n",
            "→ Sentence [2] finished: Waiting to avoid hitting rate limit ...\n",
            "→ Sentence [3] finished: Waiting to avoid hitting rate limit ...\n",
            "→ Sentence [4] finished: Waiting to avoid hitting rate limit ...\n"
          ]
        }
      ]
    },
    {
      "cell_type": "code",
      "source": [
        "for sample_sent, labeled_sent in zip(sample_set, labeled_sentences):\n",
        "  print_comparisons(test_sentence=sample_sent, llm_result=labeled_sent)\n",
        "  print('\\n---\\n')"
      ],
      "metadata": {
        "colab": {
          "base_uri": "https://localhost:8080/"
        },
        "id": "PG7emEHqvcJk",
        "outputId": "819a9b02-6084-4399-9f4e-09e9cfce6b2b"
      },
      "execution_count": null,
      "outputs": [
        {
          "output_type": "stream",
          "name": "stdout",
          "text": [
            "Test Sentence:\n",
            "Lord Palmerſton iſt von hier nach Tiverton in Devonſhire abgereiſt.\n",
            "\n",
            "=== Entities (Human) ===\n",
            "Entity: Lord Palmerſton (Label: PER)\n",
            "Entity: Tiverton (Label: LOC)\n",
            "Entity: Devonſhire (Label: LOC)\n",
            "\n",
            "=== Entities (Spacy: de_core_news_md) ===\n",
            "Entity: Lord Palmerſton iſt (Label: PER)\n",
            "Entity: Tiverton (Label: LOC)\n",
            "Entity: Devonſhire abgereiſt (Label: LOC)\n",
            "\n",
            "=== Entities (LLM) ===\n",
            "Entity: Lord Palmerſton (Label: PER)\n",
            "Entity: Tiverton (Label: LOC)\n",
            "Entity: Devonſhire (Label: LOC)\n",
            "\n",
            "---\n",
            "\n",
            "Test Sentence:\n",
            "Dümmler, Linden Nr. 19, zu haben: Ueber die Bildung der Steinkohle, [1949] nach Lindley und Hutten mit Rückſicht auf andere darüber aufgeſtellte Anſichten.\n",
            "\n",
            "=== Entities (Human) ===\n",
            "Entity: Dümmler (Label: PER)\n",
            "Entity: Linden Nr. 19 (Label: LOC)\n",
            "Entity: Lindley (Label: PER)\n",
            "Entity: Hutten (Label: PER)\n",
            "\n",
            "=== Entities (Spacy: de_core_news_md) ===\n",
            "Entity: Dümmler (Label: LOC)\n",
            "Entity: Linden Nr. 19 (Label: MISC)\n",
            "Entity: Lindley (Label: LOC)\n",
            "Entity: Hutten (Label: LOC)\n",
            "Entity: Rückſicht (Label: LOC)\n",
            "Entity: Anſichten (Label: PER)\n",
            "\n",
            "=== Entities (LLM) ===\n",
            "Entity: Dümmler (Label: PER)\n",
            "Entity: Linden Nr. 19 (Label: LOC)\n",
            "Entity: 1949 (Label: TIME)\n",
            "Entity: Lindley (Label: PER)\n",
            "Entity: Hutten (Label: PER)\n",
            "\n",
            "---\n",
            "\n",
            "Test Sentence:\n",
            "Am 14. Februar: v. Reiche, Major a. D, zuletzt in ehem. Hannov. Dienſten.\n",
            "\n",
            "=== Entities (Human) ===\n",
            "Entity: 14. Februar (Label: TIME)\n",
            "Entity: v. Reiche, Major a. D (Label: PER)\n",
            "\n",
            "=== Entities (Spacy: de_core_news_md) ===\n",
            "Entity: Hannov (Label: LOC)\n",
            "Entity: Dienſten (Label: LOC)\n",
            "\n",
            "=== Entities (LLM) ===\n",
            "Entity: 14. Februar (Label: TIME)\n",
            "Entity: v. Reiche, Major a. D (Label: PER)\n",
            "\n",
            "---\n",
            "\n",
            "Test Sentence:\n",
            "Abgereiſt: Der Großherzoglich Mecklenburg⸗Schwerinſche General⸗Major von Bothe, nach Schwerin.\n",
            "\n",
            "=== Entities (Human) ===\n",
            "Entity: Großherzoglich Mecklenburg⸗Schwerinſche General⸗Major von Bothe (Label: PER)\n",
            "Entity: Schwerin (Label: LOC)\n",
            "\n",
            "=== Entities (Spacy: de_core_news_md) ===\n",
            "Entity: Abgereiſt (Label: PER)\n",
            "Entity: Bothe (Label: PER)\n",
            "Entity: Schwerin (Label: LOC)\n",
            "\n",
            "=== Entities (LLM) ===\n",
            "Entity: Großherzoglich Mecklenburg⸗Schwerinſche General⸺Major von Bothe (Label: PER)\n",
            "Entity: Schwerin (Label: LOC)\n",
            "\n",
            "---\n",
            "\n",
            "Test Sentence:\n",
            "⸗ Daetweiler, Prenzlauerſtr. Nr. 22. \n",
            "\n",
            "=== Entities (Human) ===\n",
            "Entity: Daetweiler (Label: PER)\n",
            "Entity: Prenzlauerſtr. Nr. 22 (Label: LOC)\n",
            "\n",
            "=== Entities (Spacy: de_core_news_md) ===\n",
            "Entity: Daetweiler (Label: LOC)\n",
            "Entity: Prenzlauerſtr (Label: LOC)\n",
            "\n",
            "=== Entities (LLM) ===\n",
            "Entity: Prenzlauerſtr. Nr. 22 (Label: LOC)\n",
            "\n",
            "---\n",
            "\n"
          ]
        }
      ]
    }
  ]
}